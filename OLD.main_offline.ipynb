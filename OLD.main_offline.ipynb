{
 "cells": [
  {
   "cell_type": "markdown",
   "id": "b3589a9a-ce16-4d2e-b581-d75139fc58b3",
   "metadata": {},
   "source": [
    "# Initialization"
   ]
  },
  {
   "cell_type": "code",
   "execution_count": 1,
   "id": "c6e28b2f-3822-4e27-b576-9bc42b279b32",
   "metadata": {},
   "outputs": [],
   "source": [
    "import logging\n",
    "\n",
    "import matplotlib.pyplot as plt\n",
    "import numpy as np\n",
    "import pandas as pd"
   ]
  },
  {
   "cell_type": "code",
   "execution_count": 2,
   "id": "4e53bc65-3e32-454b-b353-e9b95489c26c",
   "metadata": {},
   "outputs": [],
   "source": [
    "%matplotlib inline\n",
    "%config InlineBackend.figure_format = 'png'\n",
    "%config InlineBackend.figure_format = 'retina'"
   ]
  },
  {
   "cell_type": "markdown",
   "id": "e8b1d982-8795-45c2-b221-6e5a07eaa150",
   "metadata": {},
   "source": [
    "# Загрузка данных"
   ]
  },
  {
   "cell_type": "code",
   "execution_count": 3,
   "id": "6ab0db85-17df-4a4f-b23c-e9cd983d8c43",
   "metadata": {},
   "outputs": [],
   "source": [
    "items = pd.read_parquet('goodsread/items.parquet')\n",
    "events = pd.read_parquet('goodsread/events.parquet')"
   ]
  },
  {
   "cell_type": "markdown",
   "id": "f18f28dd-0371-4144-bf11-d077d44e8de0",
   "metadata": {},
   "source": [
    "# Разбиение с учётом хронологии"
   ]
  },
  {
   "cell_type": "markdown",
   "id": "47016708-6f94-4518-886c-58fa6e7bb315",
   "metadata": {},
   "source": [
    "Рекомендательные системы на практике работают с учётом хронологии. Поэтому поток событий для тренировки и валидации полезно делить на то, что уже случилось, и что ещё случится. Это позволяет проводить валидацию на тех же пользователях, на которых тренировались, но на их событиях в будущем."
   ]
  },
  {
   "cell_type": "markdown",
   "id": "e8df5897-bbcd-4364-b5d3-ec7d1de6743a",
   "metadata": {},
   "source": [
    "# === Знакомство: \"холодный\" старт"
   ]
  },
  {
   "cell_type": "code",
   "execution_count": 4,
   "id": "b6b2d6ff",
   "metadata": {},
   "outputs": [
    {
     "data": {
      "text/plain": [
       "{'user_id': 1229132,\n",
       " 'book_id': 22034,\n",
       " 'started_at': datetime.date(2015, 7, 12),\n",
       " 'read_at': datetime.date(2015, 7, 17),\n",
       " 'is_read': True,\n",
       " 'rating': 5,\n",
       " 'is_reviewed': False,\n",
       " 'started_at_month': datetime.date(2015, 7, 1)}"
      ]
     },
     "execution_count": 4,
     "metadata": {},
     "output_type": "execute_result"
    }
   ],
   "source": [
    "events.iloc[0].to_dict()"
   ]
  },
  {
   "cell_type": "markdown",
   "id": "2d6b2b25",
   "metadata": {},
   "source": [
    "Разбиение выборки (задание 2 из 6)"
   ]
  },
  {
   "cell_type": "code",
   "execution_count": 5,
   "id": "44c2a841",
   "metadata": {},
   "outputs": [
    {
     "name": "stdout",
     "output_type": "stream",
     "text": [
      "428220 123223 120858\n"
     ]
    }
   ],
   "source": [
    "# зададим точку разбиения\n",
    "train_test_global_time_split_date = pd.to_datetime('2017-08-01').date()\n",
    "\n",
    "train_test_global_time_split_idx = (\n",
    "    events[\"started_at\"] < train_test_global_time_split_date\n",
    ")\n",
    "\n",
    "events_train = events[train_test_global_time_split_idx]\n",
    "events_test = events[~train_test_global_time_split_idx]\n",
    "\n",
    "# количество пользователей в train и test\n",
    "users_train = events_train['user_id'].drop_duplicates()\n",
    "users_test = events_test['user_id'].drop_duplicates()\n",
    "\n",
    "# количество пользователей, которые есть и в train, и в test\n",
    "common_users = set(users_train) & set(users_test)\n",
    "\n",
    "print(len(users_train), len(users_test), len(common_users))"
   ]
  },
  {
   "cell_type": "markdown",
   "id": "1778939e",
   "metadata": {},
   "source": [
    "Идентифицируем холодных пользователей (задание 3 из 6)"
   ]
  },
  {
   "cell_type": "code",
   "execution_count": 6,
   "id": "4cb94a23-8d1d-4025-908f-f290013fa429",
   "metadata": {},
   "outputs": [
    {
     "name": "stdout",
     "output_type": "stream",
     "text": [
      "2365\n"
     ]
    }
   ],
   "source": [
    "cold_users = set(users_test) - common_users\n",
    "\n",
    "print(len(cold_users))"
   ]
  },
  {
   "cell_type": "markdown",
   "id": "b71dd818",
   "metadata": {},
   "source": [
    "Топ-100 наиболее популярных книг с 2015 года и со средней оценкой не меньше 4 (задание 4 из 6)"
   ]
  },
  {
   "cell_type": "code",
   "execution_count": 7,
   "id": "6f94990b-65c8-43cc-88da-ebe6a12163b4",
   "metadata": {},
   "outputs": [],
   "source": [
    "top_pop_start_date = pd.to_datetime('2015-01-01').date()\n",
    "\n",
    "item_popularity = (\n",
    "    events_train\n",
    "    .query('started_at >= @top_pop_start_date')\n",
    "    .groupby(['book_id'])\n",
    "    .agg(users=('user_id', 'nunique'), avg_rating=('rating', 'mean'))\n",
    "    .reset_index()\n",
    ")\n",
    "item_popularity['popularity_weighted'] = (\n",
    "    item_popularity['users'] * item_popularity['avg_rating']\n",
    ")"
   ]
  },
  {
   "cell_type": "code",
   "execution_count": 8,
   "id": "5da0f710",
   "metadata": {},
   "outputs": [
    {
     "data": {
      "text/html": [
       "<div>\n",
       "<style scoped>\n",
       "    .dataframe tbody tr th:only-of-type {\n",
       "        vertical-align: middle;\n",
       "    }\n",
       "\n",
       "    .dataframe tbody tr th {\n",
       "        vertical-align: top;\n",
       "    }\n",
       "\n",
       "    .dataframe thead th {\n",
       "        text-align: right;\n",
       "    }\n",
       "</style>\n",
       "<table border=\"1\" class=\"dataframe\">\n",
       "  <thead>\n",
       "    <tr style=\"text-align: right;\">\n",
       "      <th></th>\n",
       "      <th>book_id</th>\n",
       "      <th>users</th>\n",
       "      <th>avg_rating</th>\n",
       "      <th>popularity_weighted</th>\n",
       "    </tr>\n",
       "  </thead>\n",
       "  <tbody>\n",
       "    <tr>\n",
       "      <th>0</th>\n",
       "      <td>1</td>\n",
       "      <td>8728</td>\n",
       "      <td>4.796059</td>\n",
       "      <td>41860.0</td>\n",
       "    </tr>\n",
       "    <tr>\n",
       "      <th>1</th>\n",
       "      <td>2</td>\n",
       "      <td>9528</td>\n",
       "      <td>4.685873</td>\n",
       "      <td>44647.0</td>\n",
       "    </tr>\n",
       "    <tr>\n",
       "      <th>2</th>\n",
       "      <td>3</td>\n",
       "      <td>15139</td>\n",
       "      <td>4.706057</td>\n",
       "      <td>71245.0</td>\n",
       "    </tr>\n",
       "  </tbody>\n",
       "</table>\n",
       "</div>"
      ],
      "text/plain": [
       "   book_id  users  avg_rating  popularity_weighted\n",
       "0        1   8728    4.796059              41860.0\n",
       "1        2   9528    4.685873              44647.0\n",
       "2        3  15139    4.706057              71245.0"
      ]
     },
     "execution_count": 8,
     "metadata": {},
     "output_type": "execute_result"
    }
   ],
   "source": [
    "item_popularity.head(3)"
   ]
  },
  {
   "cell_type": "code",
   "execution_count": 9,
   "id": "3c1b116c",
   "metadata": {},
   "outputs": [
    {
     "data": {
      "text/html": [
       "<div>\n",
       "<style scoped>\n",
       "    .dataframe tbody tr th:only-of-type {\n",
       "        vertical-align: middle;\n",
       "    }\n",
       "\n",
       "    .dataframe tbody tr th {\n",
       "        vertical-align: top;\n",
       "    }\n",
       "\n",
       "    .dataframe thead th {\n",
       "        text-align: right;\n",
       "    }\n",
       "</style>\n",
       "<table border=\"1\" class=\"dataframe\">\n",
       "  <thead>\n",
       "    <tr style=\"text-align: right;\">\n",
       "      <th></th>\n",
       "      <th>book_id</th>\n",
       "      <th>users</th>\n",
       "      <th>avg_rating</th>\n",
       "      <th>popularity_weighted</th>\n",
       "    </tr>\n",
       "  </thead>\n",
       "  <tbody>\n",
       "    <tr>\n",
       "      <th>32387</th>\n",
       "      <td>18007564</td>\n",
       "      <td>20207</td>\n",
       "      <td>4.321275</td>\n",
       "      <td>87320.0</td>\n",
       "    </tr>\n",
       "    <tr>\n",
       "      <th>32623</th>\n",
       "      <td>18143977</td>\n",
       "      <td>19462</td>\n",
       "      <td>4.290669</td>\n",
       "      <td>83505.0</td>\n",
       "    </tr>\n",
       "    <tr>\n",
       "      <th>30695</th>\n",
       "      <td>16096824</td>\n",
       "      <td>16770</td>\n",
       "      <td>4.301014</td>\n",
       "      <td>72128.0</td>\n",
       "    </tr>\n",
       "  </tbody>\n",
       "</table>\n",
       "</div>"
      ],
      "text/plain": [
       "        book_id  users  avg_rating  popularity_weighted\n",
       "32387  18007564  20207    4.321275              87320.0\n",
       "32623  18143977  19462    4.290669              83505.0\n",
       "30695  16096824  16770    4.301014              72128.0"
      ]
     },
     "execution_count": 9,
     "metadata": {},
     "output_type": "execute_result"
    }
   ],
   "source": [
    "# сортируем по убыванию взвешенной популярности\n",
    "item_popularity = item_popularity.sort_values(\n",
    "    'popularity_weighted',\n",
    "    ascending=False\n",
    ")\n",
    "# выбираем первые 100 айтемов со средней оценкой avg_rating не меньше 4\n",
    "top_k_pop_items = (\n",
    "    item_popularity\n",
    "    .query('avg_rating >= 4')\n",
    "    .sort_values('popularity_weighted', ascending=False)\n",
    "    .head(100)\n",
    ")\n",
    "\n",
    "top_k_pop_items.head(3)"
   ]
  },
  {
   "cell_type": "code",
   "execution_count": 10,
   "id": "43d9d572",
   "metadata": {},
   "outputs": [],
   "source": [
    "# добавляем информацию о книгах\n",
    "if not set(top_k_pop_items.columns) & {\n",
    "    \"author\", \"title\", \"genre_and_votes\", \"publication_year\"\n",
    "}:\n",
    "    top_k_pop_items = top_k_pop_items.merge(\n",
    "        items.set_index(\"book_id\")[\n",
    "            [\"author\", \"title\", \"genre_and_votes\", \"publication_year\"]\n",
    "        ],\n",
    "        on=\"book_id\"\n",
    "    )\n",
    "\n",
    "# with pd.option_context('display.max_rows', 100):\n",
    "#     display(top_k_pop_items[[\"book_id\", \"author\", \"title\", \"publication_year\", \"users\", \"avg_rating\", \"popularity_weighted\", \"genre_and_votes\"]]) "
   ]
  },
  {
   "cell_type": "code",
   "execution_count": 11,
   "id": "89883f4c",
   "metadata": {},
   "outputs": [
    {
     "data": {
      "text/html": [
       "<div>\n",
       "<style scoped>\n",
       "    .dataframe tbody tr th:only-of-type {\n",
       "        vertical-align: middle;\n",
       "    }\n",
       "\n",
       "    .dataframe tbody tr th {\n",
       "        vertical-align: top;\n",
       "    }\n",
       "\n",
       "    .dataframe thead th {\n",
       "        text-align: right;\n",
       "    }\n",
       "</style>\n",
       "<table border=\"1\" class=\"dataframe\">\n",
       "  <thead>\n",
       "    <tr style=\"text-align: right;\">\n",
       "      <th></th>\n",
       "      <th>book_id</th>\n",
       "      <th>users</th>\n",
       "      <th>avg_rating</th>\n",
       "      <th>popularity_weighted</th>\n",
       "      <th>author</th>\n",
       "      <th>title</th>\n",
       "      <th>genre_and_votes</th>\n",
       "      <th>publication_year</th>\n",
       "    </tr>\n",
       "  </thead>\n",
       "  <tbody>\n",
       "    <tr>\n",
       "      <th>0</th>\n",
       "      <td>18007564</td>\n",
       "      <td>20207</td>\n",
       "      <td>4.321275</td>\n",
       "      <td>87320.0</td>\n",
       "      <td>Andy Weir</td>\n",
       "      <td>The Martian</td>\n",
       "      <td>{'Science Fiction': 11966, 'Fiction': 8430}</td>\n",
       "      <td>2014</td>\n",
       "    </tr>\n",
       "    <tr>\n",
       "      <th>1</th>\n",
       "      <td>18143977</td>\n",
       "      <td>19462</td>\n",
       "      <td>4.290669</td>\n",
       "      <td>83505.0</td>\n",
       "      <td>Anthony Doerr</td>\n",
       "      <td>All the Light We Cannot See</td>\n",
       "      <td>{'Historical-Historical Fiction': 13679, 'Fict...</td>\n",
       "      <td>2014</td>\n",
       "    </tr>\n",
       "    <tr>\n",
       "      <th>2</th>\n",
       "      <td>16096824</td>\n",
       "      <td>16770</td>\n",
       "      <td>4.301014</td>\n",
       "      <td>72128.0</td>\n",
       "      <td>Sarah J. Maas</td>\n",
       "      <td>A Court of Thorns and Roses (A Court of Thorns...</td>\n",
       "      <td>{'Fantasy': 14326, 'Young Adult': 4662, 'Roman...</td>\n",
       "      <td>2015</td>\n",
       "    </tr>\n",
       "  </tbody>\n",
       "</table>\n",
       "</div>"
      ],
      "text/plain": [
       "    book_id  users  avg_rating  popularity_weighted         author  \\\n",
       "0  18007564  20207    4.321275              87320.0      Andy Weir   \n",
       "1  18143977  19462    4.290669              83505.0  Anthony Doerr   \n",
       "2  16096824  16770    4.301014              72128.0  Sarah J. Maas   \n",
       "\n",
       "                                               title  \\\n",
       "0                                        The Martian   \n",
       "1                        All the Light We Cannot See   \n",
       "2  A Court of Thorns and Roses (A Court of Thorns...   \n",
       "\n",
       "                                     genre_and_votes  publication_year  \n",
       "0        {'Science Fiction': 11966, 'Fiction': 8430}              2014  \n",
       "1  {'Historical-Historical Fiction': 13679, 'Fict...              2014  \n",
       "2  {'Fantasy': 14326, 'Young Adult': 4662, 'Roman...              2015  "
      ]
     },
     "execution_count": 11,
     "metadata": {},
     "output_type": "execute_result"
    }
   ],
   "source": [
    "top_k_pop_items.head(3)"
   ]
  },
  {
   "cell_type": "markdown",
   "id": "51fc77e9",
   "metadata": {},
   "source": [
    "Задание 5 из 6"
   ]
  },
  {
   "cell_type": "code",
   "execution_count": 12,
   "id": "bf04d50f",
   "metadata": {},
   "outputs": [
    {
     "data": {
      "text/html": [
       "<div>\n",
       "<style scoped>\n",
       "    .dataframe tbody tr th:only-of-type {\n",
       "        vertical-align: middle;\n",
       "    }\n",
       "\n",
       "    .dataframe tbody tr th {\n",
       "        vertical-align: top;\n",
       "    }\n",
       "\n",
       "    .dataframe thead th {\n",
       "        text-align: right;\n",
       "    }\n",
       "</style>\n",
       "<table border=\"1\" class=\"dataframe\">\n",
       "  <thead>\n",
       "    <tr style=\"text-align: right;\">\n",
       "      <th></th>\n",
       "      <th>user_id</th>\n",
       "      <th>book_id</th>\n",
       "      <th>started_at</th>\n",
       "      <th>read_at</th>\n",
       "      <th>is_read</th>\n",
       "      <th>rating</th>\n",
       "      <th>is_reviewed</th>\n",
       "      <th>started_at_month</th>\n",
       "      <th>users</th>\n",
       "      <th>avg_rating</th>\n",
       "      <th>popularity_weighted</th>\n",
       "      <th>author</th>\n",
       "      <th>title</th>\n",
       "      <th>genre_and_votes</th>\n",
       "      <th>publication_year</th>\n",
       "    </tr>\n",
       "  </thead>\n",
       "  <tbody>\n",
       "    <tr>\n",
       "      <th>0</th>\n",
       "      <td>1361610</td>\n",
       "      <td>6900</td>\n",
       "      <td>2017-10-09</td>\n",
       "      <td>2017-10-13</td>\n",
       "      <td>True</td>\n",
       "      <td>4</td>\n",
       "      <td>False</td>\n",
       "      <td>2017-10-01</td>\n",
       "      <td>NaN</td>\n",
       "      <td>NaN</td>\n",
       "      <td>NaN</td>\n",
       "      <td>NaN</td>\n",
       "      <td>NaN</td>\n",
       "      <td>NaN</td>\n",
       "      <td>&lt;NA&gt;</td>\n",
       "    </tr>\n",
       "    <tr>\n",
       "      <th>1</th>\n",
       "      <td>1361610</td>\n",
       "      <td>12555</td>\n",
       "      <td>2017-09-21</td>\n",
       "      <td>2017-10-11</td>\n",
       "      <td>True</td>\n",
       "      <td>3</td>\n",
       "      <td>False</td>\n",
       "      <td>2017-09-01</td>\n",
       "      <td>NaN</td>\n",
       "      <td>NaN</td>\n",
       "      <td>NaN</td>\n",
       "      <td>NaN</td>\n",
       "      <td>NaN</td>\n",
       "      <td>NaN</td>\n",
       "      <td>&lt;NA&gt;</td>\n",
       "    </tr>\n",
       "    <tr>\n",
       "      <th>2</th>\n",
       "      <td>1361610</td>\n",
       "      <td>25899336</td>\n",
       "      <td>2017-09-12</td>\n",
       "      <td>2017-09-17</td>\n",
       "      <td>True</td>\n",
       "      <td>4</td>\n",
       "      <td>True</td>\n",
       "      <td>2017-09-01</td>\n",
       "      <td>4798.0</td>\n",
       "      <td>4.427261</td>\n",
       "      <td>21242.0</td>\n",
       "      <td>Paul Kalanithi</td>\n",
       "      <td>When Breath Becomes Air</td>\n",
       "      <td>{'Nonfiction': 5848, 'Autobiography-Memoir': 3...</td>\n",
       "      <td>&lt;NA&gt;</td>\n",
       "    </tr>\n",
       "  </tbody>\n",
       "</table>\n",
       "</div>"
      ],
      "text/plain": [
       "   user_id   book_id  started_at     read_at  is_read  rating  is_reviewed  \\\n",
       "0  1361610      6900  2017-10-09  2017-10-13     True       4        False   \n",
       "1  1361610     12555  2017-09-21  2017-10-11     True       3        False   \n",
       "2  1361610  25899336  2017-09-12  2017-09-17     True       4         True   \n",
       "\n",
       "  started_at_month   users  avg_rating  popularity_weighted          author  \\\n",
       "0       2017-10-01     NaN         NaN                  NaN             NaN   \n",
       "1       2017-09-01     NaN         NaN                  NaN             NaN   \n",
       "2       2017-09-01  4798.0    4.427261              21242.0  Paul Kalanithi   \n",
       "\n",
       "                     title                                    genre_and_votes  \\\n",
       "0                      NaN                                                NaN   \n",
       "1                      NaN                                                NaN   \n",
       "2  When Breath Becomes Air  {'Nonfiction': 5848, 'Autobiography-Memoir': 3...   \n",
       "\n",
       "   publication_year  \n",
       "0              <NA>  \n",
       "1              <NA>  \n",
       "2              <NA>  "
      ]
     },
     "execution_count": 12,
     "metadata": {},
     "output_type": "execute_result"
    }
   ],
   "source": [
    "# Для событий холодных пользователей добавляем данные из top100 (если есть)\n",
    "cold_users_events_with_recs = (\n",
    "    events_test[events_test['user_id'].isin(cold_users)]\n",
    "    .merge(top_k_pop_items, on='book_id', how=\"left\")\n",
    ")\n",
    "\n",
    "cold_users_events_with_recs.head(3)"
   ]
  },
  {
   "cell_type": "code",
   "execution_count": 13,
   "id": "2793ca25",
   "metadata": {},
   "outputs": [
    {
     "data": {
      "text/html": [
       "<div>\n",
       "<style scoped>\n",
       "    .dataframe tbody tr th:only-of-type {\n",
       "        vertical-align: middle;\n",
       "    }\n",
       "\n",
       "    .dataframe tbody tr th {\n",
       "        vertical-align: top;\n",
       "    }\n",
       "\n",
       "    .dataframe thead th {\n",
       "        text-align: right;\n",
       "    }\n",
       "</style>\n",
       "<table border=\"1\" class=\"dataframe\">\n",
       "  <thead>\n",
       "    <tr style=\"text-align: right;\">\n",
       "      <th></th>\n",
       "      <th>user_id</th>\n",
       "      <th>book_id</th>\n",
       "      <th>rating</th>\n",
       "      <th>avg_rating</th>\n",
       "    </tr>\n",
       "  </thead>\n",
       "  <tbody>\n",
       "    <tr>\n",
       "      <th>2</th>\n",
       "      <td>1361610</td>\n",
       "      <td>25899336</td>\n",
       "      <td>4</td>\n",
       "      <td>4.427261</td>\n",
       "    </tr>\n",
       "    <tr>\n",
       "      <th>5</th>\n",
       "      <td>1338996</td>\n",
       "      <td>16096824</td>\n",
       "      <td>5</td>\n",
       "      <td>4.301014</td>\n",
       "    </tr>\n",
       "    <tr>\n",
       "      <th>8</th>\n",
       "      <td>1338996</td>\n",
       "      <td>18692431</td>\n",
       "      <td>5</td>\n",
       "      <td>4.071454</td>\n",
       "    </tr>\n",
       "  </tbody>\n",
       "</table>\n",
       "</div>"
      ],
      "text/plain": [
       "   user_id   book_id  rating  avg_rating\n",
       "2  1361610  25899336       4    4.427261\n",
       "5  1338996  16096824       5    4.301014\n",
       "8  1338996  18692431       5    4.071454"
      ]
     },
     "execution_count": 13,
     "metadata": {},
     "output_type": "execute_result"
    }
   ],
   "source": [
    "# Индексы событий НЕ из top100\n",
    "cold_user_items_no_avg_rating_idx = (\n",
    "    cold_users_events_with_recs['avg_rating'].isnull()\n",
    ")\n",
    "# События холодных пользователей с книгами из top100\n",
    "cold_user_recs = (\n",
    "    cold_users_events_with_recs[~cold_user_items_no_avg_rating_idx]\n",
    "    [['user_id', 'book_id', 'rating', 'avg_rating']]\n",
    ")\n",
    "cold_user_recs.head(3)"
   ]
  },
  {
   "cell_type": "code",
   "execution_count": 14,
   "id": "0224dff0",
   "metadata": {},
   "outputs": [
    {
     "data": {
      "text/plain": [
       "1912"
      ]
     },
     "execution_count": 14,
     "metadata": {},
     "output_type": "execute_result"
    }
   ],
   "source": [
    "len(cold_user_recs)"
   ]
  },
  {
   "cell_type": "code",
   "execution_count": 15,
   "id": "699aa93d",
   "metadata": {},
   "outputs": [
    {
     "data": {
      "text/plain": [
       "9672"
      ]
     },
     "execution_count": 15,
     "metadata": {},
     "output_type": "execute_result"
    }
   ],
   "source": [
    "len(cold_users_events_with_recs)"
   ]
  },
  {
   "cell_type": "code",
   "execution_count": 16,
   "id": "0fa2a89e",
   "metadata": {},
   "outputs": [
    {
     "data": {
      "text/plain": [
       "7760"
      ]
     },
     "execution_count": 16,
     "metadata": {},
     "output_type": "execute_result"
    }
   ],
   "source": [
    "cold_user_items_no_avg_rating_idx.sum()"
   ]
  },
  {
   "cell_type": "code",
   "execution_count": 17,
   "id": "365eb63f",
   "metadata": {},
   "outputs": [
    {
     "data": {
      "text/plain": [
       "0.8023159636062862"
      ]
     },
     "execution_count": 17,
     "metadata": {},
     "output_type": "execute_result"
    }
   ],
   "source": [
    "1 - len(cold_user_recs) / len(cold_users_events_with_recs)"
   ]
  },
  {
   "cell_type": "markdown",
   "id": "18d9662c",
   "metadata": {},
   "source": [
    "Задание 6 из 6"
   ]
  },
  {
   "cell_type": "code",
   "execution_count": 18,
   "id": "eb83e34a",
   "metadata": {},
   "outputs": [
    {
     "name": "stdout",
     "output_type": "stream",
     "text": [
      "0.78 0.62\n"
     ]
    }
   ],
   "source": [
    "# посчитаем метрики рекомендаций\n",
    "from sklearn.metrics import mean_squared_error, mean_absolute_error\n",
    "\n",
    "rmse = mean_squared_error(\n",
    "    cold_user_recs['rating'], \n",
    "    cold_user_recs['avg_rating'],\n",
    "    squared=False\n",
    ")\n",
    "mae = mean_absolute_error(\n",
    "    cold_user_recs['rating'],\n",
    "    cold_user_recs['avg_rating']\n",
    ")\n",
    "print(round(rmse, 2), round(mae, 2)) "
   ]
  },
  {
   "cell_type": "markdown",
   "id": "77213293",
   "metadata": {},
   "source": [
    "Доп. код"
   ]
  },
  {
   "cell_type": "code",
   "execution_count": 19,
   "id": "eea0dc91",
   "metadata": {},
   "outputs": [
    {
     "name": "stdout",
     "output_type": "stream",
     "text": [
      "Доля пользователей без релевантных рекомендаций: 0.59\n",
      "Среднее покрытие пользователей: 0.44\n"
     ]
    }
   ],
   "source": [
    "# посчитаем покрытие холодных пользователей рекомендациями\n",
    "\n",
    "cold_users_hit_ratio = (\n",
    "    cold_users_events_with_recs\n",
    "    .groupby(\"user_id\")\n",
    "    .agg(hits=(\"avg_rating\", lambda x: (~x.isnull()).mean()))\n",
    ")\n",
    "\n",
    "print(f\"Доля пользователей без релевантных рекомендаций: {(cold_users_hit_ratio == 0).mean().iat[0]:.2f}\")\n",
    "print(f\"Среднее покрытие пользователей: {cold_users_hit_ratio[cold_users_hit_ratio != 0].mean().iat[0]:.2f}\") "
   ]
  },
  {
   "cell_type": "markdown",
   "id": "65ef157d-dd5a-4882-8208-40cd9cdfebfc",
   "metadata": {},
   "source": [
    "# === Знакомство: первые персональные рекомендации"
   ]
  },
  {
   "cell_type": "markdown",
   "id": "d5a88a6e",
   "metadata": {},
   "source": [
    "Задание 0 - степень разреженнности матрицы"
   ]
  },
  {
   "cell_type": "code",
   "execution_count": 20,
   "id": "b687dc99-9aee-472f-9730-d5f17df99c7e",
   "metadata": {},
   "outputs": [
    {
     "data": {
      "text/plain": [
       "(43312, 430585)"
      ]
     },
     "execution_count": 20,
     "metadata": {},
     "output_type": "execute_result"
    }
   ],
   "source": [
    "# Кол-во книг(айтемов) и пользователей\n",
    "(items['book_id'].nunique(), events['user_id'].nunique())"
   ]
  },
  {
   "cell_type": "code",
   "execution_count": 21,
   "id": "edaa407a",
   "metadata": {},
   "outputs": [
    {
     "data": {
      "text/plain": [
       "0.9993698979831817"
      ]
     },
     "execution_count": 21,
     "metadata": {},
     "output_type": "execute_result"
    }
   ],
   "source": [
    "1 - len(events) / (items['book_id'].nunique() * events['user_id'].nunique())"
   ]
  },
  {
   "cell_type": "markdown",
   "id": "1d02a5de",
   "metadata": {},
   "source": [
    "Реализация SVD-алгоритма"
   ]
  },
  {
   "cell_type": "code",
   "execution_count": 22,
   "id": "bc62fbc2-36de-4ccb-bd2f-33594eafa2ff",
   "metadata": {},
   "outputs": [
    {
     "data": {
      "text/plain": [
       "<surprise.prediction_algorithms.matrix_factorization.SVD at 0x7f556f723670>"
      ]
     },
     "execution_count": 22,
     "metadata": {},
     "output_type": "execute_result"
    }
   ],
   "source": [
    "from surprise import Dataset, Reader\n",
    "from surprise import SVD\n",
    "\n",
    "# используем Reader из библиотеки surprise для преобразования событий (events)\n",
    "# в формат, необходимый surprise\n",
    "reader = Reader(rating_scale=(1, 5))\n",
    "surprise_train_set = Dataset.load_from_df(\n",
    "    events_train[['user_id', 'book_id', 'rating']],\n",
    "    reader\n",
    ")\n",
    "surprise_train_set = surprise_train_set.build_full_trainset()\n",
    "\n",
    "# инициализируем модель\n",
    "svd_model = SVD(n_factors=100, random_state=0)\n",
    "\n",
    "# обучаем модель\n",
    "svd_model.fit(surprise_train_set)"
   ]
  },
  {
   "cell_type": "code",
   "execution_count": 23,
   "id": "4e804e6f-3348-407c-aa3c-fc50b6045d8d",
   "metadata": {},
   "outputs": [],
   "source": [
    "surprise_test_set = list(\n",
    "    events_test[['user_id', 'book_id', 'rating']].itertuples(index=False)\n",
    ")\n",
    "\n",
    "# получаем рекомендации для тестовой выборки\n",
    "svd_predictions = svd_model.test(surprise_test_set) "
   ]
  },
  {
   "cell_type": "code",
   "execution_count": 24,
   "id": "06d15b10",
   "metadata": {},
   "outputs": [
    {
     "name": "stdout",
     "output_type": "stream",
     "text": [
      "RMSE: 0.8289\n",
      "MAE:  0.6474\n",
      "0.8288711689059135 0.647437483750257\n"
     ]
    }
   ],
   "source": [
    "# Расчет метрик встроенными методами библиотеки surprise\n",
    "from surprise import accuracy\n",
    "\n",
    "rmse = accuracy.rmse(svd_predictions)\n",
    "mae = accuracy.mae(svd_predictions)\n",
    "                     \n",
    "print(rmse, mae) "
   ]
  },
  {
   "cell_type": "markdown",
   "id": "e41d0924",
   "metadata": {},
   "source": [
    "Для генерации случайных рекомендаций библиотека surprise предлагает класс NormalPredictor, который выдаёт случайные рейтинги из нормального распределения."
   ]
  },
  {
   "cell_type": "code",
   "execution_count": 25,
   "id": "55ea40c5",
   "metadata": {},
   "outputs": [],
   "source": [
    "from surprise import NormalPredictor\n",
    "\n",
    "# инициализируем состояние генератора, это необходимо для получения\n",
    "# одной и той же последовательности случайных чисел, только в учебных целях\n",
    "np.random.seed(0)\n",
    "\n",
    "random_model = NormalPredictor()\n",
    "\n",
    "random_model.fit(surprise_train_set)\n",
    "random_predictions = random_model.test(surprise_test_set) "
   ]
  },
  {
   "cell_type": "code",
   "execution_count": 26,
   "id": "0d7dc430",
   "metadata": {},
   "outputs": [
    {
     "name": "stdout",
     "output_type": "stream",
     "text": [
      "MAE:  1.0018\n"
     ]
    }
   ],
   "source": [
    "# Оценка метрик для случайных рейтингов\n",
    "mae_random = accuracy.mae(random_predictions)"
   ]
  },
  {
   "cell_type": "markdown",
   "id": "4d09bd40",
   "metadata": {},
   "source": [
    "На сколько процентов MAE для случайных рекомендаций от NormalPredictor выше значения MAE от SVD? Ответ округлите до десятых."
   ]
  },
  {
   "cell_type": "code",
   "execution_count": 27,
   "id": "5dd0504c",
   "metadata": {},
   "outputs": [
    {
     "data": {
      "text/plain": [
       "54.72886771309964"
      ]
     },
     "execution_count": 27,
     "metadata": {},
     "output_type": "execute_result"
    }
   ],
   "source": [
    "(mae_random - mae) / mae * 100"
   ]
  },
  {
   "cell_type": "markdown",
   "id": "c086c3df",
   "metadata": {},
   "source": [
    "### Факультатив"
   ]
  },
  {
   "cell_type": "markdown",
   "id": "d14cc0ce",
   "metadata": {},
   "source": [
    "Факультативное задание\n",
    "Задание. Удалите из events события для редких айтемов — таких, с которыми взаимодействовало менее N пользователей. Возьмите небольшое N, например 2–3 пользователя. Получите рекомендации, посчитайте метрики, оцените, как они изменились. Подумайте, с чем могут быть связаны такие изменения."
   ]
  },
  {
   "cell_type": "raw",
   "id": "fe23d35c",
   "metadata": {
    "vscode": {
     "languageId": "raw"
    }
   },
   "source": [
    "# Items с которыми провзаимодействовало более 3 пользователей\n",
    "non_rare_item_ids = (\n",
    "    events.groupby('book_id').agg(rating_count=('rating', 'count'))\n",
    "    .query('rating_count > 3')\n",
    "    .index\n",
    ")"
   ]
  },
  {
   "cell_type": "raw",
   "id": "23f4f49f",
   "metadata": {
    "vscode": {
     "languageId": "raw"
    }
   },
   "source": [
    "events_train_non_rare = events_train.query('book_id in @non_rare_item_ids')\n",
    "event_test_non_rare = events_test.query('book_id in @non_rare_item_ids')"
   ]
  },
  {
   "cell_type": "markdown",
   "id": "e8d313a0",
   "metadata": {},
   "source": [
    "Повторяем SVD предсказания для нередких айтемов"
   ]
  },
  {
   "cell_type": "raw",
   "id": "d6049200",
   "metadata": {
    "vscode": {
     "languageId": "raw"
    }
   },
   "source": [
    "# используем Reader из библиотеки surprise для преобразования событий (events)\n",
    "# в формат, необходимый surprise\n",
    "reader = Reader(rating_scale=(1, 5))\n",
    "non_rare_train_set = Dataset.load_from_df(\n",
    "    events_train_non_rare[['user_id', 'book_id', 'rating']],\n",
    "    reader\n",
    ")\n",
    "non_rare_train_set = non_rare_train_set.build_full_trainset()\n",
    "\n",
    "# инициализируем модель\n",
    "non_rare_svd_model = SVD(n_factors=100, random_state=0)\n",
    "\n",
    "# обучаем модель\n",
    "non_rare_svd_model.fit(non_rare_train_set)"
   ]
  },
  {
   "cell_type": "raw",
   "id": "fc9f1c97",
   "metadata": {
    "vscode": {
     "languageId": "raw"
    }
   },
   "source": [
    "non_rare_test_set = list(\n",
    "    event_test_non_rare[['user_id', 'book_id', 'rating']]\n",
    "    .itertuples(index=False)\n",
    ")\n",
    "\n",
    "# получаем рекомендации для тестовой выборки\n",
    "non_rare_svd_predictions = non_rare_svd_model.test(non_rare_test_set)"
   ]
  },
  {
   "cell_type": "raw",
   "id": "f02d902a",
   "metadata": {
    "vscode": {
     "languageId": "raw"
    }
   },
   "source": [
    "# Расчет метрик встроенными методами библиотеки surprise\n",
    "rmse_non_rare = accuracy.rmse(non_rare_svd_predictions)\n",
    "mae_non_rare = accuracy.mae(non_rare_svd_predictions)\n",
    "                     \n",
    "print(rmse_non_rare, mae_non_rare) "
   ]
  },
  {
   "cell_type": "markdown",
   "id": "cc7c3985",
   "metadata": {},
   "source": [
    "## Получение рекомендаций"
   ]
  },
  {
   "cell_type": "code",
   "execution_count": 28,
   "id": "3981349e",
   "metadata": {},
   "outputs": [],
   "source": [
    "def get_recommendations_svd(\n",
    "        user_id,\n",
    "        # all_items,\n",
    "        events,\n",
    "        model,\n",
    "        include_seen=True,\n",
    "        n=5\n",
    "    ):\n",
    "    \"\"\" возвращает n рекомендаций для user_id \"\"\"\n",
    "\n",
    "    # получим множество идентификаторов всех книг\n",
    "    all_items = set(events['book_id'].unique())\n",
    "\n",
    "    # учитываем флаг, стоит ли уже прочитанные книги включать в рекомендации\n",
    "    if include_seen:\n",
    "        items_to_predict = list(all_items)\n",
    "    else:\n",
    "        # получим список книг, которые пользователь уже прочитал (\"видел\")\n",
    "        seen_items = set(events[events['user_id'] == user_id]['item_id']\n",
    "                         .unique())\n",
    "        \n",
    "        # книги, которые пользователь ещё не читал\n",
    "        # только их и будем включать в рекомендации\n",
    "        items_to_predict = list(all_items - seen_items)\n",
    "    \n",
    "    # получаем скоры для списка книг, т. е. рекомендации\n",
    "    predictions = [\n",
    "        model.predict(user_id, item_id) for item_id in items_to_predict\n",
    "    ]\n",
    "    \n",
    "    # сортируем рекомендации по убыванию скора и берём только n первых\n",
    "    recommendations = sorted(predictions, key=lambda x: x.est, reverse=True)[:n]\n",
    "    \n",
    "    return pd.DataFrame([(pred.iid, pred.est) for pred in recommendations], columns=[\"book_id\", \"score\"]) "
   ]
  },
  {
   "cell_type": "code",
   "execution_count": 29,
   "id": "0e97c143",
   "metadata": {},
   "outputs": [
    {
     "data": {
      "text/html": [
       "<div>\n",
       "<style scoped>\n",
       "    .dataframe tbody tr th:only-of-type {\n",
       "        vertical-align: middle;\n",
       "    }\n",
       "\n",
       "    .dataframe tbody tr th {\n",
       "        vertical-align: top;\n",
       "    }\n",
       "\n",
       "    .dataframe thead th {\n",
       "        text-align: right;\n",
       "    }\n",
       "</style>\n",
       "<table border=\"1\" class=\"dataframe\">\n",
       "  <thead>\n",
       "    <tr style=\"text-align: right;\">\n",
       "      <th></th>\n",
       "      <th>book_id</th>\n",
       "      <th>score</th>\n",
       "    </tr>\n",
       "  </thead>\n",
       "  <tbody>\n",
       "    <tr>\n",
       "      <th>0</th>\n",
       "      <td>24812</td>\n",
       "      <td>5.000000</td>\n",
       "    </tr>\n",
       "    <tr>\n",
       "      <th>1</th>\n",
       "      <td>7864312</td>\n",
       "      <td>4.981188</td>\n",
       "    </tr>\n",
       "    <tr>\n",
       "      <th>2</th>\n",
       "      <td>25793186</td>\n",
       "      <td>4.912001</td>\n",
       "    </tr>\n",
       "    <tr>\n",
       "      <th>3</th>\n",
       "      <td>12174312</td>\n",
       "      <td>4.898052</td>\n",
       "    </tr>\n",
       "    <tr>\n",
       "      <th>4</th>\n",
       "      <td>13208</td>\n",
       "      <td>4.894869</td>\n",
       "    </tr>\n",
       "  </tbody>\n",
       "</table>\n",
       "</div>"
      ],
      "text/plain": [
       "    book_id     score\n",
       "0     24812  5.000000\n",
       "1   7864312  4.981188\n",
       "2  25793186  4.912001\n",
       "3  12174312  4.898052\n",
       "4     13208  4.894869"
      ]
     },
     "execution_count": 29,
     "metadata": {},
     "output_type": "execute_result"
    }
   ],
   "source": [
    "get_recommendations_svd(1296647, events_train, svd_model)"
   ]
  },
  {
   "cell_type": "markdown",
   "id": "642a1826",
   "metadata": {},
   "source": [
    "Дополнительная проверка качества рекомендаций"
   ]
  },
  {
   "cell_type": "code",
   "execution_count": 30,
   "id": "61c28868",
   "metadata": {},
   "outputs": [
    {
     "name": "stdout",
     "output_type": "stream",
     "text": [
      "user_id: 1169023\n",
      "История (последние события, recent)\n"
     ]
    },
    {
     "data": {
      "text/html": [
       "<div>\n",
       "<style scoped>\n",
       "    .dataframe tbody tr th:only-of-type {\n",
       "        vertical-align: middle;\n",
       "    }\n",
       "\n",
       "    .dataframe tbody tr th {\n",
       "        vertical-align: top;\n",
       "    }\n",
       "\n",
       "    .dataframe thead th {\n",
       "        text-align: right;\n",
       "    }\n",
       "</style>\n",
       "<table border=\"1\" class=\"dataframe\">\n",
       "  <thead>\n",
       "    <tr style=\"text-align: right;\">\n",
       "      <th></th>\n",
       "      <th>author</th>\n",
       "      <th>title</th>\n",
       "      <th>started_at</th>\n",
       "      <th>read_at</th>\n",
       "      <th>rating</th>\n",
       "      <th>genre_and_votes</th>\n",
       "    </tr>\n",
       "  </thead>\n",
       "  <tbody>\n",
       "    <tr>\n",
       "      <th>68</th>\n",
       "      <td>Veronica Roth</td>\n",
       "      <td>Divergent (Divergent, #1)</td>\n",
       "      <td>2014-06-02</td>\n",
       "      <td>2014-06-04</td>\n",
       "      <td>4</td>\n",
       "      <td>{'Young Adult': 20260, 'Science Fiction-Dystop...</td>\n",
       "    </tr>\n",
       "    <tr>\n",
       "      <th>69</th>\n",
       "      <td>Gillian Flynn, В. Русанов</td>\n",
       "      <td>Gone Girl</td>\n",
       "      <td>2014-05-27</td>\n",
       "      <td>2014-05-29</td>\n",
       "      <td>5</td>\n",
       "      <td>{'Fiction': 11773, 'Mystery': 9965, 'Thriller'...</td>\n",
       "    </tr>\n",
       "    <tr>\n",
       "      <th>70</th>\n",
       "      <td>Kathy Reichs</td>\n",
       "      <td>Death du Jour (Temperance Brennan, #2)</td>\n",
       "      <td>2014-05-24</td>\n",
       "      <td>2014-05-27</td>\n",
       "      <td>4</td>\n",
       "      <td>{'Mystery': 1206, 'Mystery-Crime': 579, 'Ficti...</td>\n",
       "    </tr>\n",
       "    <tr>\n",
       "      <th>71</th>\n",
       "      <td>Chelsea Cain</td>\n",
       "      <td>Heartsick (Archie Sheridan &amp; Gretchen Lowell, #1)</td>\n",
       "      <td>2014-05-22</td>\n",
       "      <td>2014-05-22</td>\n",
       "      <td>5</td>\n",
       "      <td>{'Mystery': 832, 'Thriller': 653, 'Fiction': 4...</td>\n",
       "    </tr>\n",
       "    <tr>\n",
       "      <th>72</th>\n",
       "      <td>Jussi Adler-Olsen, Lisa Hartford</td>\n",
       "      <td>The Keeper of Lost Causes (Department Q, #1)</td>\n",
       "      <td>2014-05-30</td>\n",
       "      <td>2014-06-02</td>\n",
       "      <td>3</td>\n",
       "      <td>{'Mystery': 1225, 'Mystery-Crime': 627, 'Ficti...</td>\n",
       "    </tr>\n",
       "    <tr>\n",
       "      <th>73</th>\n",
       "      <td>Gillian Flynn</td>\n",
       "      <td>Dark Places</td>\n",
       "      <td>2014-05-17</td>\n",
       "      <td>2014-05-22</td>\n",
       "      <td>4</td>\n",
       "      <td>{'Mystery': 4534, 'Fiction': 4055, 'Thriller':...</td>\n",
       "    </tr>\n",
       "    <tr>\n",
       "      <th>74</th>\n",
       "      <td>Audrey Niffenegger</td>\n",
       "      <td>Her Fearful Symmetry</td>\n",
       "      <td>2014-05-05</td>\n",
       "      <td>2014-05-08</td>\n",
       "      <td>2</td>\n",
       "      <td>{'Fiction': 1984, 'Fantasy': 674, 'Fantasy-Par...</td>\n",
       "    </tr>\n",
       "    <tr>\n",
       "      <th>75</th>\n",
       "      <td>Kathy Reichs</td>\n",
       "      <td>Déjà Dead (Temperance Brennan, #1)</td>\n",
       "      <td>2014-05-13</td>\n",
       "      <td>2014-05-17</td>\n",
       "      <td>4</td>\n",
       "      <td>{'Mystery': 2141, 'Fiction': 904, 'Mystery-Cri...</td>\n",
       "    </tr>\n",
       "    <tr>\n",
       "      <th>76</th>\n",
       "      <td>Carolyn Parkhurst</td>\n",
       "      <td>The Dogs of Babel</td>\n",
       "      <td>2014-05-09</td>\n",
       "      <td>2014-05-10</td>\n",
       "      <td>5</td>\n",
       "      <td>{'Fiction': 522, 'Mystery': 102, 'Animals': 77...</td>\n",
       "    </tr>\n",
       "    <tr>\n",
       "      <th>77</th>\n",
       "      <td>George R.R. Martin</td>\n",
       "      <td>A Dance with Dragons (A Song of Ice and Fire, #5)</td>\n",
       "      <td>2014-05-04</td>\n",
       "      <td>2014-05-04</td>\n",
       "      <td>5</td>\n",
       "      <td>{'Fantasy': 22247, 'Fiction': 4512, 'Fantasy-E...</td>\n",
       "    </tr>\n",
       "  </tbody>\n",
       "</table>\n",
       "</div>"
      ],
      "text/plain": [
       "                              author  \\\n",
       "68                     Veronica Roth   \n",
       "69         Gillian Flynn, В. Русанов   \n",
       "70                      Kathy Reichs   \n",
       "71                      Chelsea Cain   \n",
       "72  Jussi Adler-Olsen, Lisa Hartford   \n",
       "73                     Gillian Flynn   \n",
       "74                Audrey Niffenegger   \n",
       "75                      Kathy Reichs   \n",
       "76                 Carolyn Parkhurst   \n",
       "77                George R.R. Martin   \n",
       "\n",
       "                                                title  started_at     read_at  \\\n",
       "68                          Divergent (Divergent, #1)  2014-06-02  2014-06-04   \n",
       "69                                          Gone Girl  2014-05-27  2014-05-29   \n",
       "70             Death du Jour (Temperance Brennan, #2)  2014-05-24  2014-05-27   \n",
       "71  Heartsick (Archie Sheridan & Gretchen Lowell, #1)  2014-05-22  2014-05-22   \n",
       "72       The Keeper of Lost Causes (Department Q, #1)  2014-05-30  2014-06-02   \n",
       "73                                        Dark Places  2014-05-17  2014-05-22   \n",
       "74                               Her Fearful Symmetry  2014-05-05  2014-05-08   \n",
       "75                 Déjà Dead (Temperance Brennan, #1)  2014-05-13  2014-05-17   \n",
       "76                                  The Dogs of Babel  2014-05-09  2014-05-10   \n",
       "77  A Dance with Dragons (A Song of Ice and Fire, #5)  2014-05-04  2014-05-04   \n",
       "\n",
       "    rating                                    genre_and_votes  \n",
       "68       4  {'Young Adult': 20260, 'Science Fiction-Dystop...  \n",
       "69       5  {'Fiction': 11773, 'Mystery': 9965, 'Thriller'...  \n",
       "70       4  {'Mystery': 1206, 'Mystery-Crime': 579, 'Ficti...  \n",
       "71       5  {'Mystery': 832, 'Thriller': 653, 'Fiction': 4...  \n",
       "72       3  {'Mystery': 1225, 'Mystery-Crime': 627, 'Ficti...  \n",
       "73       4  {'Mystery': 4534, 'Fiction': 4055, 'Thriller':...  \n",
       "74       2  {'Fiction': 1984, 'Fantasy': 674, 'Fantasy-Par...  \n",
       "75       4  {'Mystery': 2141, 'Fiction': 904, 'Mystery-Cri...  \n",
       "76       5  {'Fiction': 522, 'Mystery': 102, 'Animals': 77...  \n",
       "77       5  {'Fantasy': 22247, 'Fiction': 4512, 'Fantasy-E...  "
      ]
     },
     "metadata": {},
     "output_type": "display_data"
    },
    {
     "name": "stdout",
     "output_type": "stream",
     "text": [
      "Рекомендации\n"
     ]
    },
    {
     "data": {
      "text/html": [
       "<div>\n",
       "<style scoped>\n",
       "    .dataframe tbody tr th:only-of-type {\n",
       "        vertical-align: middle;\n",
       "    }\n",
       "\n",
       "    .dataframe tbody tr th {\n",
       "        vertical-align: top;\n",
       "    }\n",
       "\n",
       "    .dataframe thead th {\n",
       "        text-align: right;\n",
       "    }\n",
       "</style>\n",
       "<table border=\"1\" class=\"dataframe\">\n",
       "  <thead>\n",
       "    <tr style=\"text-align: right;\">\n",
       "      <th></th>\n",
       "      <th>book_id</th>\n",
       "      <th>score</th>\n",
       "      <th>author</th>\n",
       "      <th>title</th>\n",
       "      <th>genre_and_votes</th>\n",
       "    </tr>\n",
       "  </thead>\n",
       "  <tbody>\n",
       "    <tr>\n",
       "      <th>0</th>\n",
       "      <td>2199</td>\n",
       "      <td>5</td>\n",
       "      <td>Doris Kearns Goodwin</td>\n",
       "      <td>Team of Rivals: The Political Genius of Abraha...</td>\n",
       "      <td>{'History': 4174, 'Nonfiction': 2127, 'Biograp...</td>\n",
       "    </tr>\n",
       "    <tr>\n",
       "      <th>1</th>\n",
       "      <td>16255632</td>\n",
       "      <td>5</td>\n",
       "      <td>David Gaider, Ben Gelinas, Mike Laidlaw, Dave ...</td>\n",
       "      <td>Dragon Age: The World of Thedas Volume 1</td>\n",
       "      <td>{'Fantasy': 134, 'Games-Video Games': 28, 'Art...</td>\n",
       "    </tr>\n",
       "    <tr>\n",
       "      <th>2</th>\n",
       "      <td>2363958</td>\n",
       "      <td>5</td>\n",
       "      <td>João Guimarães Rosa</td>\n",
       "      <td>Grande Sertão: Veredas</td>\n",
       "      <td>{'Fiction': 85, 'Classics': 69, 'Cultural-Braz...</td>\n",
       "    </tr>\n",
       "    <tr>\n",
       "      <th>3</th>\n",
       "      <td>22552026</td>\n",
       "      <td>5</td>\n",
       "      <td>Jason Reynolds</td>\n",
       "      <td>Long Way Down</td>\n",
       "      <td>{'Young Adult': 1871, 'Poetry': 1737, 'Contemp...</td>\n",
       "    </tr>\n",
       "    <tr>\n",
       "      <th>4</th>\n",
       "      <td>29237211</td>\n",
       "      <td>5</td>\n",
       "      <td>Brian K. Vaughan, Fiona Staples</td>\n",
       "      <td>Saga, Vol. 7 (Saga, #7)</td>\n",
       "      <td>{'Sequential Art-Graphic Novels': 2539, 'Seque...</td>\n",
       "    </tr>\n",
       "  </tbody>\n",
       "</table>\n",
       "</div>"
      ],
      "text/plain": [
       "    book_id  score                                             author  \\\n",
       "0      2199      5                               Doris Kearns Goodwin   \n",
       "1  16255632      5  David Gaider, Ben Gelinas, Mike Laidlaw, Dave ...   \n",
       "2   2363958      5                                João Guimarães Rosa   \n",
       "3  22552026      5                                     Jason Reynolds   \n",
       "4  29237211      5                    Brian K. Vaughan, Fiona Staples   \n",
       "\n",
       "                                               title  \\\n",
       "0  Team of Rivals: The Political Genius of Abraha...   \n",
       "1           Dragon Age: The World of Thedas Volume 1   \n",
       "2                             Grande Sertão: Veredas   \n",
       "3                                      Long Way Down   \n",
       "4                            Saga, Vol. 7 (Saga, #7)   \n",
       "\n",
       "                                     genre_and_votes  \n",
       "0  {'History': 4174, 'Nonfiction': 2127, 'Biograp...  \n",
       "1  {'Fantasy': 134, 'Games-Video Games': 28, 'Art...  \n",
       "2  {'Fiction': 85, 'Classics': 69, 'Cultural-Braz...  \n",
       "3  {'Young Adult': 1871, 'Poetry': 1737, 'Contemp...  \n",
       "4  {'Sequential Art-Graphic Novels': 2539, 'Seque...  "
      ]
     },
     "metadata": {},
     "output_type": "display_data"
    }
   ],
   "source": [
    "# выберем произвольного пользователя из тренировочной выборки (\"прошлого\")\n",
    "user_id = events_train['user_id'].sample().iat[0]\n",
    "\n",
    "print(f\"user_id: {user_id}\")\n",
    "\n",
    "print(\"История (последние события, recent)\")\n",
    "user_history = (\n",
    "    events_train\n",
    "    .query(\"user_id == @user_id\")\n",
    "    .merge(items.set_index(\"book_id\")[[\"author\", \"title\", \"genre_and_votes\"]], on=\"book_id\")\n",
    ")\n",
    "user_history_to_print = user_history[[\"author\", \"title\", \"started_at\", \"read_at\", \"rating\", \"genre_and_votes\"]].tail(10)\n",
    "display(user_history_to_print)\n",
    "\n",
    "print(\"Рекомендации\")\n",
    "user_recommendations = get_recommendations_svd(user_id, events_train, svd_model)\n",
    "user_recommendations = user_recommendations.merge(items[[\"book_id\", \"author\", \"title\", \"genre_and_votes\"]], on=\"book_id\")\n",
    "display(user_recommendations)"
   ]
  },
  {
   "cell_type": "markdown",
   "id": "3817eb52-1161-4e4e-a263-0cb616794a8e",
   "metadata": {},
   "source": [
    "# === Базовые подходы: коллаборативная фильтрация"
   ]
  },
  {
   "cell_type": "markdown",
   "id": "e571d8b3",
   "metadata": {},
   "source": [
    "Код для перекодировки идентификаторов."
   ]
  },
  {
   "cell_type": "code",
   "execution_count": 31,
   "id": "21789993-d0cd-4e74-96af-b3966d0f44c3",
   "metadata": {},
   "outputs": [
    {
     "name": "stderr",
     "output_type": "stream",
     "text": [
      "/tmp/ipykernel_1794/196496076.py:8: SettingWithCopyWarning: \n",
      "A value is trying to be set on a copy of a slice from a DataFrame.\n",
      "Try using .loc[row_indexer,col_indexer] = value instead\n",
      "\n",
      "See the caveats in the documentation: https://pandas.pydata.org/pandas-docs/stable/user_guide/indexing.html#returning-a-view-versus-a-copy\n",
      "  events_train[\"user_id_enc\"] = user_encoder.transform(events_train[\"user_id\"])\n",
      "/tmp/ipykernel_1794/196496076.py:9: SettingWithCopyWarning: \n",
      "A value is trying to be set on a copy of a slice from a DataFrame.\n",
      "Try using .loc[row_indexer,col_indexer] = value instead\n",
      "\n",
      "See the caveats in the documentation: https://pandas.pydata.org/pandas-docs/stable/user_guide/indexing.html#returning-a-view-versus-a-copy\n",
      "  events_test[\"user_id_enc\"] = user_encoder.transform(events_test[\"user_id\"])\n",
      "/tmp/ipykernel_1794/196496076.py:16: SettingWithCopyWarning: \n",
      "A value is trying to be set on a copy of a slice from a DataFrame.\n",
      "Try using .loc[row_indexer,col_indexer] = value instead\n",
      "\n",
      "See the caveats in the documentation: https://pandas.pydata.org/pandas-docs/stable/user_guide/indexing.html#returning-a-view-versus-a-copy\n",
      "  events_train[\"item_id_enc\"] = item_encoder.transform(events_train[\"book_id\"])\n",
      "/tmp/ipykernel_1794/196496076.py:17: SettingWithCopyWarning: \n",
      "A value is trying to be set on a copy of a slice from a DataFrame.\n",
      "Try using .loc[row_indexer,col_indexer] = value instead\n",
      "\n",
      "See the caveats in the documentation: https://pandas.pydata.org/pandas-docs/stable/user_guide/indexing.html#returning-a-view-versus-a-copy\n",
      "  events_test[\"item_id_enc\"] = item_encoder.transform(events_test[\"book_id\"])\n"
     ]
    }
   ],
   "source": [
    "import scipy\n",
    "import sklearn.preprocessing\n",
    "\n",
    "# перекодируем идентификаторы пользователей: \n",
    "# из имеющихся в последовательность 0, 1, 2, ...\n",
    "user_encoder = sklearn.preprocessing.LabelEncoder()\n",
    "user_encoder.fit(events[\"user_id\"])\n",
    "events_train[\"user_id_enc\"] = user_encoder.transform(events_train[\"user_id\"])\n",
    "events_test[\"user_id_enc\"] = user_encoder.transform(events_test[\"user_id\"])\n",
    "\n",
    "# перекодируем идентификаторы объектов: \n",
    "# из имеющихся в последовательность 0, 1, 2, ...\n",
    "item_encoder = sklearn.preprocessing.LabelEncoder()\n",
    "item_encoder.fit(items[\"book_id\"])\n",
    "items[\"item_id_enc\"] = item_encoder.transform(items[\"book_id\"])\n",
    "events_train[\"item_id_enc\"] = item_encoder.transform(events_train[\"book_id\"])\n",
    "events_test[\"item_id_enc\"] = item_encoder.transform(events_test[\"book_id\"])"
   ]
  },
  {
   "cell_type": "code",
   "execution_count": 32,
   "id": "9a96f98d-0270-4a06-9063-a687dbffeca5",
   "metadata": {},
   "outputs": [
    {
     "data": {
      "text/plain": [
       "(428220, 41474)"
      ]
     },
     "execution_count": 32,
     "metadata": {},
     "output_type": "execute_result"
    }
   ],
   "source": [
    "events_train['user_id_enc'].nunique(), events_train['item_id_enc'].nunique()"
   ]
  },
  {
   "cell_type": "markdown",
   "id": "48ea270b",
   "metadata": {},
   "source": [
    "Вычислите размер матрицы user_item_matrix_train, как если бы она хранила все свои элементы, включая пропуски, и для каждого элемента использовался бы один байт. Ответ приведите в виде целого числа гигабайтов, отбросив дробную часть."
   ]
  },
  {
   "cell_type": "code",
   "execution_count": 33,
   "id": "be389837-995e-4e57-928b-77293b7f1106",
   "metadata": {},
   "outputs": [
    {
     "data": {
      "text/plain": [
       "16.54028546065092"
      ]
     },
     "execution_count": 33,
     "metadata": {},
     "output_type": "execute_result"
    }
   ],
   "source": [
    "(\n",
    "    events_train['user_id_enc'].nunique() \n",
    "    * events_train['item_id_enc'].nunique()\n",
    "    / (1024 ** 3)\n",
    ")"
   ]
  },
  {
   "cell_type": "code",
   "execution_count": 34,
   "id": "355e7d2b",
   "metadata": {},
   "outputs": [],
   "source": [
    "# создаём sparse-матрицу формата CSR \n",
    "user_item_matrix_train = scipy.sparse.csr_matrix(\n",
    "    (\n",
    "        events_train[\"rating\"],\n",
    "        (events_train['user_id_enc'], events_train['item_id_enc'])\n",
    "    ),\n",
    "    dtype=np.int8\n",
    ") "
   ]
  },
  {
   "cell_type": "code",
   "execution_count": 35,
   "id": "e1f7277b",
   "metadata": {},
   "outputs": [
    {
     "name": "stderr",
     "output_type": "stream",
     "text": [
      "/home/mle-user/mle_projects/mle-recsys-start/venv/lib/python3.10/site-packages/tqdm/auto.py:21: TqdmWarning: IProgress not found. Please update jupyter and ipywidgets. See https://ipywidgets.readthedocs.io/en/stable/user_install.html\n",
      "  from .autonotebook import tqdm as notebook_tqdm\n",
      "/home/mle-user/mle_projects/mle-recsys-start/venv/lib/python3.10/site-packages/implicit/cpu/als.py:95: RuntimeWarning: OpenBLAS is configured to use 4 threads. It is highly recommended to disable its internal threadpool by setting the environment variable 'OPENBLAS_NUM_THREADS=1' or by calling 'threadpoolctl.threadpool_limits(1, \"blas\")'. Having OpenBLAS use a threadpool can lead to severe performance issues here.\n",
      "  check_blas_config()\n",
      "100%|██████████| 50/50 [02:43<00:00,  3.28s/it]\n"
     ]
    }
   ],
   "source": [
    "from implicit.als import AlternatingLeastSquares\n",
    "import os\n",
    "\n",
    "os.environ['OPENBLAS_NUM_THREADS'] = '1'\n",
    "\n",
    "als_model = AlternatingLeastSquares(\n",
    "    factors=50,\n",
    "    iterations=50,\n",
    "    regularization=0.05,\n",
    "    random_state=0\n",
    ")\n",
    "als_model.fit(user_item_matrix_train) "
   ]
  },
  {
   "cell_type": "code",
   "execution_count": 36,
   "id": "f46adc87",
   "metadata": {},
   "outputs": [],
   "source": [
    "def get_recommendations_als(user_item_matrix, model, user_id, user_encoder, item_encoder, include_seen=True, n=5):\n",
    "    \"\"\"\n",
    "    Возвращает отранжированные рекомендации для заданного пользователя\n",
    "    \"\"\"\n",
    "    user_id_enc = user_encoder.transform([user_id])[0]\n",
    "    recommendations = model.recommend(\n",
    "         user_id_enc, \n",
    "         user_item_matrix[user_id_enc], \n",
    "         filter_already_liked_items=not include_seen,\n",
    "         N=n)\n",
    "    recommendations = pd.DataFrame({\"item_id_enc\": recommendations[0], \"score\": recommendations[1]})\n",
    "    recommendations[\"item_id\"] = item_encoder.inverse_transform(recommendations[\"item_id_enc\"])\n",
    "    \n",
    "    return recommendations "
   ]
  },
  {
   "cell_type": "markdown",
   "id": "56d0f437",
   "metadata": {},
   "source": [
    "Факультативное задание\n",
    "Используя get_recommendations_als, напишите код, который позволит для случайного пользователя просмотреть рекомендации в удобном формате: \n",
    "история с именами авторов и названием книг,\n",
    "рекомендации с именами авторов и названием книг, seen-признаком (взаимодействовал ли уже пользователь с рекомендованной книгой).\n",
    "Проанализируйте, релевантны ли рекомендации имеющейся истории."
   ]
  },
  {
   "cell_type": "raw",
   "id": "2556dd20",
   "metadata": {
    "vscode": {
     "languageId": "raw"
    }
   },
   "source": [
    "get_recommendations_als(user_item_matrix_train, als_model, 1012012, user_encoder, item_encoder, include_seen=True, n=5)"
   ]
  },
  {
   "cell_type": "code",
   "execution_count": 37,
   "id": "17c5c4b7",
   "metadata": {},
   "outputs": [],
   "source": [
    "# получаем список всех возможных user_id (перекодированных)\n",
    "user_ids_encoded = range(len(user_encoder.classes_))\n",
    "\n",
    "# получаем рекомендации для всех пользователей\n",
    "als_recommendations = als_model.recommend(\n",
    "    user_ids_encoded, \n",
    "    user_item_matrix_train[user_ids_encoded], \n",
    "    filter_already_liked_items=False,\n",
    "    N=100\n",
    ")"
   ]
  },
  {
   "cell_type": "code",
   "execution_count": 38,
   "id": "171d671e",
   "metadata": {},
   "outputs": [],
   "source": [
    "# преобразуем полученные рекомендации в табличный формат\n",
    "item_ids_enc = als_recommendations[0]\n",
    "als_scores = als_recommendations[1]\n",
    "\n",
    "als_recommendations = pd.DataFrame({\n",
    "    \"user_id_enc\": user_ids_encoded,\n",
    "    \"item_id_enc\": item_ids_enc.tolist(), \n",
    "    \"score\": als_scores.tolist()})\n",
    "als_recommendations = als_recommendations.explode([\"item_id_enc\", \"score\"], ignore_index=True)\n",
    "\n",
    "# приводим типы данных\n",
    "als_recommendations[\"item_id_enc\"] = als_recommendations[\"item_id_enc\"].astype(\"int\")\n",
    "als_recommendations[\"score\"] = als_recommendations[\"score\"].astype(\"float\")\n",
    "\n",
    "# получаем изначальные идентификаторы\n",
    "als_recommendations[\"user_id\"] = user_encoder.inverse_transform(als_recommendations[\"user_id_enc\"])\n",
    "als_recommendations[\"item_id\"] = item_encoder.inverse_transform(als_recommendations[\"item_id_enc\"])\n",
    "als_recommendations = als_recommendations.drop(columns=[\"user_id_enc\", \"item_id_enc\"]) "
   ]
  },
  {
   "cell_type": "code",
   "execution_count": 39,
   "id": "afe54955",
   "metadata": {},
   "outputs": [],
   "source": [
    "als_recommendations = als_recommendations[[\"user_id\", \"item_id\", \"score\"]]\n",
    "als_recommendations.to_parquet(\"goodsread/als_recommendations.parquet\")"
   ]
  },
  {
   "cell_type": "markdown",
   "id": "4050ed08",
   "metadata": {},
   "source": [
    "Для удобства оценки добавим в датафрейм с рекомендациями истинные оценки из тестовой выборки:"
   ]
  },
  {
   "cell_type": "code",
   "execution_count": 40,
   "id": "31b10d87",
   "metadata": {},
   "outputs": [],
   "source": [
    "als_recommendations = (\n",
    "    als_recommendations\n",
    "    .merge(\n",
    "        events_test[[\"user_id\", \"book_id\", \"rating\"]]\n",
    "        .rename(columns={\n",
    "            \"rating\": \"rating_test\",\n",
    "            \"book_id\": 'item_id'\n",
    "        }), \n",
    "        on=[\"user_id\", \"item_id\"], how=\"left\")\n",
    ")"
   ]
  },
  {
   "cell_type": "code",
   "execution_count": 41,
   "id": "83a1f1e2",
   "metadata": {},
   "outputs": [],
   "source": [
    "import sklearn.metrics\n",
    "\n",
    "def compute_ndcg(rating: pd.Series, score: pd.Series, k):\n",
    "\n",
    "    \"\"\" подсчёт ndcg\n",
    "    rating: истинные оценки\n",
    "    score: оценки модели\n",
    "    k: количество айтемов (по убыванию score) для оценки, остальные - отбрасываются\n",
    "    \"\"\"\n",
    "    \n",
    "    # если кол-во объектов меньше 2, то NDCG - не определена\n",
    "    if len(rating) < 2:\n",
    "        return np.nan\n",
    "\n",
    "    ndcg = sklearn.metrics.ndcg_score(np.asarray([rating.to_numpy()]), np.asarray([score.to_numpy()]), k=k)\n",
    "\n",
    "    return ndcg"
   ]
  },
  {
   "cell_type": "markdown",
   "id": "1f2ed40f",
   "metadata": {},
   "source": [
    "Умея считать NDCG для одного пользователя, посчитаем данную метрику, например, для 𝑘=5 для всех пользователей из тестовой выборки. В результате каждому пользователю будет соответствовать одно значение NDCG@5."
   ]
  },
  {
   "cell_type": "code",
   "execution_count": 42,
   "id": "95fe4986",
   "metadata": {},
   "outputs": [],
   "source": [
    "rating_test_idx = ~als_recommendations[\"rating_test\"].isnull()\n",
    "ndcg_at_5_scores = als_recommendations[rating_test_idx].groupby(\"user_id\").apply(lambda x: compute_ndcg(x[\"rating_test\"], x[\"score\"], k=5))"
   ]
  },
  {
   "cell_type": "code",
   "execution_count": 43,
   "id": "c505850c",
   "metadata": {},
   "outputs": [
    {
     "name": "stdout",
     "output_type": "stream",
     "text": [
      "0.975946709792109\n"
     ]
    }
   ],
   "source": [
    "print(ndcg_at_5_scores.mean())"
   ]
  },
  {
   "cell_type": "markdown",
   "id": "702a3e33",
   "metadata": {
    "vscode": {
     "languageId": "raw"
    }
   },
   "source": [
    "Факультативное задание\n",
    "Оцените, для какой доли пользователей удалось посчитать метрику NDCG."
   ]
  },
  {
   "cell_type": "code",
   "execution_count": 44,
   "id": "fceabd15",
   "metadata": {},
   "outputs": [
    {
     "data": {
      "text/plain": [
       "0.35807624389737197"
      ]
     },
     "execution_count": 44,
     "metadata": {},
     "output_type": "execute_result"
    }
   ],
   "source": [
    "sum(ndcg_at_5_scores > 0) / len(ndcg_at_5_scores)"
   ]
  },
  {
   "cell_type": "markdown",
   "id": "96c8382b",
   "metadata": {},
   "source": [
    "Используя метод  similar_items, получите и оцените рекомендации для нескольких айтемов. Проанализируйте адекватность результатов."
   ]
  },
  {
   "cell_type": "markdown",
   "id": "0abef52e",
   "metadata": {},
   "source": [
    "Факультативное задание\n",
    "Используя метод  similar_items, получите и оцените рекомендации для нескольких айтемов. Проанализируйте адекватность результатов."
   ]
  },
  {
   "cell_type": "markdown",
   "id": "62575f67-f46e-4747-b3de-6ff5a87d0eba",
   "metadata": {},
   "source": [
    "# === Базовые подходы: контентные рекомендации"
   ]
  },
  {
   "cell_type": "code",
   "execution_count": 45,
   "id": "5ae7f494-3ee9-4f49-a61b-9dfb411518bd",
   "metadata": {},
   "outputs": [],
   "source": [
    "items[\"genre_and_votes\"] = items[\"genre_and_votes\"].apply(eval) "
   ]
  },
  {
   "cell_type": "markdown",
   "id": "bcb3572e",
   "metadata": {},
   "source": [
    "Задание 1 из 4\n",
    "Теперь составьте список жанров с долями голосов по ним в genres."
   ]
  },
  {
   "cell_type": "code",
   "execution_count": 46,
   "id": "5f655832-4caa-4290-9b34-388e7b3f5d37",
   "metadata": {},
   "outputs": [],
   "source": [
    "def get_genres(items):\n",
    "    \"\"\" \n",
    "    извлекает список жанров по всем книгам, \n",
    "    подсчитывает долю голосов по каждому их них\n",
    "    \"\"\"\n",
    "    \n",
    "    genres_counter = {}\n",
    "    \n",
    "    for k, v, in items.iterrows():\n",
    "        genre_and_votes = v['genre_and_votes']\n",
    "        if genre_and_votes is None or not isinstance(genre_and_votes, dict):\n",
    "            continue\n",
    "        for genre, votes in genre_and_votes.items():\n",
    "            # увеличиваем счётчик жанров\n",
    "            try:\n",
    "                genres_counter[genre] += votes\n",
    "            except KeyError:\n",
    "                genres_counter[genre] = votes\n",
    "\n",
    "    genres = pd.Series(genres_counter, name=\"votes\")\n",
    "    genres = genres.to_frame()\n",
    "    genres = genres.reset_index().rename(columns={\"index\": \"name\"})\n",
    "    genres.index.name = \"genre_id\"\n",
    "    \n",
    "    return genres"
   ]
  },
  {
   "cell_type": "code",
   "execution_count": 47,
   "id": "50468d7c",
   "metadata": {},
   "outputs": [],
   "source": [
    "   \n",
    "genres = get_genres(items) "
   ]
  },
  {
   "cell_type": "code",
   "execution_count": 48,
   "id": "d8f945a6-bd08-4f17-84a3-4a82e00a29c6",
   "metadata": {},
   "outputs": [
    {
     "data": {
      "text/html": [
       "<div>\n",
       "<style scoped>\n",
       "    .dataframe tbody tr th:only-of-type {\n",
       "        vertical-align: middle;\n",
       "    }\n",
       "\n",
       "    .dataframe tbody tr th {\n",
       "        vertical-align: top;\n",
       "    }\n",
       "\n",
       "    .dataframe thead th {\n",
       "        text-align: right;\n",
       "    }\n",
       "</style>\n",
       "<table border=\"1\" class=\"dataframe\">\n",
       "  <thead>\n",
       "    <tr style=\"text-align: right;\">\n",
       "      <th></th>\n",
       "      <th>name</th>\n",
       "      <th>votes</th>\n",
       "      <th>score</th>\n",
       "    </tr>\n",
       "    <tr>\n",
       "      <th>genre_id</th>\n",
       "      <th></th>\n",
       "      <th></th>\n",
       "      <th></th>\n",
       "    </tr>\n",
       "  </thead>\n",
       "  <tbody>\n",
       "    <tr>\n",
       "      <th>25</th>\n",
       "      <td>Fantasy</td>\n",
       "      <td>6850115</td>\n",
       "      <td>0.149498</td>\n",
       "    </tr>\n",
       "    <tr>\n",
       "      <th>1</th>\n",
       "      <td>Fiction</td>\n",
       "      <td>6406698</td>\n",
       "      <td>0.139821</td>\n",
       "    </tr>\n",
       "    <tr>\n",
       "      <th>38</th>\n",
       "      <td>Classics</td>\n",
       "      <td>3415071</td>\n",
       "      <td>0.074531</td>\n",
       "    </tr>\n",
       "    <tr>\n",
       "      <th>18</th>\n",
       "      <td>Young Adult</td>\n",
       "      <td>3297027</td>\n",
       "      <td>0.071955</td>\n",
       "    </tr>\n",
       "    <tr>\n",
       "      <th>34</th>\n",
       "      <td>Romance</td>\n",
       "      <td>2422690</td>\n",
       "      <td>0.052873</td>\n",
       "    </tr>\n",
       "    <tr>\n",
       "      <th>5</th>\n",
       "      <td>Nonfiction</td>\n",
       "      <td>1737798</td>\n",
       "      <td>0.037926</td>\n",
       "    </tr>\n",
       "    <tr>\n",
       "      <th>16</th>\n",
       "      <td>Historical-Historical Fiction</td>\n",
       "      <td>1531489</td>\n",
       "      <td>0.033423</td>\n",
       "    </tr>\n",
       "    <tr>\n",
       "      <th>20</th>\n",
       "      <td>Mystery</td>\n",
       "      <td>1371370</td>\n",
       "      <td>0.029929</td>\n",
       "    </tr>\n",
       "    <tr>\n",
       "      <th>24</th>\n",
       "      <td>Science Fiction</td>\n",
       "      <td>1218997</td>\n",
       "      <td>0.026604</td>\n",
       "    </tr>\n",
       "    <tr>\n",
       "      <th>33</th>\n",
       "      <td>Fantasy-Paranormal</td>\n",
       "      <td>857137</td>\n",
       "      <td>0.018706</td>\n",
       "    </tr>\n",
       "  </tbody>\n",
       "</table>\n",
       "</div>"
      ],
      "text/plain": [
       "                                   name    votes     score\n",
       "genre_id                                                  \n",
       "25                              Fantasy  6850115  0.149498\n",
       "1                               Fiction  6406698  0.139821\n",
       "38                             Classics  3415071  0.074531\n",
       "18                          Young Adult  3297027  0.071955\n",
       "34                              Romance  2422690  0.052873\n",
       "5                            Nonfiction  1737798  0.037926\n",
       "16        Historical-Historical Fiction  1531489  0.033423\n",
       "20                              Mystery  1371370  0.029929\n",
       "24                      Science Fiction  1218997  0.026604\n",
       "33                   Fantasy-Paranormal   857137  0.018706"
      ]
     },
     "execution_count": 48,
     "metadata": {},
     "output_type": "execute_result"
    }
   ],
   "source": [
    "genres[\"score\"] = genres[\"votes\"] / genres[\"votes\"].sum()\n",
    "genres.sort_values(by=\"score\", ascending=False).head(10)"
   ]
  },
  {
   "cell_type": "markdown",
   "id": "39795444",
   "metadata": {},
   "source": [
    "Задание 2 из 4 Функция в коде ниже строит матрицу вида «книга-жанр». Изучите её. Подумайте, что будет соответствовать столбцам матрицы"
   ]
  },
  {
   "cell_type": "code",
   "execution_count": 49,
   "id": "803173d0",
   "metadata": {},
   "outputs": [],
   "source": [
    "def get_item2genre_matrix(genres, items):\n",
    "\n",
    "    genre_names_to_id = genres.reset_index().set_index(\"name\")[\"genre_id\"].to_dict()\n",
    "    \n",
    "    # list to build CSR matrix\n",
    "    genres_csr_data = []\n",
    "    genres_csr_row_idx = []\n",
    "    genres_csr_col_idx = []\n",
    "    \n",
    "    for item_idx, (k, v) in enumerate(items.iterrows()):\n",
    "        if v[\"genre_and_votes\"] is None:\n",
    "            continue\n",
    "        for genre_name, votes in v[\"genre_and_votes\"].items():\n",
    "            genre_idx = genre_names_to_id[genre_name]\n",
    "            genres_csr_data.append(int(votes))\n",
    "            genres_csr_row_idx.append(item_idx)\n",
    "            genres_csr_col_idx.append(genre_idx)\n",
    "\n",
    "    genres_csr = scipy.sparse.csr_matrix((genres_csr_data, (genres_csr_row_idx, genres_csr_col_idx)), shape=(len(items), len(genres)))\n",
    "    # нормализуем, чтобы сумма оценок принадлежности к жанру была равна 1\n",
    "    genres_csr = sklearn.preprocessing.normalize(genres_csr, norm='l1', axis=1)\n",
    "    \n",
    "    return genres_csr "
   ]
  },
  {
   "cell_type": "code",
   "execution_count": 50,
   "id": "62da6708",
   "metadata": {},
   "outputs": [],
   "source": [
    "items = items.sort_values(by=\"item_id_enc\")\n",
    "all_items_genres_csr = get_item2genre_matrix(genres, items)"
   ]
  },
  {
   "cell_type": "markdown",
   "id": "d85aae50",
   "metadata": {},
   "source": [
    "Аналогичным образом получим матрицу с весами по жанрам для какого-нибудь пользователя, например, для пользователя с идентификатором 1000010. \n",
    "Задание 3 из 4 Дополните и выполните код ниже, чтобы получить описанную матрицу. "
   ]
  },
  {
   "cell_type": "code",
   "execution_count": 51,
   "id": "a5b1c385",
   "metadata": {},
   "outputs": [
    {
     "data": {
      "text/plain": [
       "<22x815 sparse matrix of type '<class 'numpy.float64'>'\n",
       "\twith 149 stored elements in Compressed Sparse Row format>"
      ]
     },
     "execution_count": 51,
     "metadata": {},
     "output_type": "execute_result"
    }
   ],
   "source": [
    "user_id = 1000010\n",
    "user_events = events_train.query(\"user_id == @user_id\")[[\"book_id\", \"rating\"]]\n",
    "user_items = items[items[\"book_id\"].isin(user_events[\"book_id\"])]\n",
    "\n",
    "user_items_genres_csr = get_item2genre_matrix(genres, user_items)\n",
    "user_items_genres_csr"
   ]
  },
  {
   "cell_type": "code",
   "execution_count": 52,
   "id": "941914d2",
   "metadata": {},
   "outputs": [
    {
     "data": {
      "text/plain": [
       "(22, 815)"
      ]
     },
     "execution_count": 52,
     "metadata": {},
     "output_type": "execute_result"
    }
   ],
   "source": [
    "user_ratings = user_events[\"rating\"].to_numpy() / 5\n",
    "user_ratings = np.expand_dims(user_ratings, axis=1)\n",
    "\n",
    "user_items_genres_weighted = user_items_genres_csr.multiply(user_ratings)\n",
    "\n",
    "user_items_genres_weighted.shape"
   ]
  },
  {
   "cell_type": "code",
   "execution_count": 53,
   "id": "4ac5e7a4",
   "metadata": {},
   "outputs": [],
   "source": [
    "# вычислим склонность пользователя к жанрам как среднее взвешенное значение популяции на его оценки книг.\n",
    "# преобразуем пользовательские оценки из списка в вектор-столбец\n",
    "\n",
    "user_ratings = user_events[\"rating\"].to_numpy() / 5\n",
    "user_ratings = np.expand_dims(user_ratings, axis=1)\n",
    "\n",
    "user_items_genres_weighted = user_items_genres_csr.multiply(user_ratings)\n",
    "\n",
    "user_genres_scores = np.asarray(user_items_genres_weighted.mean(axis=0))"
   ]
  },
  {
   "cell_type": "code",
   "execution_count": 54,
   "id": "57a54cbf",
   "metadata": {},
   "outputs": [
    {
     "data": {
      "text/plain": [
       "(1, 815)"
      ]
     },
     "execution_count": 54,
     "metadata": {},
     "output_type": "execute_result"
    }
   ],
   "source": [
    "user_genres_scores.shape"
   ]
  },
  {
   "cell_type": "markdown",
   "id": "dbc948f8",
   "metadata": {},
   "source": [
    "Задание 4 из 4 Получите наиболее релевантные рекомендации для пользователя. Дополните код так, чтобы переменная top_k_indices заполнялась индексами соответствующих книг. Для этого удобно использовать np.argsort от similarity_scores, подсчитанной для всех книг."
   ]
  },
  {
   "cell_type": "code",
   "execution_count": 55,
   "id": "8947ed13",
   "metadata": {},
   "outputs": [],
   "source": [
    "from sklearn.metrics.pairwise import cosine_similarity\n",
    "\n",
    "# вычисляем сходство между вектором пользователя и векторами по книгам\n",
    "similarity_scores = cosine_similarity(all_items_genres_csr, user_genres_scores)\n",
    "\n",
    "# преобразуем в одномерный массив\n",
    "similarity_scores = similarity_scores.flatten()\n",
    "\n",
    "# получаем индексы top-k (по убыванию значений), по сути, индексы книг (encoded)\n",
    "k = 5\n",
    "top_k_indices = np.argsort(similarity_scores)[:k]"
   ]
  },
  {
   "cell_type": "code",
   "execution_count": 56,
   "id": "121f13d8",
   "metadata": {},
   "outputs": [
    {
     "data": {
      "text/plain": [
       "array([38862, 38838,  9716, 18969, 18925])"
      ]
     },
     "execution_count": 56,
     "metadata": {},
     "output_type": "execute_result"
    }
   ],
   "source": [
    "top_k_indices"
   ]
  },
  {
   "cell_type": "code",
   "execution_count": 57,
   "id": "8de5d637",
   "metadata": {},
   "outputs": [
    {
     "data": {
      "text/html": [
       "<div>\n",
       "<style scoped>\n",
       "    .dataframe tbody tr th:only-of-type {\n",
       "        vertical-align: middle;\n",
       "    }\n",
       "\n",
       "    .dataframe tbody tr th {\n",
       "        vertical-align: top;\n",
       "    }\n",
       "\n",
       "    .dataframe thead th {\n",
       "        text-align: right;\n",
       "    }\n",
       "</style>\n",
       "<table border=\"1\" class=\"dataframe\">\n",
       "  <thead>\n",
       "    <tr style=\"text-align: right;\">\n",
       "      <th></th>\n",
       "      <th>author</th>\n",
       "      <th>title</th>\n",
       "      <th>genre_and_votes</th>\n",
       "    </tr>\n",
       "  </thead>\n",
       "  <tbody>\n",
       "    <tr>\n",
       "      <th>1673075</th>\n",
       "      <td>Mo Willems</td>\n",
       "      <td>Today I Will Fly! (Elephant &amp; Piggie, #1)</td>\n",
       "      <td>{'Childrens-Picture Books': 409, 'Childrens': 199}</td>\n",
       "    </tr>\n",
       "    <tr>\n",
       "      <th>1523576</th>\n",
       "      <td>Lester Sumrall</td>\n",
       "      <td>Gifts and Ministries of the Holy Spirit</td>\n",
       "      <td>{'Christian': 6, 'Religion-Theology': 3, 'Christian-Christian Non Fiction': 2, 'Spirituality': 2}</td>\n",
       "    </tr>\n",
       "    <tr>\n",
       "      <th>1422146</th>\n",
       "      <td>Nicholas Davies</td>\n",
       "      <td>Diana the Killing of a Princess</td>\n",
       "      <td>None</td>\n",
       "    </tr>\n",
       "    <tr>\n",
       "      <th>515584</th>\n",
       "      <td>Nayyirah Waheed</td>\n",
       "      <td>Nejma</td>\n",
       "      <td>{'Poetry': 929, 'Feminism': 31}</td>\n",
       "    </tr>\n",
       "    <tr>\n",
       "      <th>956516</th>\n",
       "      <td>Tina Marie Kaht, Valeria Avantario</td>\n",
       "      <td>Grandparents' Day</td>\n",
       "      <td>{'Childrens': 2}</td>\n",
       "    </tr>\n",
       "  </tbody>\n",
       "</table>\n",
       "</div>"
      ],
      "text/plain": [
       "                                     author  \\\n",
       "1673075                          Mo Willems   \n",
       "1523576                      Lester Sumrall   \n",
       "1422146                     Nicholas Davies   \n",
       "515584                      Nayyirah Waheed   \n",
       "956516   Tina Marie Kaht, Valeria Avantario   \n",
       "\n",
       "                                             title  \\\n",
       "1673075  Today I Will Fly! (Elephant & Piggie, #1)   \n",
       "1523576    Gifts and Ministries of the Holy Spirit   \n",
       "1422146            Diana the Killing of a Princess   \n",
       "515584                                       Nejma   \n",
       "956516                           Grandparents' Day   \n",
       "\n",
       "                                                                                           genre_and_votes  \n",
       "1673075                                                 {'Childrens-Picture Books': 409, 'Childrens': 199}  \n",
       "1523576  {'Christian': 6, 'Religion-Theology': 3, 'Christian-Christian Non Fiction': 2, 'Spirituality': 2}  \n",
       "1422146                                                                                               None  \n",
       "515584                                                                     {'Poetry': 929, 'Feminism': 31}  \n",
       "956516                                                                                    {'Childrens': 2}  "
      ]
     },
     "metadata": {},
     "output_type": "display_data"
    }
   ],
   "source": [
    "selected_items = items[items[\"item_id_enc\"].isin(top_k_indices)]\n",
    "\n",
    "with pd.option_context(\"max_colwidth\", 100):\n",
    "   display(selected_items[[\"author\", \"title\", \"genre_and_votes\"]])"
   ]
  },
  {
   "cell_type": "markdown",
   "id": "a81bea3f",
   "metadata": {},
   "source": [
    "Факультативное задание\n",
    "Получите по алгоритму выше рекомендации для нескольких пользователей, просмотрите их на экране. Подумайте, насколько релевантны и интересны полученные рекомендации пользователям.\n",
    "Попробуйте использовать другую меру сходства для получения рекомендаций, например, евклидово расстояние. Проанализируйте, отличаются ли рекомендации от предыдущих. Подумайте почему.\n",
    "Задайте собственные предпочтения для наиболее популярных жанров. Посмотрите рекомендации для себя. Прочитали ли бы вы рекомендованные книги?"
   ]
  },
  {
   "cell_type": "markdown",
   "id": "dfdeb7c3-0935-4bee-8b93-dfe26091289b",
   "metadata": {},
   "source": [
    "# === Базовые подходы: валидация"
   ]
  },
  {
   "cell_type": "markdown",
   "id": "2b3aac06",
   "metadata": {},
   "source": [
    "Посчитаем recall и precision для ALS-рекомендаций (als_recommendations). Для этого события в тестовой выборке и рекомендации для одних и тех же пользователей разметим признаками:\n",
    "gt (ground truth): объект есть в тестовой выборке;\n",
    "pr (predicted): объект есть в рекомендациях.\n",
    "Теперь разметим признаки бинарной классификации:\n",
    "TP: объект есть и в тестовой выборке, и в рекомендациях (истинная рекомендация),\n",
    "FP: объекта нет в тестовой выборке, но он есть в рекомендациях (ложноположительная рекомендация),\n",
    "FN: объект есть в тестовой выборке, но его нет в рекомендациях (ложноотрицательная рекомендация)"
   ]
  },
  {
   "cell_type": "code",
   "execution_count": 58,
   "id": "05850eab-168a-4338-8692-cd1a8fefb685",
   "metadata": {},
   "outputs": [],
   "source": [
    "def process_events_recs_for_binary_metrics(events_train, events_test, recs, top_k=None):\n",
    "\n",
    "    \"\"\"\n",
    "    размечает пары <user_id, item_id> для общего множества пользователей признаками\n",
    "    - gt (ground truth)\n",
    "    - pr (prediction)\n",
    "    top_k: расчёт ведётся только для top k-рекомендаций\n",
    "    \"\"\"\n",
    "\n",
    "    events_test[\"gt\"] = True\n",
    "    common_users = set(events_test[\"user_id\"]) & set(recs[\"user_id\"])\n",
    "\n",
    "    print(f\"Common users: {len(common_users)}\")\n",
    "    \n",
    "    events_for_common_users = events_test[events_test[\"user_id\"].isin(common_users)].rename(columns={'book_id': 'item_id'}).copy()\n",
    "    recs_for_common_users = recs[recs[\"user_id\"].isin(common_users)].copy()\n",
    "\n",
    "    recs_for_common_users = recs_for_common_users.sort_values([\"user_id\", \"score\"], ascending=[True, False])\n",
    "\n",
    "    # оставляет только те item_id, которые были в events_train, \n",
    "    # т. к. модель не имела никакой возможности давать рекомендации для новых айтемов\n",
    "    events_for_common_users = events_for_common_users[events_for_common_users[\"item_id\"].isin(events_train[\"book_id\"].unique())]\n",
    "\n",
    "    if top_k is not None:\n",
    "        recs_for_common_users = recs_for_common_users.groupby(\"user_id\").head(top_k)\n",
    "    \n",
    "    events_recs_common = events_for_common_users[[\"user_id\", \"item_id\", \"gt\"]].merge(\n",
    "        recs_for_common_users[[\"user_id\", \"item_id\", \"score\"]], \n",
    "        on=[\"user_id\", \"item_id\"], how=\"outer\")    \n",
    "\n",
    "    events_recs_common[\"gt\"] = events_recs_common[\"gt\"].fillna(False)\n",
    "    events_recs_common[\"pr\"] = ~events_recs_common[\"score\"].isnull()\n",
    "    \n",
    "    events_recs_common[\"tp\"] = events_recs_common[\"gt\"] & events_recs_common[\"pr\"]\n",
    "    events_recs_common[\"fp\"] = ~events_recs_common[\"gt\"] & events_recs_common[\"pr\"]\n",
    "    events_recs_common[\"fn\"] = events_recs_common[\"gt\"] & ~events_recs_common[\"pr\"]\n",
    "\n",
    "    return events_recs_common "
   ]
  },
  {
   "cell_type": "markdown",
   "id": "28f429e6-b9da-4231-afba-25dd8e606a23",
   "metadata": {},
   "source": [
    "Обработаем ALS-рекомендации для подсчёта метрик для 5 лучших рекомендаций:"
   ]
  },
  {
   "cell_type": "code",
   "execution_count": 59,
   "id": "7481d105",
   "metadata": {},
   "outputs": [
    {
     "name": "stderr",
     "output_type": "stream",
     "text": [
      "/tmp/ipykernel_1794/575309485.py:10: SettingWithCopyWarning: \n",
      "A value is trying to be set on a copy of a slice from a DataFrame.\n",
      "Try using .loc[row_indexer,col_indexer] = value instead\n",
      "\n",
      "See the caveats in the documentation: https://pandas.pydata.org/pandas-docs/stable/user_guide/indexing.html#returning-a-view-versus-a-copy\n",
      "  events_test[\"gt\"] = True\n"
     ]
    },
    {
     "name": "stdout",
     "output_type": "stream",
     "text": [
      "Common users: 123223\n"
     ]
    }
   ],
   "source": [
    "events_recs_for_binary_metrics = process_events_recs_for_binary_metrics(\n",
    "  events_train,\n",
    "    events_test, \n",
    "    als_recommendations, \n",
    "    top_k=5) "
   ]
  },
  {
   "cell_type": "markdown",
   "id": "13ed43f1",
   "metadata": {},
   "source": [
    "Дополните код функции compute_cls_metrics для расчёта recall. Получите значения метрик precision@5, recall@5."
   ]
  },
  {
   "cell_type": "code",
   "execution_count": 60,
   "id": "f198bb46",
   "metadata": {},
   "outputs": [],
   "source": [
    "def compute_cls_metrics(events_recs_for_binary_metric):\n",
    "    \n",
    "    groupper = events_recs_for_binary_metric.groupby(\"user_id\")\n",
    "\n",
    "    # precision = tp / (tp + fp)\n",
    "    precision = groupper[\"tp\"].sum()/(groupper[\"tp\"].sum()+groupper[\"fp\"].sum())\n",
    "    precision = precision.fillna(0).mean()\n",
    "    \n",
    "    # recall = tp / (tp + fn)\n",
    "    recall = groupper[\"tp\"].sum()/(groupper[\"tp\"].sum()+groupper[\"fn\"].sum())\n",
    "    recall = recall.fillna(0).mean()\n",
    "\n",
    "    return precision, recall "
   ]
  },
  {
   "cell_type": "code",
   "execution_count": 61,
   "id": "6075c1e0",
   "metadata": {},
   "outputs": [
    {
     "data": {
      "text/plain": [
       "(0.007581376853347184, 0.014121568795222568)"
      ]
     },
     "execution_count": 61,
     "metadata": {},
     "output_type": "execute_result"
    }
   ],
   "source": [
    "compute_cls_metrics(events_recs_for_binary_metrics)"
   ]
  },
  {
   "cell_type": "markdown",
   "id": "8de22186",
   "metadata": {},
   "source": [
    "Факультативное задание\n",
    "Посчитайте метрики precision@10, recall@10. Сравните их значения со значениями для precision@5, recall@10. Подумайте о причинах таких отличий."
   ]
  },
  {
   "cell_type": "markdown",
   "id": "f78475fc-bee1-48f4-be55-329db8ecd326",
   "metadata": {},
   "source": [
    "# === Двухстадийный подход: метрики"
   ]
  },
  {
   "cell_type": "code",
   "execution_count": 62,
   "id": "208dadb9",
   "metadata": {},
   "outputs": [],
   "source": [
    "# ## Загружаем сохраненный als_reccomendations\n",
    "# als_recommendations = pd.read_parquet('goodsread/als_recommendations.parquet')"
   ]
  },
  {
   "cell_type": "markdown",
   "id": "0c990f65",
   "metadata": {},
   "source": [
    "Для рекомендаций, сохранённых в переменной als_recommendations, посчитайте покрытие по объектам согласно формуле выше. При этом используйте весь топ-100 рекомендаций."
   ]
  },
  {
   "cell_type": "code",
   "execution_count": 63,
   "id": "2a4cf639-1afa-4e89-8ba5-eee48a1bd0e1",
   "metadata": {},
   "outputs": [
    {
     "name": "stdout",
     "output_type": "stream",
     "text": [
      "0.09\n"
     ]
    }
   ],
   "source": [
    "# расчёт покрытия по объектам\n",
    "cov_items = als_recommendations['item_id'].nunique() / len(items)\n",
    "print(f\"{cov_items:.2f}\")"
   ]
  },
  {
   "cell_type": "markdown",
   "id": "facf81ad",
   "metadata": {},
   "source": [
    "Посчитайте среднее Novelty@5 для als_recommendations. Для этого: \n",
    "разметьте каждую рекомендацию в als_recommendations булевым признаком read (False — пользователь не читал книгу, True — пользователь читал книгу), используя events_train,\n",
    "посчитайте Novelty@5 для каждого пользователя,\n",
    "посчитайте среднеарифметическое для полученных значений Novelty@5"
   ]
  },
  {
   "cell_type": "code",
   "execution_count": 64,
   "id": "e8f61216",
   "metadata": {},
   "outputs": [
    {
     "data": {
      "text/html": [
       "<div>\n",
       "<style scoped>\n",
       "    .dataframe tbody tr th:only-of-type {\n",
       "        vertical-align: middle;\n",
       "    }\n",
       "\n",
       "    .dataframe tbody tr th {\n",
       "        vertical-align: top;\n",
       "    }\n",
       "\n",
       "    .dataframe thead th {\n",
       "        text-align: right;\n",
       "    }\n",
       "</style>\n",
       "<table border=\"1\" class=\"dataframe\">\n",
       "  <thead>\n",
       "    <tr style=\"text-align: right;\">\n",
       "      <th></th>\n",
       "      <th>user_id</th>\n",
       "      <th>item_id</th>\n",
       "      <th>started_at</th>\n",
       "      <th>read_at</th>\n",
       "      <th>is_read</th>\n",
       "      <th>rating</th>\n",
       "      <th>is_reviewed</th>\n",
       "      <th>started_at_month</th>\n",
       "      <th>user_id_enc</th>\n",
       "      <th>item_id_enc</th>\n",
       "    </tr>\n",
       "  </thead>\n",
       "  <tbody>\n",
       "    <tr>\n",
       "      <th>0</th>\n",
       "      <td>1229132</td>\n",
       "      <td>22034</td>\n",
       "      <td>2015-07-12</td>\n",
       "      <td>2015-07-17</td>\n",
       "      <td>True</td>\n",
       "      <td>5</td>\n",
       "      <td>False</td>\n",
       "      <td>2015-07-01</td>\n",
       "      <td>229132</td>\n",
       "      <td>2460</td>\n",
       "    </tr>\n",
       "  </tbody>\n",
       "</table>\n",
       "</div>"
      ],
      "text/plain": [
       "   user_id  item_id  started_at     read_at  is_read  rating  is_reviewed  \\\n",
       "0  1229132    22034  2015-07-12  2015-07-17     True       5        False   \n",
       "\n",
       "  started_at_month  user_id_enc  item_id_enc  \n",
       "0       2015-07-01       229132         2460  "
      ]
     },
     "execution_count": 64,
     "metadata": {},
     "output_type": "execute_result"
    }
   ],
   "source": [
    "events_train = events_train.rename(columns={'book_id': 'item_id'})\n",
    "events_test = events_test.rename(columns={'book_id': 'item_id'})\n",
    "events_train.head(1)"
   ]
  },
  {
   "cell_type": "code",
   "execution_count": 65,
   "id": "86f94411",
   "metadata": {},
   "outputs": [
    {
     "data": {
      "text/html": [
       "<div>\n",
       "<style scoped>\n",
       "    .dataframe tbody tr th:only-of-type {\n",
       "        vertical-align: middle;\n",
       "    }\n",
       "\n",
       "    .dataframe tbody tr th {\n",
       "        vertical-align: top;\n",
       "    }\n",
       "\n",
       "    .dataframe thead th {\n",
       "        text-align: right;\n",
       "    }\n",
       "</style>\n",
       "<table border=\"1\" class=\"dataframe\">\n",
       "  <thead>\n",
       "    <tr style=\"text-align: right;\">\n",
       "      <th></th>\n",
       "      <th>user_id</th>\n",
       "      <th>item_id</th>\n",
       "      <th>score</th>\n",
       "      <th>rating_test</th>\n",
       "    </tr>\n",
       "  </thead>\n",
       "  <tbody>\n",
       "    <tr>\n",
       "      <th>0</th>\n",
       "      <td>1000000</td>\n",
       "      <td>3</td>\n",
       "      <td>0.990941</td>\n",
       "      <td>NaN</td>\n",
       "    </tr>\n",
       "  </tbody>\n",
       "</table>\n",
       "</div>"
      ],
      "text/plain": [
       "   user_id  item_id     score  rating_test\n",
       "0  1000000        3  0.990941          NaN"
      ]
     },
     "execution_count": 65,
     "metadata": {},
     "output_type": "execute_result"
    }
   ],
   "source": [
    "als_recommendations.head(1)"
   ]
  },
  {
   "cell_type": "code",
   "execution_count": 66,
   "id": "48e4d676-ede1-4725-8e31-457ebc0452da",
   "metadata": {},
   "outputs": [],
   "source": [
    "# разметим каждую рекомендацию признаком read\n",
    "events_train[\"read\"] = True\n",
    "als_recommendations = als_recommendations.merge(\n",
    "    events_train[['read', 'user_id', 'item_id']], \n",
    "    on=[\"user_id\", \"item_id\"],\n",
    "    how=\"left\"\n",
    ")\n",
    "als_recommendations[\"read\"] = (\n",
    "    als_recommendations[\"read\"]\n",
    "    .fillna(False)\n",
    "    .astype(\"bool\")\n",
    ")\n",
    "\n",
    "# проставим ранги\n",
    "als_recommendations = als_recommendations.sort_values(\n",
    "    by=['user_id', 'score'],\n",
    "    ascending=[True, False]\n",
    ")\n",
    "als_recommendations[\"rank\"] = (\n",
    "    als_recommendations\n",
    "    .groupby(\"user_id\")\n",
    "    .cumcount()\n",
    " ) + 1\n",
    "\n",
    "# посчитаем novelty по пользователям\n",
    "novelty_5 = (1-als_recommendations.query(\"rank <= 5\").groupby(\"user_id\")[\"read\"].mean())\n",
    "\n",
    "# посчитаем средний novelty\n",
    "novelty_mean = novelty_5.mean()"
   ]
  },
  {
   "cell_type": "code",
   "execution_count": 67,
   "id": "d99db2ab-231d-4cf8-8221-5e00e9e6e4c0",
   "metadata": {},
   "outputs": [
    {
     "data": {
      "text/plain": [
       "0.607333279143491"
      ]
     },
     "execution_count": 67,
     "metadata": {},
     "output_type": "execute_result"
    }
   ],
   "source": [
    "novelty_mean"
   ]
  },
  {
   "cell_type": "markdown",
   "id": "4fbae6b6-b1e2-4bbf-b1ad-227f2916917f",
   "metadata": {},
   "source": [
    "# === Двухстадийный подход: модель"
   ]
  },
  {
   "cell_type": "markdown",
   "id": "357004b1",
   "metadata": {},
   "source": [
    "Задание 1 из 6\n",
    "Используем отложенную тестовую часть данных — назовём её events_test — для получения двух новых частей данных:\n",
    "одна, составляющая первые 45 дней, будет использоваться для таргетов,\n",
    "другая, состоящая из 45 последних дней, будет новой тестовой выборкой.\n",
    "Завершите код так, чтобы в events_labels оказалась первая часть данных, а в events_test_2 — вторая."
   ]
  },
  {
   "cell_type": "code",
   "execution_count": 68,
   "id": "2ef764d6-f2cc-4e72-bd7f-81a69dd7380d",
   "metadata": {},
   "outputs": [],
   "source": [
    "# задаём точку разбиения\n",
    "split_date_for_labels = pd.to_datetime(\"2017-09-15\").date()\n",
    "\n",
    "split_date_for_labels_idx = events_test[\"started_at\"] < split_date_for_labels\n",
    "events_labels = events_test[split_date_for_labels_idx].copy()\n",
    "events_test_2 = events_test[split_date_for_labels_idx].copy() "
   ]
  },
  {
   "cell_type": "code",
   "execution_count": 69,
   "id": "9dcc8048-f4b5-411f-913a-fd73c6a6ff2a",
   "metadata": {},
   "outputs": [
    {
     "data": {
      "text/plain": [
       "99849"
      ]
     },
     "execution_count": 69,
     "metadata": {},
     "output_type": "execute_result"
    }
   ],
   "source": [
    "events_labels['user_id'].nunique()"
   ]
  },
  {
   "cell_type": "markdown",
   "id": "31fe60b5",
   "metadata": {},
   "source": [
    "Подготовим список кандидатов для обучения ранжирующей модели. В качестве кандидатогенераторов возьмём ALS и контентную модель на основе жанровых предпочтений, известных нам из прошлых уроков. Рекомендации от них были заранее подготовлены и сохранены в файлах als_recommendations.parquet и content_recommendations.parquet в директории candidates/training. Подготовка заключается в объединении списков рекомендаций по совпадению user_id, item_id.     \n",
    "Задание 2 из 6     \n",
    "Объедините имеющихся кандидатов по совпадению user_id, item_id в один список."
   ]
  },
  {
   "cell_type": "code",
   "execution_count": 70,
   "id": "dd6c82df-981f-441a-8dc2-c7b06ab2b6f7",
   "metadata": {},
   "outputs": [],
   "source": [
    "# загружаем рекомендации от двух базовых генераторов\n",
    "als_recommendations = pd.read_parquet(\"candidates/training/als_recommendations.parquet\")\n",
    "content_recommendations = pd.read_parquet(\"candidates/training/content_recommendations.parquet\")"
   ]
  },
  {
   "cell_type": "code",
   "execution_count": 71,
   "id": "13cffa4c",
   "metadata": {},
   "outputs": [],
   "source": [
    "candidates = pd.merge(\n",
    "    als_recommendations[[\"user_id\", \"item_id\", \"score\"]].rename(columns={\"score\": \"als_score\"}),\n",
    "    content_recommendations[[\"user_id\", \"item_id\", \"score\"]].rename(columns={\"score\": \"cnt_score\"}),\n",
    "    on=[\"user_id\", \"item_id\"],\n",
    "    how=\"outer\"\n",
    ")"
   ]
  },
  {
   "cell_type": "code",
   "execution_count": 72,
   "id": "c55e48b7",
   "metadata": {},
   "outputs": [
    {
     "data": {
      "text/plain": [
       "82993094"
      ]
     },
     "execution_count": 72,
     "metadata": {},
     "output_type": "execute_result"
    }
   ],
   "source": [
    "len(candidates)"
   ]
  },
  {
   "cell_type": "code",
   "execution_count": 73,
   "id": "049c1134",
   "metadata": {},
   "outputs": [
    {
     "data": {
      "text/html": [
       "<div>\n",
       "<style scoped>\n",
       "    .dataframe tbody tr th:only-of-type {\n",
       "        vertical-align: middle;\n",
       "    }\n",
       "\n",
       "    .dataframe tbody tr th {\n",
       "        vertical-align: top;\n",
       "    }\n",
       "\n",
       "    .dataframe thead th {\n",
       "        text-align: right;\n",
       "    }\n",
       "</style>\n",
       "<table border=\"1\" class=\"dataframe\">\n",
       "  <thead>\n",
       "    <tr style=\"text-align: right;\">\n",
       "      <th></th>\n",
       "      <th>user_id</th>\n",
       "      <th>item_id</th>\n",
       "      <th>als_score</th>\n",
       "      <th>cnt_score</th>\n",
       "    </tr>\n",
       "  </thead>\n",
       "  <tbody>\n",
       "    <tr>\n",
       "      <th>0</th>\n",
       "      <td>1000000</td>\n",
       "      <td>3</td>\n",
       "      <td>0.972557</td>\n",
       "      <td>0.920225</td>\n",
       "    </tr>\n",
       "  </tbody>\n",
       "</table>\n",
       "</div>"
      ],
      "text/plain": [
       "   user_id  item_id  als_score  cnt_score\n",
       "0  1000000        3   0.972557   0.920225"
      ]
     },
     "execution_count": 73,
     "metadata": {},
     "output_type": "execute_result"
    }
   ],
   "source": [
    "candidates.head(1)"
   ]
  },
  {
   "cell_type": "markdown",
   "id": "3d4243ee",
   "metadata": {},
   "source": [
    "Задание 3 из 6   \n",
    "Дополните код ниже.\n",
    "В candidates добавьте колонку target со значениями:\n",
    "1 для тех item_id, которые пользователь прочитал (положительный пример).\n",
    "0 — для всех остальных (негативный пример).\n",
    "В candidates_for_train отберите все положительные примеры, а также не менее четырёх негативных примеров для каждого пользователя в положительных примерах."
   ]
  },
  {
   "cell_type": "code",
   "execution_count": 74,
   "id": "d1fb409c",
   "metadata": {},
   "outputs": [],
   "source": [
    "# добавляем таргет к кандидатам со значением:\n",
    "# — 1 для тех item_id, которые пользователь прочитал\n",
    "# — 0, для всех остальных \n",
    "\n",
    "events_labels[\"target\"] = 1\n",
    "candidates = candidates.merge(\n",
    "    events_labels[[\"user_id\", \"item_id\", \"target\"]], \n",
    "    on=[\"user_id\", \"item_id\"],\n",
    "    how='left'\n",
    ")\n",
    "candidates[\"target\"] = candidates[\"target\"].fillna(0).astype(\"int\")\n",
    "\n",
    "# в кандидатах оставляем только тех пользователей, у которых есть хотя бы один положительный таргет\n",
    "candidates_to_sample = candidates.groupby(\"user_id\").filter(lambda x: x[\"target\"].sum() > 0)\n",
    "\n",
    "# для каждого пользователя оставляем только 4 негативных примера\n",
    "negatives_per_user = 4\n",
    "candidates_for_train = pd.concat([\n",
    "    candidates_to_sample.query(\"target == 1\"),\n",
    "    candidates_to_sample.query(\"target == 0\") \\\n",
    "        .groupby(\"user_id\") \\\n",
    "        .apply(lambda x: x.sample(negatives_per_user, random_state=0))\n",
    "    ]) "
   ]
  },
  {
   "cell_type": "code",
   "execution_count": 75,
   "id": "50b013ff",
   "metadata": {},
   "outputs": [
    {
     "data": {
      "text/plain": [
       "(213708, 5)"
      ]
     },
     "execution_count": 75,
     "metadata": {},
     "output_type": "execute_result"
    }
   ],
   "source": [
    "candidates_for_train.shape"
   ]
  },
  {
   "cell_type": "code",
   "execution_count": 76,
   "id": "806bd356",
   "metadata": {},
   "outputs": [
    {
     "data": {
      "text/html": [
       "<div>\n",
       "<style scoped>\n",
       "    .dataframe tbody tr th:only-of-type {\n",
       "        vertical-align: middle;\n",
       "    }\n",
       "\n",
       "    .dataframe tbody tr th {\n",
       "        vertical-align: top;\n",
       "    }\n",
       "\n",
       "    .dataframe thead th {\n",
       "        text-align: right;\n",
       "    }\n",
       "</style>\n",
       "<table border=\"1\" class=\"dataframe\">\n",
       "  <thead>\n",
       "    <tr style=\"text-align: right;\">\n",
       "      <th></th>\n",
       "      <th>user_id</th>\n",
       "      <th>item_id</th>\n",
       "      <th>als_score</th>\n",
       "      <th>cnt_score</th>\n",
       "      <th>target</th>\n",
       "    </tr>\n",
       "  </thead>\n",
       "  <tbody>\n",
       "    <tr>\n",
       "      <th>615</th>\n",
       "      <td>1000006</td>\n",
       "      <td>29868610</td>\n",
       "      <td>0.286715</td>\n",
       "      <td>NaN</td>\n",
       "      <td>1</td>\n",
       "    </tr>\n",
       "  </tbody>\n",
       "</table>\n",
       "</div>"
      ],
      "text/plain": [
       "     user_id   item_id  als_score  cnt_score  target\n",
       "615  1000006  29868610   0.286715        NaN       1"
      ]
     },
     "execution_count": 76,
     "metadata": {},
     "output_type": "execute_result"
    }
   ],
   "source": [
    "candidates_for_train.head(1)"
   ]
  },
  {
   "cell_type": "markdown",
   "id": "4ca065d1",
   "metadata": {},
   "source": [
    "Выше мы подготовили все нужные артефакты для обучения модели ранжирования. Выполните код, чтобы обучить модель."
   ]
  },
  {
   "cell_type": "code",
   "execution_count": 77,
   "id": "93f19214",
   "metadata": {},
   "outputs": [
    {
     "name": "stdout",
     "output_type": "stream",
     "text": [
      "0:\tlearn: 0.6526057\ttotal: 72.7ms\tremaining: 1m 12s\n",
      "100:\tlearn: 0.5118959\ttotal: 1.76s\tremaining: 15.7s\n",
      "200:\tlearn: 0.5111710\ttotal: 3.52s\tremaining: 14s\n",
      "300:\tlearn: 0.5105208\ttotal: 5.27s\tremaining: 12.2s\n",
      "400:\tlearn: 0.5100174\ttotal: 7.02s\tremaining: 10.5s\n",
      "500:\tlearn: 0.5095747\ttotal: 8.78s\tremaining: 8.75s\n",
      "600:\tlearn: 0.5091600\ttotal: 10.6s\tremaining: 7.01s\n",
      "700:\tlearn: 0.5087803\ttotal: 12.3s\tremaining: 5.26s\n",
      "800:\tlearn: 0.5084220\ttotal: 14.1s\tremaining: 3.5s\n",
      "900:\tlearn: 0.5080930\ttotal: 15.9s\tremaining: 1.74s\n",
      "999:\tlearn: 0.5078081\ttotal: 17.6s\tremaining: 0us\n"
     ]
    },
    {
     "data": {
      "text/plain": [
       "<catboost.core.CatBoostClassifier at 0x7f53d3e2ff40>"
      ]
     },
     "execution_count": 77,
     "metadata": {},
     "output_type": "execute_result"
    },
    {
     "ename": "",
     "evalue": "",
     "output_type": "error",
     "traceback": [
      "\u001b[1;31mThe Kernel crashed while executing code in the current cell or a previous cell. \n",
      "\u001b[1;31mPlease review the code in the cell(s) to identify a possible cause of the failure. \n",
      "\u001b[1;31mClick <a href='https://aka.ms/vscodeJupyterKernelCrash'>here</a> for more info. \n",
      "\u001b[1;31mView Jupyter <a href='command:jupyter.viewOutput'>log</a> for further details."
     ]
    }
   ],
   "source": [
    "from catboost import CatBoostClassifier, Pool\n",
    "\n",
    "# задаём имена колонок признаков и таргета\n",
    "features = ['als_score', 'cnt_score']\n",
    "target = 'target'\n",
    "\n",
    "# Create the Pool object\n",
    "train_data = Pool(\n",
    "    data=candidates_for_train[features], \n",
    "    label=candidates_for_train[target])\n",
    "\n",
    "# инициализируем модель CatBoostClassifier\n",
    "cb_model = CatBoostClassifier(\n",
    "    iterations=1000,\n",
    "    learning_rate=0.1,\n",
    "    depth=6,\n",
    "    loss_function='Logloss',\n",
    "    verbose=100,\n",
    "    random_seed=0\n",
    ")\n",
    "\n",
    "# тренируем модель\n",
    "cb_model.fit(train_data)"
   ]
  },
  {
   "cell_type": "markdown",
   "id": "b8b02edc",
   "metadata": {},
   "source": [
    "Подготовка кандидатов для рекомендаций\n",
    "Представим, что натренированная модель используется только некоторое время спустя, когда уже появились новые рекомендации (кандидаты) от базовых генераторов, обученных на объединении событий из events_train и events_label. Иными словами, когда события из events_label уже стали частью тренировочного набора данных. Эти новые рекомендации были заранее подготовлены и сохранены в файлах als_recommendations.parquet и content_recommendations.parquet в директории candidates/inference. Используем их для составления нового списка кандидатов candidates_to_rank, который понадобится готовой ранжирующей модели. \n",
    "Задание 4 из 6\n",
    "Дополните код ниже так, чтобы в candidates_to_rank попали кандидаты от обоих базовых генераторов подобно тому, как это было сделано для фазы тренировки выше."
   ]
  },
  {
   "cell_type": "code",
   "execution_count": 78,
   "id": "0bd3e5f3",
   "metadata": {},
   "outputs": [],
   "source": [
    "# загружаем рекомендации от двух базовых генераторов\n",
    "als_recommendations_2 = pd.read_parquet(\"candidates/inference/als_recommendations.parquet\")\n",
    "content_recommendations_2 = pd.read_parquet(\"candidates/inference/content_recommendations.parquet\")\n",
    "\n",
    "candidates_to_rank = pd.merge(\n",
    "    als_recommendations_2[[\"user_id\", \"item_id\", \"score\"]].rename(columns={\"score\": \"als_score\"}),\n",
    "    content_recommendations_2[[\"user_id\", \"item_id\", \"score\"]].rename(columns={\"score\": \"cnt_score\"}),\n",
    "    on=[\"user_id\", \"item_id\"],\n",
    "    how=\"outer\"\n",
    ")\n",
    "\n",
    "# оставляем только тех пользователей, что есть в тестовой выборке, для экономии ресурсов\n",
    "candidates_to_rank = candidates_to_rank[candidates_to_rank[\"user_id\"].isin(events_test[\"user_id\"].drop_duplicates())]\n",
    "print(len(candidates_to_rank))"
   ]
  },
  {
   "cell_type": "markdown",
   "id": "50cc5310",
   "metadata": {},
   "source": [
    "Применим обученную ранжирующую модель к кандидатам для рекомендаций. Таргет уже не нужен, поскольку мы будем применять модель в режиме инференса.\n",
    "Задание 5 из 6\n",
    "Дополните код для того, чтобы вызвать модель и получить для каждого пользователя топ-100 рекомендаций — значение rank нужно выставить не более ста."
   ]
  },
  {
   "cell_type": "code",
   "execution_count": null,
   "id": "d085e4ed",
   "metadata": {},
   "outputs": [],
   "source": [
    "inference_data = Pool(data=candidates_to_rank[features])\n",
    "predictions = cb_model.predict_proba(inference_data)\n",
    "\n",
    "candidates_to_rank[\"cb_score\"] = predictions[:, 1]\n",
    "\n",
    "# для каждого пользователя проставляем rank, начиная с 1 — это максимальный cb_score\n",
    "candidates_to_rank = candidates_to_rank.sort_values([\"user_id\", \"cb_score\"], ascending=[True, False])\n",
    "candidates_to_rank[\"rank\"] = (\n",
    "    candidates_to_rank\n",
    "    .groupby(\"user_id\")\n",
    "    .cumcount()\n",
    " ) + 1\n",
    "max_recommendations_per_user = 100\n",
    "final_recommendations = candidates_to_rank.query('rank <= @max_recommendations_per_user')"
   ]
  },
  {
   "cell_type": "code",
   "execution_count": null,
   "id": "156fae27",
   "metadata": {},
   "outputs": [],
   "source": [
    "len(final_recommendations)"
   ]
  },
  {
   "cell_type": "markdown",
   "id": "888ca31e",
   "metadata": {},
   "source": [
    "Задание 6 из 6\n",
    "Посчитайте метрики recall и precision.\n",
    "Используйте полученные рекомендации final_recommendations, отложенную тестовую выборку events_test_2, созданные в уроке «Валидация» предыдущей темы.\n",
    "А также функции process_events_recs_for_binary_metrics и compute_cls_metrics."
   ]
  },
  {
   "cell_type": "code",
   "execution_count": null,
   "id": "ce54dd10",
   "metadata": {},
   "outputs": [],
   "source": [
    "events_inference = pd.concat([events_train, events_labels])\n",
    "\n",
    "cb_events_recs_for_binary_metrics_5 = process_events_recs_for_binary_metrics(\n",
    "    events_inference.rename(columns={'item_id': 'book_id'}),\n",
    "    events_test_2,\n",
    "    final_recommendations.rename(columns={\"cb_score\": \"score\"}), \n",
    "    top_k=5\n",
    ")\n",
    "\n",
    "cb_precision_5, cb_recall_5 = compute_cls_metrics(cb_events_recs_for_binary_metrics_5)\n",
    "\n",
    "print(f\"precision: {cb_precision_5:.3f}, recall: {cb_recall_5:.3f}\") "
   ]
  },
  {
   "cell_type": "markdown",
   "id": "29b6ebd5-38a3-4f8e-8941-2f91fa70ca4e",
   "metadata": {},
   "source": [
    "# === Двухстадийный подход: построение признаков"
   ]
  },
  {
   "cell_type": "markdown",
   "id": "7093eb7b",
   "metadata": {},
   "source": [
    "Посчитаем новый признак — «возраст» книги на основе года публикации. Назовём его age. \n",
    "Используя обновлённый справочник объектов items, добавьте признаки возраста age и средней популярности average_rating к кандидатам для тренировки модели candidates_for_train и к кандидатам для ранжирования candidates_to_rank."
   ]
  },
  {
   "cell_type": "code",
   "execution_count": null,
   "id": "a018f4b3",
   "metadata": {},
   "outputs": [],
   "source": [
    "items.head(1)"
   ]
  },
  {
   "cell_type": "code",
   "execution_count": null,
   "id": "8788cba9-0396-46a2-b2af-1ecbd65b944e",
   "metadata": {},
   "outputs": [],
   "source": [
    "items[\"age\"] = 2018-items[\"publication_year\"]\n",
    "invalid_age_idx = items[\"age\"] < 0\n",
    "items.loc[invalid_age_idx, \"age\"] = np.nan\n",
    "items[\"age\"] = items[\"age\"].astype(\"float\")\n",
    "\n",
    "candidates_for_train = candidates_for_train.merge(\n",
    "    items[['book_id', \"age\"]].rename(columns={'book_id': 'item_id'}),\n",
    "    on=['item_id'],\n",
    "    how='left'\n",
    ")\n",
    "candidates_to_rank = candidates_to_rank.merge(\n",
    "    items[['book_id', \"age\"]].rename(columns={'book_id': 'item_id'}),\n",
    "    on=['item_id'],\n",
    "    how='left'\n",
    ")"
   ]
  },
  {
   "cell_type": "code",
   "execution_count": null,
   "id": "27aed9a2-88d9-4375-b0b0-7333aea7b1e0",
   "metadata": {},
   "outputs": [],
   "source": [
    "candidates_to_rank['age'].median()"
   ]
  },
  {
   "cell_type": "markdown",
   "id": "bd3ac66b",
   "metadata": {},
   "source": [
    "Используя события в events_train и events_inference, посчитайте и добавьте признаки пользователей к кандидатам в candidates_for_train и candidates_to_rank соответственно:\n",
    "reading_years — длительность истории пользователя,\n",
    "books_read — количество книг, прочитанных за всё время,\n",
    "books_per_year — среднее количество прочитанных книг в год,\n",
    "rating_avg — средняя оценка,\n",
    "rating_std — дисперсия оценок."
   ]
  },
  {
   "cell_type": "code",
   "execution_count": null,
   "id": "f7f6ff1f",
   "metadata": {},
   "outputs": [],
   "source": [
    "events.head(1)"
   ]
  },
  {
   "cell_type": "code",
   "execution_count": null,
   "id": "344f7f13-e43e-490c-a816-43d25c5a4a5f",
   "metadata": {},
   "outputs": [],
   "source": [
    "def get_user_features(events):\n",
    "    \"\"\" считает пользовательские признаки \"\"\"\n",
    "    \n",
    "    user_features = events.groupby(\"user_id\").agg(\n",
    "        reading_years=(\"started_at\", lambda x: (x.max()-x.min()).days/365.25),\n",
    "        books_read=('is_read', 'sum'),\n",
    "        rating_avg=(\"rating\", \"mean\"),\n",
    "        rating_std=(\"rating\", \"std\")\n",
    "    )\n",
    "    \n",
    "    user_features[\"books_per_year\"] = user_features[\"books_read\"] / user_features[\"reading_years\"]\n",
    "    \n",
    "    return user_features\n",
    "    \n",
    "user_features_for_train = get_user_features(events_train)\n",
    "candidates_for_train = candidates_for_train.merge(user_features_for_train, on=\"user_id\", how=\"left\")\n",
    "  \n",
    "# оставим только тех пользователей, что есть в тесте, для экономии ресурсов\n",
    "events_inference = pd.concat([events_train, events_labels])\n",
    "events_inference = events_inference[events_inference[\"user_id\"].isin(events_test[\"user_id\"].drop_duplicates())]\n",
    "\n",
    "user_features_for_ranking = get_user_features(events_inference)\n",
    "candidates_to_rank = candidates_to_rank.merge(user_features_for_ranking, on=\"user_id\", how=\"left\")"
   ]
  },
  {
   "cell_type": "code",
   "execution_count": null,
   "id": "142e93b7",
   "metadata": {},
   "outputs": [],
   "source": [
    "candidates_for_train['books_read'].median()"
   ]
  },
  {
   "cell_type": "markdown",
   "id": "45f1fac8",
   "metadata": {},
   "source": [
    "Используя истории events_train и events_inference, а также ранее полученные артефакты по жанрам книг — словарь жанров genres, оценки книг по жанрам all_items_genres_csr — добавьте парные признаки, по одному на каждый жанр, которые совместно показывают, какие жанры предпочитает пользователь. \n",
    "Жанровость в данном случае — численный коэффициент принадлежности книги к жанру. Например, если пользователь прочитал три книги, которые с весами 0.3, 0.2, 0.4 из  all_items_genres_csr относятся к Fantasy, то интерес пользователя к Fantasy составляет среднее этих трёх оценок — 0.3.\n",
    "Для экономии ресурсов возьмём не все жанры, а десять наиболее популярных. Все остальные отметим как не вошедшие в топ и обозначим как others. "
   ]
  },
  {
   "cell_type": "code",
   "execution_count": null,
   "id": "b11961c4",
   "metadata": {},
   "outputs": [],
   "source": [
    "genres.head(1)"
   ]
  },
  {
   "cell_type": "code",
   "execution_count": null,
   "id": "05704bfb",
   "metadata": {},
   "outputs": [],
   "source": [
    "# определяем индексы топ-10 жанров и всех остальных\n",
    "genres_top_k = 10\n",
    "genres_top_idx = genres.sort_values(\"votes\", ascending=False).head(genres_top_k).index\n",
    "genres_others_idx = list(set(genres.index) - set(genres_top_idx))\n",
    "\n",
    "genres_top_columns = [f\"genre_{id}\" for id in genres_top_idx]\n",
    "genres_others_column = \"genre_others\"\n",
    "genre_columns = # ваш код здесь #\n",
    "\n",
    "# составляем таблицу принадлежности книг к жанрам\n",
    "item_genres = (\n",
    "    pd.concat([\n",
    "        # топ жанров\n",
    "        # ваш код здесь #,\n",
    "        # все остальные жанры\n",
    "        pd.DataFrame(all_items_genres_csr[:, genres_others_idx].sum(axis=1), columns=[genres_others_column])\n",
    "        ],\n",
    "        axis=1)\n",
    "    .reset_index()\n",
    "    .rename(columns={\"index\": \"item_id_enc\"})\n",
    ")\n",
    "\n",
    "# объединяем информацию принадлежности книг к жанрам с основной информацией о книгах\n",
    "items = items.merge(item_genres, on=\"item_id_enc\", how=\"left\")\n",
    "\n",
    "def get_user_genres(events, items, item_genre_columns):\n",
    "    user_genres = (\n",
    "        events\n",
    "        .merge(items[[\"item_id\"] + item_genre_columns], on=\"item_id\", how=\"left\")\n",
    "        .groupby(\"user_id\")[item_genre_columns].mean()\n",
    "    )\n",
    "    return user_genres\n",
    "    \n",
    "user_genres_for_train = # ваш код здесь #\n",
    "candidates_for_train = candidates_for_train.merge(user_genres_for_train, on=\"user_id\", how=\"left\")\n",
    "\n",
    "user_genres_for_ranking = get_user_genres(events_inference, items, genre_columns)\n",
    "candidates_to_rank = candidates_to_rank.merge(user_genres_for_ranking, on=\"user_id\", how=\"left\")"
   ]
  }
 ],
 "metadata": {
  "kernelspec": {
   "display_name": "Python 3 (ipykernel)",
   "language": "python",
   "name": "python3"
  },
  "language_info": {
   "codemirror_mode": {
    "name": "ipython",
    "version": 3
   },
   "file_extension": ".py",
   "mimetype": "text/x-python",
   "name": "python",
   "nbconvert_exporter": "python",
   "pygments_lexer": "ipython3",
   "version": "3.10.12"
  }
 },
 "nbformat": 4,
 "nbformat_minor": 5
}
