{
 "cells": [
  {
   "cell_type": "markdown",
   "id": "b3589a9a-ce16-4d2e-b581-d75139fc58b3",
   "metadata": {},
   "source": [
    "### Initialization & load initial events and items"
   ]
  },
  {
   "cell_type": "code",
   "execution_count": 1,
   "id": "c6e28b2f-3822-4e27-b576-9bc42b279b32",
   "metadata": {},
   "outputs": [],
   "source": [
    "# import matplotlib.pyplot as plt\n",
    "import numpy as np\n",
    "import pandas as pd"
   ]
  },
  {
   "cell_type": "code",
   "execution_count": 2,
   "id": "4e53bc65-3e32-454b-b353-e9b95489c26c",
   "metadata": {},
   "outputs": [],
   "source": [
    "%matplotlib inline\n",
    "%config InlineBackend.figure_format = 'png'\n",
    "%config InlineBackend.figure_format = 'retina'"
   ]
  },
  {
   "cell_type": "code",
   "execution_count": 3,
   "id": "6ab0db85-17df-4a4f-b23c-e9cd983d8c43",
   "metadata": {},
   "outputs": [],
   "source": [
    "items = pd.read_parquet('goodsread/items.parquet')\n",
    "events = pd.read_parquet('goodsread/events.parquet')"
   ]
  },
  {
   "cell_type": "markdown",
   "id": "99960d86",
   "metadata": {},
   "source": [
    "### Урок 4/6 Холодный старт"
   ]
  },
  {
   "cell_type": "markdown",
   "id": "00fad37e",
   "metadata": {},
   "source": [
    "Задание 2 из 6     \n",
    "Завершите код для разбиения всех событий. В качестве точки разбиения используйте 2017-08-01, то есть отнесите в тестовую часть три последних месяца."
   ]
  },
  {
   "cell_type": "code",
   "execution_count": 4,
   "id": "d81a9668",
   "metadata": {},
   "outputs": [
    {
     "name": "stdout",
     "output_type": "stream",
     "text": [
      "428220 123223 120858\n"
     ]
    }
   ],
   "source": [
    "# зададим точку разбиения\n",
    "train_test_global_time_split_date = pd.to_datetime('2017-08-01').date()\n",
    "\n",
    "train_test_global_time_split_idx = (\n",
    "    events[\"started_at\"] < train_test_global_time_split_date\n",
    ")\n",
    "\n",
    "events_train = events[train_test_global_time_split_idx]\n",
    "events_test = events[~train_test_global_time_split_idx]\n",
    "\n",
    "# количество пользователей в train и test\n",
    "users_train = events_train['user_id'].drop_duplicates()\n",
    "users_test = events_test['user_id'].drop_duplicates()\n",
    "\n",
    "# количество пользователей, которые есть и в train, и в test\n",
    "common_users = set(users_train) & set(users_test)\n",
    "\n",
    "print(len(users_train), len(users_test), len(common_users))\n",
    "\n",
    "# Приборка\n",
    "del train_test_global_time_split_idx, train_test_global_time_split_date, events"
   ]
  },
  {
   "cell_type": "markdown",
   "id": "33c0bdcd",
   "metadata": {},
   "source": [
    "Задание 3 из 6    \n",
    "Идентифицируйте холодных пользователей и оцените их количество."
   ]
  },
  {
   "cell_type": "code",
   "execution_count": 5,
   "id": "2d8b6754",
   "metadata": {},
   "outputs": [
    {
     "name": "stdout",
     "output_type": "stream",
     "text": [
      "2365\n"
     ]
    }
   ],
   "source": [
    "cold_users = set(users_test) - common_users\n",
    "\n",
    "print(len(cold_users))"
   ]
  },
  {
   "cell_type": "markdown",
   "id": "2c8c0459",
   "metadata": {},
   "source": [
    "Задание 4 из 6   \n",
    "Завершите код, чтобы получить топ-100 наиболее популярных книг согласно условиям выше."
   ]
  },
  {
   "cell_type": "code",
   "execution_count": 6,
   "id": "9eb89dd4",
   "metadata": {},
   "outputs": [
    {
     "data": {
      "text/html": [
       "<div>\n",
       "<style scoped>\n",
       "    .dataframe tbody tr th:only-of-type {\n",
       "        vertical-align: middle;\n",
       "    }\n",
       "\n",
       "    .dataframe tbody tr th {\n",
       "        vertical-align: top;\n",
       "    }\n",
       "\n",
       "    .dataframe thead th {\n",
       "        text-align: right;\n",
       "    }\n",
       "</style>\n",
       "<table border=\"1\" class=\"dataframe\">\n",
       "  <thead>\n",
       "    <tr style=\"text-align: right;\">\n",
       "      <th></th>\n",
       "      <th>item_id</th>\n",
       "      <th>users</th>\n",
       "      <th>avg_rating</th>\n",
       "      <th>popularity_weighted</th>\n",
       "    </tr>\n",
       "  </thead>\n",
       "  <tbody>\n",
       "    <tr>\n",
       "      <th>0</th>\n",
       "      <td>1</td>\n",
       "      <td>8728</td>\n",
       "      <td>4.796059</td>\n",
       "      <td>41860.0</td>\n",
       "    </tr>\n",
       "    <tr>\n",
       "      <th>1</th>\n",
       "      <td>2</td>\n",
       "      <td>9528</td>\n",
       "      <td>4.685873</td>\n",
       "      <td>44647.0</td>\n",
       "    </tr>\n",
       "    <tr>\n",
       "      <th>2</th>\n",
       "      <td>3</td>\n",
       "      <td>15139</td>\n",
       "      <td>4.706057</td>\n",
       "      <td>71245.0</td>\n",
       "    </tr>\n",
       "  </tbody>\n",
       "</table>\n",
       "</div>"
      ],
      "text/plain": [
       "   item_id  users  avg_rating  popularity_weighted\n",
       "0        1   8728    4.796059              41860.0\n",
       "1        2   9528    4.685873              44647.0\n",
       "2        3  15139    4.706057              71245.0"
      ]
     },
     "execution_count": 6,
     "metadata": {},
     "output_type": "execute_result"
    }
   ],
   "source": [
    "top_pop_start_date = pd.to_datetime('2015-01-01').date()\n",
    "\n",
    "item_popularity = (\n",
    "    events_train # type: ignore\n",
    "    .query('started_at >= @top_pop_start_date')\n",
    "    .groupby(['item_id'])\n",
    "    .agg(users=('user_id', 'nunique'), avg_rating=('rating', 'mean'))\n",
    "    .reset_index()\n",
    ")\n",
    "item_popularity['popularity_weighted'] = (\n",
    "    item_popularity['users'] * item_popularity['avg_rating']\n",
    ")\n",
    "\n",
    "del top_pop_start_date\n",
    "item_popularity.head(3)"
   ]
  },
  {
   "cell_type": "code",
   "execution_count": 7,
   "id": "65ada115",
   "metadata": {},
   "outputs": [
    {
     "data": {
      "text/html": [
       "<div>\n",
       "<style scoped>\n",
       "    .dataframe tbody tr th:only-of-type {\n",
       "        vertical-align: middle;\n",
       "    }\n",
       "\n",
       "    .dataframe tbody tr th {\n",
       "        vertical-align: top;\n",
       "    }\n",
       "\n",
       "    .dataframe thead th {\n",
       "        text-align: right;\n",
       "    }\n",
       "</style>\n",
       "<table border=\"1\" class=\"dataframe\">\n",
       "  <thead>\n",
       "    <tr style=\"text-align: right;\">\n",
       "      <th></th>\n",
       "      <th>item_id</th>\n",
       "      <th>users</th>\n",
       "      <th>avg_rating</th>\n",
       "      <th>popularity_weighted</th>\n",
       "    </tr>\n",
       "  </thead>\n",
       "  <tbody>\n",
       "    <tr>\n",
       "      <th>32387</th>\n",
       "      <td>18007564</td>\n",
       "      <td>20207</td>\n",
       "      <td>4.321275</td>\n",
       "      <td>87320.0</td>\n",
       "    </tr>\n",
       "    <tr>\n",
       "      <th>32623</th>\n",
       "      <td>18143977</td>\n",
       "      <td>19462</td>\n",
       "      <td>4.290669</td>\n",
       "      <td>83505.0</td>\n",
       "    </tr>\n",
       "    <tr>\n",
       "      <th>30695</th>\n",
       "      <td>16096824</td>\n",
       "      <td>16770</td>\n",
       "      <td>4.301014</td>\n",
       "      <td>72128.0</td>\n",
       "    </tr>\n",
       "  </tbody>\n",
       "</table>\n",
       "</div>"
      ],
      "text/plain": [
       "        item_id  users  avg_rating  popularity_weighted\n",
       "32387  18007564  20207    4.321275              87320.0\n",
       "32623  18143977  19462    4.290669              83505.0\n",
       "30695  16096824  16770    4.301014              72128.0"
      ]
     },
     "execution_count": 7,
     "metadata": {},
     "output_type": "execute_result"
    }
   ],
   "source": [
    "# сортируем по убыванию взвешенной популярности\n",
    "item_popularity = item_popularity.sort_values(\n",
    "    'popularity_weighted',\n",
    "    ascending=False\n",
    ")\n",
    "# выбираем первые 100 айтемов со средней оценкой avg_rating не меньше 4\n",
    "top_k_pop_items = (\n",
    "    item_popularity\n",
    "    .query('avg_rating >= 4')\n",
    "    .sort_values('popularity_weighted', ascending=False)\n",
    "    .head(100)\n",
    ")\n",
    "top_k_pop_items.head(3)"
   ]
  },
  {
   "cell_type": "code",
   "execution_count": 8,
   "id": "b60129ae",
   "metadata": {},
   "outputs": [
    {
     "data": {
      "text/html": [
       "<div>\n",
       "<style scoped>\n",
       "    .dataframe tbody tr th:only-of-type {\n",
       "        vertical-align: middle;\n",
       "    }\n",
       "\n",
       "    .dataframe tbody tr th {\n",
       "        vertical-align: top;\n",
       "    }\n",
       "\n",
       "    .dataframe thead th {\n",
       "        text-align: right;\n",
       "    }\n",
       "</style>\n",
       "<table border=\"1\" class=\"dataframe\">\n",
       "  <thead>\n",
       "    <tr style=\"text-align: right;\">\n",
       "      <th></th>\n",
       "      <th>item_id</th>\n",
       "      <th>users</th>\n",
       "      <th>avg_rating</th>\n",
       "      <th>popularity_weighted</th>\n",
       "      <th>author</th>\n",
       "      <th>title</th>\n",
       "      <th>genre_and_votes</th>\n",
       "      <th>publication_year</th>\n",
       "    </tr>\n",
       "  </thead>\n",
       "  <tbody>\n",
       "    <tr>\n",
       "      <th>0</th>\n",
       "      <td>18007564</td>\n",
       "      <td>20207</td>\n",
       "      <td>4.321275</td>\n",
       "      <td>87320.0</td>\n",
       "      <td>Andy Weir</td>\n",
       "      <td>The Martian</td>\n",
       "      <td>{'Science Fiction': 11966, 'Fiction': 8430}</td>\n",
       "      <td>2014</td>\n",
       "    </tr>\n",
       "    <tr>\n",
       "      <th>1</th>\n",
       "      <td>18143977</td>\n",
       "      <td>19462</td>\n",
       "      <td>4.290669</td>\n",
       "      <td>83505.0</td>\n",
       "      <td>Anthony Doerr</td>\n",
       "      <td>All the Light We Cannot See</td>\n",
       "      <td>{'Historical-Historical Fiction': 13679, 'Fict...</td>\n",
       "      <td>2014</td>\n",
       "    </tr>\n",
       "    <tr>\n",
       "      <th>2</th>\n",
       "      <td>16096824</td>\n",
       "      <td>16770</td>\n",
       "      <td>4.301014</td>\n",
       "      <td>72128.0</td>\n",
       "      <td>Sarah J. Maas</td>\n",
       "      <td>A Court of Thorns and Roses (A Court of Thorns...</td>\n",
       "      <td>{'Fantasy': 14326, 'Young Adult': 4662, 'Roman...</td>\n",
       "      <td>2015</td>\n",
       "    </tr>\n",
       "  </tbody>\n",
       "</table>\n",
       "</div>"
      ],
      "text/plain": [
       "    item_id  users  avg_rating  popularity_weighted         author  \\\n",
       "0  18007564  20207    4.321275              87320.0      Andy Weir   \n",
       "1  18143977  19462    4.290669              83505.0  Anthony Doerr   \n",
       "2  16096824  16770    4.301014              72128.0  Sarah J. Maas   \n",
       "\n",
       "                                               title  \\\n",
       "0                                        The Martian   \n",
       "1                        All the Light We Cannot See   \n",
       "2  A Court of Thorns and Roses (A Court of Thorns...   \n",
       "\n",
       "                                     genre_and_votes  publication_year  \n",
       "0        {'Science Fiction': 11966, 'Fiction': 8430}              2014  \n",
       "1  {'Historical-Historical Fiction': 13679, 'Fict...              2014  \n",
       "2  {'Fantasy': 14326, 'Young Adult': 4662, 'Roman...              2015  "
      ]
     },
     "execution_count": 8,
     "metadata": {},
     "output_type": "execute_result"
    }
   ],
   "source": [
    "# добавляем информацию о книгах\n",
    "if not set(top_k_pop_items.columns) & {\n",
    "    \"author\", \"title\", \"genre_and_votes\", \"publication_year\"\n",
    "}:\n",
    "    top_k_pop_items = top_k_pop_items.merge(\n",
    "        items.set_index(\"item_id\")[\n",
    "            [\"author\", \"title\", \"genre_and_votes\", \"publication_year\"]\n",
    "        ],\n",
    "        on=\"item_id\",\n",
    "        how='left'\n",
    "    )\n",
    "top_k_pop_items.head(3)"
   ]
  },
  {
   "cell_type": "markdown",
   "id": "73f1218e",
   "metadata": {},
   "source": [
    "Задание 5 из 6    \n",
    "Завершите предлагаемый код, чтобы в cold_users_events_with_recs для каждого события получить столбец avg_rating. В нём при совпадении по item_id будет значение из одноимённого столбца из top_k_pop_items, иначе — пропуск.\n",
    "В cold_users_events_with_recs после выполнения завершённого кода должно быть столько же строк, сколько было до его выполнения."
   ]
  },
  {
   "cell_type": "code",
   "execution_count": 9,
   "id": "10ee21da",
   "metadata": {},
   "outputs": [],
   "source": [
    "cold_users_events_with_recs = \\\n",
    "    events_test[events_test[\"user_id\"].isin(cold_users)] \\\n",
    "    .merge(top_k_pop_items[['item_id', 'avg_rating']], on=\"item_id\", how=\"left\")\n",
    "\n",
    "cold_user_items_no_avg_rating_idx = cold_users_events_with_recs[\"avg_rating\"].isnull()\n",
    "cold_user_recs = cold_users_events_with_recs[~cold_user_items_no_avg_rating_idx] \\\n",
    "    [[\"user_id\", \"item_id\", \"rating\", \"avg_rating\"]] "
   ]
  },
  {
   "cell_type": "code",
   "execution_count": 10,
   "id": "80ea0840",
   "metadata": {},
   "outputs": [
    {
     "data": {
      "text/plain": [
       "0.19768403639371382"
      ]
     },
     "execution_count": 10,
     "metadata": {},
     "output_type": "execute_result"
    }
   ],
   "source": [
    "len(cold_user_recs) / len(cold_users_events_with_recs)"
   ]
  },
  {
   "cell_type": "markdown",
   "id": "f1fe7cc5",
   "metadata": {},
   "source": [
    "Задание 6    \n",
    "Посчитайте метрики rmse и mae для полученных рекомендаций."
   ]
  },
  {
   "cell_type": "code",
   "execution_count": 11,
   "id": "6a3ad2fd",
   "metadata": {},
   "outputs": [
    {
     "name": "stdout",
     "output_type": "stream",
     "text": [
      "0.78 0.62\n"
     ]
    }
   ],
   "source": [
    "# посчитаем метрики рекомендаций\n",
    "from sklearn.metrics import mean_squared_error, mean_absolute_error\n",
    "\n",
    "rmse = mean_squared_error(cold_user_recs[\"rating\"], cold_user_recs[\"avg_rating\"], squared=False)\n",
    "mae = mean_absolute_error(cold_user_recs[\"rating\"], cold_user_recs[\"avg_rating\"])\n",
    "print(round(rmse, 2), round(mae, 2)) "
   ]
  },
  {
   "cell_type": "code",
   "execution_count": 12,
   "id": "b15727d7",
   "metadata": {},
   "outputs": [
    {
     "name": "stdout",
     "output_type": "stream",
     "text": [
      "Доля пользователей без релевантных рекомендаций: 0.59\n",
      "Среднее покрытие пользователей: 0.44\n"
     ]
    }
   ],
   "source": [
    "# посчитаем покрытие холодных пользователей рекомендациями\n",
    "\n",
    "cold_users_hit_ratio = cold_users_events_with_recs.groupby(\"user_id\").agg(hits=(\"avg_rating\", lambda x: (~x.isnull()).mean()))\n",
    "\n",
    "print(f\"Доля пользователей без релевантных рекомендаций: {(cold_users_hit_ratio == 0).mean().iat[0]:.2f}\")\n",
    "print(f\"Среднее покрытие пользователей: {cold_users_hit_ratio[cold_users_hit_ratio != 0].mean().iat[0]:.2f}\") "
   ]
  },
  {
   "cell_type": "code",
   "execution_count": 13,
   "id": "25349467",
   "metadata": {},
   "outputs": [],
   "source": [
    "# сохрянаяем важные переменные\n",
    "# events_test.to_parquet('cache/events_test.parquet')\n",
    "# events_train.to_parquet('cache/events_train.parquet')"
   ]
  },
  {
   "cell_type": "code",
   "execution_count": 14,
   "id": "ed089a0c",
   "metadata": {},
   "outputs": [],
   "source": [
    "# Приборка\n",
    "for var_name in (    \n",
    "    'cold_user_items_no_avg_rating_idx',\n",
    "    'cold_user_recs',\n",
    "    'cold_users',\n",
    "    'cold_users_events_with_recs',\n",
    "    'cold_users_hit_ratio',\n",
    "    'common_users',\n",
    "    'item_popularity',\n",
    "    'rmse',\n",
    "    'mae',\n",
    "    'top_k_pop_items',\n",
    "    'users_test',\n",
    "    'users_train'\n",
    "):\n",
    "    if locals().get(var_name) is not None:\n",
    "        del locals()[var_name]\n",
    "del var_name"
   ]
  }
 ],
 "metadata": {
  "kernelspec": {
   "display_name": "Python 3 (ipykernel)",
   "language": "python",
   "name": "python3"
  },
  "language_info": {
   "codemirror_mode": {
    "name": "ipython",
    "version": 3
   },
   "file_extension": ".py",
   "mimetype": "text/x-python",
   "name": "python",
   "nbconvert_exporter": "python",
   "pygments_lexer": "ipython3",
   "version": "3.10.12"
  }
 },
 "nbformat": 4,
 "nbformat_minor": 5
}
