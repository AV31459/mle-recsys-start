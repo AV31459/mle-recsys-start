{
 "cells": [
  {
   "cell_type": "markdown",
   "id": "b3589a9a-ce16-4d2e-b581-d75139fc58b3",
   "metadata": {},
   "source": [
    "### Initialization & load initial events and items"
   ]
  },
  {
   "cell_type": "code",
   "execution_count": 1,
   "id": "c6e28b2f-3822-4e27-b576-9bc42b279b32",
   "metadata": {},
   "outputs": [],
   "source": [
    "# import matplotlib.pyplot as plt\n",
    "import numpy as np\n",
    "import pandas as pd"
   ]
  },
  {
   "cell_type": "code",
   "execution_count": 2,
   "id": "4e53bc65-3e32-454b-b353-e9b95489c26c",
   "metadata": {},
   "outputs": [],
   "source": [
    "# %matplotlib inline\n",
    "# %config InlineBackend.figure_format = 'png'\n",
    "# %config InlineBackend.figure_format = 'retina'"
   ]
  },
  {
   "cell_type": "code",
   "execution_count": 3,
   "id": "6ab0db85-17df-4a4f-b23c-e9cd983d8c43",
   "metadata": {},
   "outputs": [],
   "source": [
    "items = pd.read_parquet('goodsread/items.parquet')\n",
    "events = pd.read_parquet('goodsread/events.parquet')"
   ]
  },
  {
   "cell_type": "markdown",
   "id": "b6712b36",
   "metadata": {},
   "source": [
    "3.2 Gb"
   ]
  },
  {
   "cell_type": "markdown",
   "id": "99960d86",
   "metadata": {},
   "source": [
    "### Тема 2 Урок 4 Холодный старт"
   ]
  },
  {
   "cell_type": "markdown",
   "id": "00fad37e",
   "metadata": {},
   "source": [
    "Задание 2 из 6     \n",
    "Завершите код для разбиения всех событий. В качестве точки разбиения используйте 2017-08-01, то есть отнесите в тестовую часть три последних месяца."
   ]
  },
  {
   "cell_type": "code",
   "execution_count": 4,
   "id": "d81a9668",
   "metadata": {},
   "outputs": [
    {
     "name": "stdout",
     "output_type": "stream",
     "text": [
      "428220 123223 120858\n"
     ]
    }
   ],
   "source": [
    "# зададим точку разбиения\n",
    "train_test_global_time_split_date = pd.to_datetime('2017-08-01').date()\n",
    "\n",
    "train_test_global_time_split_idx = (\n",
    "    events[\"started_at\"] < train_test_global_time_split_date\n",
    ")\n",
    "\n",
    "events_train = events[train_test_global_time_split_idx]\n",
    "events_test = events[~train_test_global_time_split_idx]\n",
    "\n",
    "# количество пользователей в train и test\n",
    "users_train = events_train['user_id'].drop_duplicates()\n",
    "users_test = events_test['user_id'].drop_duplicates()\n",
    "\n",
    "# количество пользователей, которые есть и в train, и в test\n",
    "common_users = set(users_train) & set(users_test)\n",
    "\n",
    "print(len(users_train), len(users_test), len(common_users))\n",
    "\n",
    "# Приборка\n",
    "del train_test_global_time_split_idx, train_test_global_time_split_date, events"
   ]
  },
  {
   "cell_type": "markdown",
   "id": "33c0bdcd",
   "metadata": {},
   "source": [
    "Задание 3 из 6    \n",
    "Идентифицируйте холодных пользователей и оцените их количество."
   ]
  },
  {
   "cell_type": "code",
   "execution_count": 5,
   "id": "2d8b6754",
   "metadata": {},
   "outputs": [
    {
     "name": "stdout",
     "output_type": "stream",
     "text": [
      "2365\n"
     ]
    }
   ],
   "source": [
    "cold_users = set(users_test) - common_users\n",
    "\n",
    "print(len(cold_users))"
   ]
  },
  {
   "cell_type": "markdown",
   "id": "2c8c0459",
   "metadata": {},
   "source": [
    "Задание 4 из 6   \n",
    "Завершите код, чтобы получить топ-100 наиболее популярных книг согласно условиям выше."
   ]
  },
  {
   "cell_type": "code",
   "execution_count": 6,
   "id": "9eb89dd4",
   "metadata": {},
   "outputs": [
    {
     "data": {
      "text/html": [
       "<div>\n",
       "<style scoped>\n",
       "    .dataframe tbody tr th:only-of-type {\n",
       "        vertical-align: middle;\n",
       "    }\n",
       "\n",
       "    .dataframe tbody tr th {\n",
       "        vertical-align: top;\n",
       "    }\n",
       "\n",
       "    .dataframe thead th {\n",
       "        text-align: right;\n",
       "    }\n",
       "</style>\n",
       "<table border=\"1\" class=\"dataframe\">\n",
       "  <thead>\n",
       "    <tr style=\"text-align: right;\">\n",
       "      <th></th>\n",
       "      <th>item_id</th>\n",
       "      <th>users</th>\n",
       "      <th>avg_rating</th>\n",
       "      <th>popularity_weighted</th>\n",
       "    </tr>\n",
       "  </thead>\n",
       "  <tbody>\n",
       "    <tr>\n",
       "      <th>0</th>\n",
       "      <td>1</td>\n",
       "      <td>8728</td>\n",
       "      <td>4.796059</td>\n",
       "      <td>41860.0</td>\n",
       "    </tr>\n",
       "    <tr>\n",
       "      <th>1</th>\n",
       "      <td>2</td>\n",
       "      <td>9528</td>\n",
       "      <td>4.685873</td>\n",
       "      <td>44647.0</td>\n",
       "    </tr>\n",
       "    <tr>\n",
       "      <th>2</th>\n",
       "      <td>3</td>\n",
       "      <td>15139</td>\n",
       "      <td>4.706057</td>\n",
       "      <td>71245.0</td>\n",
       "    </tr>\n",
       "  </tbody>\n",
       "</table>\n",
       "</div>"
      ],
      "text/plain": [
       "   item_id  users  avg_rating  popularity_weighted\n",
       "0        1   8728    4.796059              41860.0\n",
       "1        2   9528    4.685873              44647.0\n",
       "2        3  15139    4.706057              71245.0"
      ]
     },
     "execution_count": 6,
     "metadata": {},
     "output_type": "execute_result"
    }
   ],
   "source": [
    "top_pop_start_date = pd.to_datetime('2015-01-01').date()\n",
    "\n",
    "item_popularity = (\n",
    "    events_train # type: ignore\n",
    "    .query('started_at >= @top_pop_start_date')\n",
    "    .groupby(['item_id'])\n",
    "    .agg(users=('user_id', 'nunique'), avg_rating=('rating', 'mean'))\n",
    "    .reset_index()\n",
    ")\n",
    "item_popularity['popularity_weighted'] = (\n",
    "    item_popularity['users'] * item_popularity['avg_rating']\n",
    ")\n",
    "\n",
    "del top_pop_start_date\n",
    "item_popularity.head(3)"
   ]
  },
  {
   "cell_type": "code",
   "execution_count": 7,
   "id": "65ada115",
   "metadata": {},
   "outputs": [
    {
     "data": {
      "text/html": [
       "<div>\n",
       "<style scoped>\n",
       "    .dataframe tbody tr th:only-of-type {\n",
       "        vertical-align: middle;\n",
       "    }\n",
       "\n",
       "    .dataframe tbody tr th {\n",
       "        vertical-align: top;\n",
       "    }\n",
       "\n",
       "    .dataframe thead th {\n",
       "        text-align: right;\n",
       "    }\n",
       "</style>\n",
       "<table border=\"1\" class=\"dataframe\">\n",
       "  <thead>\n",
       "    <tr style=\"text-align: right;\">\n",
       "      <th></th>\n",
       "      <th>item_id</th>\n",
       "      <th>users</th>\n",
       "      <th>avg_rating</th>\n",
       "      <th>popularity_weighted</th>\n",
       "    </tr>\n",
       "  </thead>\n",
       "  <tbody>\n",
       "    <tr>\n",
       "      <th>32387</th>\n",
       "      <td>18007564</td>\n",
       "      <td>20207</td>\n",
       "      <td>4.321275</td>\n",
       "      <td>87320.0</td>\n",
       "    </tr>\n",
       "    <tr>\n",
       "      <th>32623</th>\n",
       "      <td>18143977</td>\n",
       "      <td>19462</td>\n",
       "      <td>4.290669</td>\n",
       "      <td>83505.0</td>\n",
       "    </tr>\n",
       "    <tr>\n",
       "      <th>30695</th>\n",
       "      <td>16096824</td>\n",
       "      <td>16770</td>\n",
       "      <td>4.301014</td>\n",
       "      <td>72128.0</td>\n",
       "    </tr>\n",
       "  </tbody>\n",
       "</table>\n",
       "</div>"
      ],
      "text/plain": [
       "        item_id  users  avg_rating  popularity_weighted\n",
       "32387  18007564  20207    4.321275              87320.0\n",
       "32623  18143977  19462    4.290669              83505.0\n",
       "30695  16096824  16770    4.301014              72128.0"
      ]
     },
     "execution_count": 7,
     "metadata": {},
     "output_type": "execute_result"
    }
   ],
   "source": [
    "# сортируем по убыванию взвешенной популярности\n",
    "item_popularity = item_popularity.sort_values(\n",
    "    'popularity_weighted',\n",
    "    ascending=False\n",
    ")\n",
    "# выбираем первые 100 айтемов со средней оценкой avg_rating не меньше 4\n",
    "top_k_pop_items = (\n",
    "    item_popularity\n",
    "    .query('avg_rating >= 4')\n",
    "    .sort_values('popularity_weighted', ascending=False)\n",
    "    .head(100)\n",
    ")\n",
    "top_k_pop_items.head(3)"
   ]
  },
  {
   "cell_type": "code",
   "execution_count": 8,
   "id": "b60129ae",
   "metadata": {},
   "outputs": [
    {
     "data": {
      "text/html": [
       "<div>\n",
       "<style scoped>\n",
       "    .dataframe tbody tr th:only-of-type {\n",
       "        vertical-align: middle;\n",
       "    }\n",
       "\n",
       "    .dataframe tbody tr th {\n",
       "        vertical-align: top;\n",
       "    }\n",
       "\n",
       "    .dataframe thead th {\n",
       "        text-align: right;\n",
       "    }\n",
       "</style>\n",
       "<table border=\"1\" class=\"dataframe\">\n",
       "  <thead>\n",
       "    <tr style=\"text-align: right;\">\n",
       "      <th></th>\n",
       "      <th>item_id</th>\n",
       "      <th>users</th>\n",
       "      <th>avg_rating</th>\n",
       "      <th>popularity_weighted</th>\n",
       "      <th>author</th>\n",
       "      <th>title</th>\n",
       "      <th>genre_and_votes</th>\n",
       "      <th>publication_year</th>\n",
       "    </tr>\n",
       "  </thead>\n",
       "  <tbody>\n",
       "    <tr>\n",
       "      <th>0</th>\n",
       "      <td>18007564</td>\n",
       "      <td>20207</td>\n",
       "      <td>4.321275</td>\n",
       "      <td>87320.0</td>\n",
       "      <td>Andy Weir</td>\n",
       "      <td>The Martian</td>\n",
       "      <td>{'Science Fiction': 11966, 'Fiction': 8430}</td>\n",
       "      <td>2014</td>\n",
       "    </tr>\n",
       "    <tr>\n",
       "      <th>1</th>\n",
       "      <td>18143977</td>\n",
       "      <td>19462</td>\n",
       "      <td>4.290669</td>\n",
       "      <td>83505.0</td>\n",
       "      <td>Anthony Doerr</td>\n",
       "      <td>All the Light We Cannot See</td>\n",
       "      <td>{'Historical-Historical Fiction': 13679, 'Fict...</td>\n",
       "      <td>2014</td>\n",
       "    </tr>\n",
       "    <tr>\n",
       "      <th>2</th>\n",
       "      <td>16096824</td>\n",
       "      <td>16770</td>\n",
       "      <td>4.301014</td>\n",
       "      <td>72128.0</td>\n",
       "      <td>Sarah J. Maas</td>\n",
       "      <td>A Court of Thorns and Roses (A Court of Thorns...</td>\n",
       "      <td>{'Fantasy': 14326, 'Young Adult': 4662, 'Roman...</td>\n",
       "      <td>2015</td>\n",
       "    </tr>\n",
       "  </tbody>\n",
       "</table>\n",
       "</div>"
      ],
      "text/plain": [
       "    item_id  users  avg_rating  popularity_weighted         author  \\\n",
       "0  18007564  20207    4.321275              87320.0      Andy Weir   \n",
       "1  18143977  19462    4.290669              83505.0  Anthony Doerr   \n",
       "2  16096824  16770    4.301014              72128.0  Sarah J. Maas   \n",
       "\n",
       "                                               title  \\\n",
       "0                                        The Martian   \n",
       "1                        All the Light We Cannot See   \n",
       "2  A Court of Thorns and Roses (A Court of Thorns...   \n",
       "\n",
       "                                     genre_and_votes  publication_year  \n",
       "0        {'Science Fiction': 11966, 'Fiction': 8430}              2014  \n",
       "1  {'Historical-Historical Fiction': 13679, 'Fict...              2014  \n",
       "2  {'Fantasy': 14326, 'Young Adult': 4662, 'Roman...              2015  "
      ]
     },
     "execution_count": 8,
     "metadata": {},
     "output_type": "execute_result"
    }
   ],
   "source": [
    "# добавляем информацию о книгах\n",
    "if not set(top_k_pop_items.columns) & {\n",
    "    \"author\", \"title\", \"genre_and_votes\", \"publication_year\"\n",
    "}:\n",
    "    top_k_pop_items = top_k_pop_items.merge(\n",
    "        items.set_index(\"item_id\")[\n",
    "            [\"author\", \"title\", \"genre_and_votes\", \"publication_year\"]\n",
    "        ],\n",
    "        on=\"item_id\",\n",
    "        how='left'\n",
    "    )\n",
    "top_k_pop_items.head(3)"
   ]
  },
  {
   "cell_type": "markdown",
   "id": "73f1218e",
   "metadata": {},
   "source": [
    "Задание 5 из 6    \n",
    "Завершите предлагаемый код, чтобы в cold_users_events_with_recs для каждого события получить столбец avg_rating. В нём при совпадении по item_id будет значение из одноимённого столбца из top_k_pop_items, иначе — пропуск.\n",
    "В cold_users_events_with_recs после выполнения завершённого кода должно быть столько же строк, сколько было до его выполнения."
   ]
  },
  {
   "cell_type": "code",
   "execution_count": 9,
   "id": "10ee21da",
   "metadata": {},
   "outputs": [],
   "source": [
    "cold_users_events_with_recs = \\\n",
    "    events_test[events_test[\"user_id\"].isin(cold_users)] \\\n",
    "    .merge(top_k_pop_items[['item_id', 'avg_rating']], on=\"item_id\", how=\"left\")\n",
    "\n",
    "cold_user_items_no_avg_rating_idx = cold_users_events_with_recs[\"avg_rating\"].isnull()\n",
    "cold_user_recs = cold_users_events_with_recs[~cold_user_items_no_avg_rating_idx] \\\n",
    "    [[\"user_id\", \"item_id\", \"rating\", \"avg_rating\"]] "
   ]
  },
  {
   "cell_type": "code",
   "execution_count": 10,
   "id": "80ea0840",
   "metadata": {},
   "outputs": [
    {
     "data": {
      "text/plain": [
       "0.19768403639371382"
      ]
     },
     "execution_count": 10,
     "metadata": {},
     "output_type": "execute_result"
    }
   ],
   "source": [
    "len(cold_user_recs) / len(cold_users_events_with_recs)"
   ]
  },
  {
   "cell_type": "markdown",
   "id": "f1fe7cc5",
   "metadata": {},
   "source": [
    "Задание 6    \n",
    "Посчитайте метрики rmse и mae для полученных рекомендаций."
   ]
  },
  {
   "cell_type": "code",
   "execution_count": 11,
   "id": "6a3ad2fd",
   "metadata": {},
   "outputs": [
    {
     "name": "stdout",
     "output_type": "stream",
     "text": [
      "0.78 0.62\n"
     ]
    }
   ],
   "source": [
    "# посчитаем метрики рекомендаций\n",
    "from sklearn.metrics import mean_squared_error, mean_absolute_error\n",
    "\n",
    "rmse = mean_squared_error(cold_user_recs[\"rating\"], cold_user_recs[\"avg_rating\"], squared=False)\n",
    "mae = mean_absolute_error(cold_user_recs[\"rating\"], cold_user_recs[\"avg_rating\"])\n",
    "print(round(rmse, 2), round(mae, 2)) "
   ]
  },
  {
   "cell_type": "code",
   "execution_count": 12,
   "id": "b15727d7",
   "metadata": {},
   "outputs": [
    {
     "name": "stdout",
     "output_type": "stream",
     "text": [
      "Доля пользователей без релевантных рекомендаций: 0.59\n",
      "Среднее покрытие пользователей: 0.44\n"
     ]
    }
   ],
   "source": [
    "# посчитаем покрытие холодных пользователей рекомендациями\n",
    "\n",
    "cold_users_hit_ratio = cold_users_events_with_recs.groupby(\"user_id\").agg(hits=(\"avg_rating\", lambda x: (~x.isnull()).mean()))\n",
    "\n",
    "print(f\"Доля пользователей без релевантных рекомендаций: {(cold_users_hit_ratio == 0).mean().iat[0]:.2f}\")\n",
    "print(f\"Среднее покрытие пользователей: {cold_users_hit_ratio[cold_users_hit_ratio != 0].mean().iat[0]:.2f}\") "
   ]
  },
  {
   "cell_type": "code",
   "execution_count": 13,
   "id": "25349467",
   "metadata": {},
   "outputs": [],
   "source": [
    "# сохрянаяем важные переменные\n",
    "# events_test.to_parquet('cache/events_test.parquet')\n",
    "# events_train.to_parquet('cache/events_train.parquet')"
   ]
  },
  {
   "cell_type": "code",
   "execution_count": 14,
   "id": "ed089a0c",
   "metadata": {},
   "outputs": [],
   "source": [
    "# Приборка\n",
    "for var_name in (    \n",
    "    'cold_user_items_no_avg_rating_idx',\n",
    "    'cold_user_recs',\n",
    "    'cold_users',\n",
    "    'cold_users_events_with_recs',\n",
    "    'cold_users_hit_ratio',\n",
    "    'common_users',\n",
    "    'item_popularity',\n",
    "    'rmse',\n",
    "    'mae',\n",
    "    'top_k_pop_items',\n",
    "    'users_test',\n",
    "    'users_train'\n",
    "):\n",
    "    if locals().get(var_name) is not None:\n",
    "        del locals()[var_name]\n",
    "del var_name"
   ]
  },
  {
   "cell_type": "markdown",
   "id": "0122e29d",
   "metadata": {},
   "source": [
    "3.5 Gb"
   ]
  },
  {
   "cell_type": "markdown",
   "id": "c13427ad",
   "metadata": {},
   "source": [
    "### Тема 2 Урок 5 Матрица взаимодействий и первые персональные рекомендации"
   ]
  },
  {
   "cell_type": "markdown",
   "id": "cf2ec400",
   "metadata": {},
   "source": [
    "Реализация SVD-алгоритма    \n",
    "Воспользуемся готовой реализацией SVD-алгоритма из библиотеки surprise. В качестве разбиения данных на train и test возьмём разбиение из предыдущего урока: events_train, events_test."
   ]
  },
  {
   "cell_type": "raw",
   "id": "3713ee73",
   "metadata": {
    "vscode": {
     "languageId": "raw"
    }
   },
   "source": [
    "from surprise import Dataset, Reader\n",
    "from surprise import SVD\n",
    "\n",
    "# используем Reader из библиотеки surprise для преобразования событий (events)\n",
    "# в формат, необходимый surprise\n",
    "reader = Reader(rating_scale=(1, 5))\n",
    "surprise_train_set = Dataset.load_from_df(events_train[['user_id', 'item_id', 'rating']], reader)\n",
    "surprise_train_set = surprise_train_set.build_full_trainset()\n",
    "\n",
    "# инициализируем модель\n",
    "svd_model = SVD(n_factors=100, random_state=0)\n",
    "\n",
    "# обучаем модель\n",
    "svd_model.fit(surprise_train_set)"
   ]
  },
  {
   "cell_type": "raw",
   "id": "b6975f8b",
   "metadata": {
    "vscode": {
     "languageId": "raw"
    }
   },
   "source": [
    "surprise_test_set = list(events_test[['user_id', 'item_id', 'rating']].itertuples(index=False))\n",
    "\n",
    "# получаем рекомендации для тестовой выборки\n",
    "svd_predictions = svd_model.test(surprise_test_set)"
   ]
  },
  {
   "cell_type": "raw",
   "id": "20933e1b",
   "metadata": {
    "vscode": {
     "languageId": "raw"
    }
   },
   "source": [
    "from surprise import accuracy\n",
    "\n",
    "rmse = accuracy.rmse(svd_predictions)\n",
    "mae = accuracy.mae(svd_predictions)\n",
    "               \n",
    "print(rmse, mae)"
   ]
  },
  {
   "cell_type": "raw",
   "id": "e143f9af",
   "metadata": {
    "vscode": {
     "languageId": "raw"
    }
   },
   "source": [
    "from surprise import NormalPredictor\n",
    "\n",
    "# инициализируем состояние генератора, это необходимо для получения\n",
    "# одной и той же последовательности случайных чисел, только в учебных целях\n",
    "np.random.seed(0)\n",
    "\n",
    "random_model = NormalPredictor()\n",
    "\n",
    "random_model.fit(surprise_train_set)\n",
    "random_predictions = random_model.test(surprise_test_set) "
   ]
  },
  {
   "cell_type": "raw",
   "id": "ef434d30",
   "metadata": {
    "vscode": {
     "languageId": "raw"
    }
   },
   "source": [
    "# Метрики для случайной модели\n",
    "rmse = accuracy.rmse(random_predictions)\n",
    "mae = accuracy.mae(random_predictions)\n",
    " \n",
    "print(rmse, mae)"
   ]
  },
  {
   "cell_type": "markdown",
   "id": "a6587f61",
   "metadata": {},
   "source": [
    "Получение рекомендации"
   ]
  },
  {
   "cell_type": "raw",
   "id": "c0259476",
   "metadata": {
    "vscode": {
     "languageId": "raw"
    }
   },
   "source": [
    "def get_recommendations_svd(user_id, all_items, events, model, include_seen=True, n=5):\n",
    "\n",
    "    \"\"\" возвращает n рекомендаций для user_id \"\"\"\n",
    "    \n",
    "    # получим список идентификаторов всех книг\n",
    "    all_items = set(events['item_id'].unique())\n",
    "    \n",
    "    # учитываем флаг, стоит ли уже прочитанные книги включать в рекомендации\n",
    "    if include_seen:\n",
    "        items_to_predict = list(all_items)\n",
    "    else:\n",
    "        # получим список книг, которые пользователь уже прочитал (\"видел\")\n",
    "        seen_items = set(events[events['user_id'] == user_id]['item_id'].unique())\n",
    "        \n",
    "        # книги, которые пользователь ещё не читал\n",
    "        # только их и будем включать в рекомендации\n",
    "        items_to_predict = list(all_items - seen_items)\n",
    "    \n",
    "    # получаем скоры для списка книг, т. е. рекомендации\n",
    "    predictions = [model.predict(user_id, item_id) for item_id in items_to_predict]\n",
    "    \n",
    "    # сортируем рекомендации по убыванию скора и берём только n первых\n",
    "    recommendations = sorted(predictions, key=lambda x: x.est, reverse=True)[:n]\n",
    "    \n",
    "    return pd.DataFrame([(pred.iid, pred.est) for pred in recommendations], columns=[\"item_id\", \"score\"])"
   ]
  },
  {
   "cell_type": "raw",
   "id": "83273b8c",
   "metadata": {
    "vscode": {
     "languageId": "raw"
    }
   },
   "source": [
    "get_recommendations_svd(1296647, items, events_train, svd_model)"
   ]
  },
  {
   "cell_type": "raw",
   "id": "46f71935",
   "metadata": {
    "vscode": {
     "languageId": "raw"
    }
   },
   "source": [
    "# выберем произвольного пользователя из тренировочной выборки (\"прошлого\")\n",
    "user_id = events_train['user_id'].sample().iat[0]\n",
    "\n",
    "print(f\"user_id: {user_id}\")\n",
    "\n",
    "print(\"История (последние события, recent)\")\n",
    "user_history = (\n",
    "    events_train\n",
    "    .query(\"user_id == @user_id\")\n",
    "    .merge(items.set_index(\"item_id\")[[\"author\", \"title\", \"genre_and_votes\"]], on=\"item_id\")\n",
    ")\n",
    "user_history_to_print = user_history[[\"author\", \"title\", \"started_at\", \"read_at\", \"rating\", \"genre_and_votes\"]].tail(10)\n",
    "display(user_history_to_print)\n",
    "\n",
    "print(\"Рекомендации\")\n",
    "user_recommendations = get_recommendations_svd(user_id, items, events_train, svd_model)\n",
    "user_recommendations = user_recommendations.merge(items[[\"item_id\", \"author\", \"title\", \"genre_and_votes\"]], on=\"item_id\")\n",
    "display(user_recommendations) "
   ]
  },
  {
   "cell_type": "code",
   "execution_count": 15,
   "id": "af0328f1",
   "metadata": {},
   "outputs": [],
   "source": [
    "# Приборка\n",
    "for var_name in (    \n",
    "    'reader', 'surprise_train_set', 'svd_model', 'surprise_test_set', 'svd_predictions', 'rmse', 'mae', 'random_model', 'random_predictions', 'user_id', 'user_history', 'user_history_to_print', 'user_recommendations'\n",
    "):\n",
    "    if locals().get(var_name) is not None:\n",
    "        del locals()[var_name]\n",
    "del var_name"
   ]
  },
  {
   "cell_type": "markdown",
   "id": "4c650dee",
   "metadata": {},
   "source": [
    "### Тема 3 Урок 2 Коллаборативная фильтрация: ALS"
   ]
  },
  {
   "cell_type": "code",
   "execution_count": 16,
   "id": "b66304c9",
   "metadata": {},
   "outputs": [],
   "source": [
    "events = pd.read_parquet('goodsread/events.parquet')"
   ]
  },
  {
   "cell_type": "code",
   "execution_count": 17,
   "id": "6d2033bb",
   "metadata": {},
   "outputs": [],
   "source": [
    "import scipy\n",
    "import sklearn.preprocessing\n",
    "\n",
    "# перекодируем идентификаторы пользователей: \n",
    "# из имеющихся в последовательность 0, 1, 2, ...\n",
    "user_encoder = sklearn.preprocessing.LabelEncoder()\n",
    "user_encoder.fit(events[\"user_id\"])\n",
    "events_train[\"user_id_enc\"] = user_encoder.transform(events_train[\"user_id\"])\n",
    "events_test[\"user_id_enc\"] = user_encoder.transform(events_test[\"user_id\"])\n",
    "\n",
    "# перекодируем идентификаторы объектов: \n",
    "# из имеющихся в последовательность 0, 1, 2, ...\n",
    "item_encoder = sklearn.preprocessing.LabelEncoder()\n",
    "item_encoder.fit(items[\"item_id\"])\n",
    "items[\"item_id_enc\"] = item_encoder.transform(items[\"item_id\"])\n",
    "events_train[\"item_id_enc\"] = item_encoder.transform(events_train[\"item_id\"])\n",
    "events_test[\"item_id_enc\"] = item_encoder.transform(events_test[\"item_id\"])"
   ]
  },
  {
   "cell_type": "code",
   "execution_count": 18,
   "id": "5048b82e",
   "metadata": {},
   "outputs": [],
   "source": [
    "# создаём sparse-матрицу формата CSR \n",
    "user_item_matrix_train = scipy.sparse.csr_matrix((\n",
    "    events_train[\"rating\"],\n",
    "    (events_train['user_id_enc'], events_train['item_id_enc'])),\n",
    "    dtype=np.int8)"
   ]
  },
  {
   "cell_type": "markdown",
   "id": "d7cd4ffd",
   "metadata": {},
   "source": [
    "Имея подготовленную матрицу взаимодействий, перейдём к третьему шагу — создадим ALS-модель. Для примера возьмём количество латентных факторов для матриц $P, Q$, равным 50.      \n",
    "Выполните код для создания и тренировки модели."
   ]
  },
  {
   "cell_type": "code",
   "execution_count": 19,
   "id": "979e1eac",
   "metadata": {},
   "outputs": [
    {
     "name": "stderr",
     "output_type": "stream",
     "text": [
      "/home/mle-user/mle_projects/mle-recsys-start/venv/lib/python3.10/site-packages/tqdm/auto.py:21: TqdmWarning: IProgress not found. Please update jupyter and ipywidgets. See https://ipywidgets.readthedocs.io/en/stable/user_install.html\n",
      "  from .autonotebook import tqdm as notebook_tqdm\n",
      "100%|██████████| 50/50 [03:00<00:00,  3.62s/it]\n"
     ]
    }
   ],
   "source": [
    "from implicit.als import AlternatingLeastSquares\n",
    "from threadpoolctl import threadpool_limits\n",
    "\n",
    "threadpool_limits(1, \"blas\")\n",
    "\n",
    "als_model = AlternatingLeastSquares(factors=50, iterations=50, regularization=0.05, random_state=0)\n",
    "als_model.fit(user_item_matrix_train)"
   ]
  },
  {
   "cell_type": "markdown",
   "id": "c1068a71",
   "metadata": {},
   "source": [
    "Чтобы получить рекомендации для пользователя с помощью модели ALS, используем такую функцию:"
   ]
  },
  {
   "cell_type": "code",
   "execution_count": 20,
   "id": "79c194ea",
   "metadata": {},
   "outputs": [],
   "source": [
    "def get_recommendations_als(user_item_matrix, model, user_id, user_encoder, item_encoder, include_seen=True, n=5):\n",
    "    \"\"\"\n",
    "    Возвращает отранжированные рекомендации для заданного пользователя\n",
    "    \"\"\"\n",
    "    user_id_enc = user_encoder.transform([user_id])[0]\n",
    "    recommendations = model.recommend(\n",
    "         user_id_enc, \n",
    "         user_item_matrix[user_id_enc], \n",
    "         filter_already_liked_items=not include_seen,\n",
    "         N=n)\n",
    "    recommendations = pd.DataFrame({\"item_id_enc\": recommendations[0], \"score\": recommendations[1]})\n",
    "    recommendations[\"item_id\"] = item_encoder.inverse_transform(recommendations[\"item_id_enc\"])\n",
    "    \n",
    "    return recommendations"
   ]
  },
  {
   "cell_type": "markdown",
   "id": "c1a2ceac",
   "metadata": {},
   "source": [
    "Получим рекомендации для всех имеющихся пользователей. Выполните код ниже."
   ]
  },
  {
   "cell_type": "code",
   "execution_count": 21,
   "id": "e235a18d",
   "metadata": {},
   "outputs": [],
   "source": [
    "# получаем список всех возможных user_id (перекодированных)\n",
    "user_ids_encoded = range(len(user_encoder.classes_))\n",
    "\n",
    "# получаем рекомендации для всех пользователей\n",
    "als_recommendations = als_model.recommend(\n",
    "    user_ids_encoded, \n",
    "    user_item_matrix_train[user_ids_encoded], \n",
    "    filter_already_liked_items=False, N=100\n",
    ")"
   ]
  },
  {
   "cell_type": "markdown",
   "id": "a55064c0",
   "metadata": {},
   "source": [
    "Код возвращает рекомендации как список списков, это не очень удобно. Преобразуем его в более удобный формат — табличный."
   ]
  },
  {
   "cell_type": "code",
   "execution_count": 22,
   "id": "9c283cd0",
   "metadata": {},
   "outputs": [],
   "source": [
    "# преобразуем полученные рекомендации в табличный формат\n",
    "item_ids_enc = als_recommendations[0]\n",
    "als_scores = als_recommendations[1]\n",
    "\n",
    "als_recommendations = pd.DataFrame({\n",
    "    \"user_id_enc\": user_ids_encoded,\n",
    "    \"item_id_enc\": item_ids_enc.tolist(), \n",
    "    \"score\": als_scores.tolist()})\n",
    "als_recommendations = als_recommendations.explode([\"item_id_enc\", \"score\"], ignore_index=True)\n",
    "\n",
    "# приводим типы данных\n",
    "als_recommendations[\"item_id_enc\"] = als_recommendations[\"item_id_enc\"].astype(\"int\")\n",
    "als_recommendations[\"score\"] = als_recommendations[\"score\"].astype(\"float\")\n",
    "\n",
    "# получаем изначальные идентификаторы\n",
    "als_recommendations[\"user_id\"] = user_encoder.inverse_transform(als_recommendations[\"user_id_enc\"])\n",
    "als_recommendations[\"item_id\"] = item_encoder.inverse_transform(als_recommendations[\"item_id_enc\"])\n",
    "als_recommendations = als_recommendations.drop(columns=[\"user_id_enc\", \"item_id_enc\"])"
   ]
  },
  {
   "cell_type": "markdown",
   "id": "23baed21",
   "metadata": {},
   "source": [
    "Сохраним полученные рекомендации в файл, они ещё нам пригодятся."
   ]
  },
  {
   "cell_type": "code",
   "execution_count": 23,
   "id": "3a5ce272",
   "metadata": {},
   "outputs": [],
   "source": [
    "als_recommendations = als_recommendations[[\"user_id\", \"item_id\", \"score\"]]\n",
    "als_recommendations.to_parquet(\"cache/als_recommendations.parquet\")"
   ]
  },
  {
   "cell_type": "markdown",
   "id": "5593993e",
   "metadata": {},
   "source": [
    "На практике часто используют метрику NDCG, она принимает значение от 0 (предлагаемый порядок никак не соответствует истинному) до 1 (предлагаемый порядок в точности соответствует истинному). Подробнее о NDCG можно прочитать на MachineLearningInterview.com.     \n",
    "Для удобства оценки добавим в датафрейм с рекомендациями истинные оценки из тестовой выборки:"
   ]
  },
  {
   "cell_type": "code",
   "execution_count": 24,
   "id": "5be06c16",
   "metadata": {},
   "outputs": [],
   "source": [
    "als_recommendations = (\n",
    "    als_recommendations\n",
    "    .merge(\n",
    "        events_test[[\"user_id\", \"item_id\", \"rating\"]].rename(columns={\"rating\": \"rating_test\"}), \n",
    "        on=[\"user_id\", \"item_id\"],\n",
    "        how=\"left\"\n",
    "    )\n",
    ")"
   ]
  },
  {
   "cell_type": "markdown",
   "id": "58267b9f",
   "metadata": {},
   "source": [
    "Подсчитать метрику NDCG для одного пользователя поможет готовая реализация из scikit-learn:"
   ]
  },
  {
   "cell_type": "code",
   "execution_count": 25,
   "id": "629d36b4",
   "metadata": {},
   "outputs": [],
   "source": [
    "import sklearn.metrics\n",
    "\n",
    "def compute_ndcg(rating: pd.Series, score: pd.Series, k):\n",
    "\n",
    "    \"\"\" подсчёт ndcg\n",
    "    rating: истинные оценки\n",
    "    score: оценки модели\n",
    "    k: количество айтемов (по убыванию score) для оценки, остальные - отбрасываются\n",
    "    \"\"\"\n",
    "    \n",
    "    # если кол-во объектов меньше 2, то NDCG - не определена\n",
    "    if len(rating) < 2:\n",
    "        return np.nan\n",
    "\n",
    "    ndcg = sklearn.metrics.ndcg_score(np.asarray([rating.to_numpy()]), np.asarray([score.to_numpy()]), k=k)\n",
    "\n",
    "    return ndcg"
   ]
  },
  {
   "cell_type": "markdown",
   "id": "2e640752",
   "metadata": {},
   "source": [
    "Умея считать NDCG для одного пользователя, посчитаем данную метрику, например, для\n",
    "k=5 для всех пользователей из тестовой выборки. В результате каждому пользователю будет соответствовать одно значение NDCG@5. "
   ]
  },
  {
   "cell_type": "code",
   "execution_count": 26,
   "id": "970b7763",
   "metadata": {},
   "outputs": [],
   "source": [
    "rating_test_idx = ~als_recommendations[\"rating_test\"].isnull()\n",
    "ndcg_at_5_scores = als_recommendations[rating_test_idx].groupby(\"user_id\").apply(\n",
    "    lambda x: compute_ndcg(x[\"rating_test\"], x[\"score\"], k=5)\n",
    ")"
   ]
  },
  {
   "cell_type": "markdown",
   "id": "e6143d2f",
   "metadata": {},
   "source": [
    "Имея ряд значений NDCG@5 по пользователям, можно посчитать среднее её значение (по всем пользователям):"
   ]
  },
  {
   "cell_type": "code",
   "execution_count": 27,
   "id": "407072b3",
   "metadata": {},
   "outputs": [
    {
     "name": "stdout",
     "output_type": "stream",
     "text": [
      "0.975946709792109\n"
     ]
    }
   ],
   "source": [
    "print(ndcg_at_5_scores.mean())"
   ]
  },
  {
   "cell_type": "code",
   "execution_count": 28,
   "id": "4dfba885",
   "metadata": {},
   "outputs": [],
   "source": [
    "# Приборка\n",
    "for var_name in (    \n",
    "    'events', 'user_encoder', 'item_encoder', 'user_item_matrix_train', 'als_model', 'als_recommendations',\n",
    "    'user_ids_encoded', 'item_ids_enc', 'als_scores', 'rating_test_idx', 'ndcg_at_5_scores'\n",
    "):\n",
    "    if locals().get(var_name) is not None:\n",
    "        del locals()[var_name]\n",
    "del var_name"
   ]
  },
  {
   "cell_type": "markdown",
   "id": "d15efe5d",
   "metadata": {},
   "source": [
    "### Тема 3 Урок 3 Контентные рекомендации"
   ]
  },
  {
   "cell_type": "markdown",
   "id": "f108167a",
   "metadata": {},
   "source": [
    "Сначала преобразуем значения в genre_and_votes из текстового представления в тип в Python:"
   ]
  },
  {
   "cell_type": "code",
   "execution_count": 29,
   "id": "e8c16458",
   "metadata": {},
   "outputs": [],
   "source": [
    "# items_loaded = pd.read_parquet('goodsread/items.parquet')"
   ]
  },
  {
   "cell_type": "code",
   "execution_count": 30,
   "id": "cde296b7",
   "metadata": {},
   "outputs": [],
   "source": [
    "items[\"genre_and_votes\"] = items[\"genre_and_votes\"].apply(eval)"
   ]
  },
  {
   "cell_type": "markdown",
   "id": "b73e7093",
   "metadata": {},
   "source": [
    "Задание 1 из 4     \n",
    "Теперь составьте список жанров с долями голосов по ним в genres.  Дополните и выполните следующий код:"
   ]
  },
  {
   "cell_type": "code",
   "execution_count": 31,
   "id": "b6c20cfa",
   "metadata": {},
   "outputs": [],
   "source": [
    "def get_genres(items):\n",
    "\n",
    "    \"\"\" \n",
    "    извлекает список жанров по всем книгам, \n",
    "    подсчитывает долю голосов по каждому их них\n",
    "    \"\"\"\n",
    "    \n",
    "    genres_counter = {}\n",
    "    \n",
    "    for k, v, in items.iterrows():\n",
    "        genre_and_votes = v['genre_and_votes']\n",
    "        if genre_and_votes is None or not isinstance(genre_and_votes, dict):\n",
    "            continue\n",
    "        for genre, votes in genre_and_votes.items():\n",
    "            # увеличиваем счётчик жанров\n",
    "            try:\n",
    "                genres_counter[genre] += votes\n",
    "            except KeyError:\n",
    "                genres_counter[genre] = votes\n",
    "\n",
    "    genres = pd.Series(genres_counter, name=\"votes\")\n",
    "    genres = genres.to_frame()\n",
    "    genres = genres.reset_index().rename(columns={\"index\": \"name\"})\n",
    "    genres.index.name = \"genre_id\"\n",
    "    \n",
    "    return genres\n",
    "   \n",
    "genres = get_genres(items)"
   ]
  },
  {
   "cell_type": "markdown",
   "id": "0d70830c",
   "metadata": {},
   "source": [
    "Результат выполнения кода — список жанров с долями голосов по ним в genres. Посмотрим на самые популярные жанры:"
   ]
  },
  {
   "cell_type": "code",
   "execution_count": 32,
   "id": "67431967",
   "metadata": {},
   "outputs": [
    {
     "data": {
      "text/html": [
       "<div>\n",
       "<style scoped>\n",
       "    .dataframe tbody tr th:only-of-type {\n",
       "        vertical-align: middle;\n",
       "    }\n",
       "\n",
       "    .dataframe tbody tr th {\n",
       "        vertical-align: top;\n",
       "    }\n",
       "\n",
       "    .dataframe thead th {\n",
       "        text-align: right;\n",
       "    }\n",
       "</style>\n",
       "<table border=\"1\" class=\"dataframe\">\n",
       "  <thead>\n",
       "    <tr style=\"text-align: right;\">\n",
       "      <th></th>\n",
       "      <th>name</th>\n",
       "      <th>votes</th>\n",
       "      <th>score</th>\n",
       "    </tr>\n",
       "    <tr>\n",
       "      <th>genre_id</th>\n",
       "      <th></th>\n",
       "      <th></th>\n",
       "      <th></th>\n",
       "    </tr>\n",
       "  </thead>\n",
       "  <tbody>\n",
       "    <tr>\n",
       "      <th>25</th>\n",
       "      <td>Fantasy</td>\n",
       "      <td>6850115</td>\n",
       "      <td>0.149498</td>\n",
       "    </tr>\n",
       "    <tr>\n",
       "      <th>1</th>\n",
       "      <td>Fiction</td>\n",
       "      <td>6406698</td>\n",
       "      <td>0.139821</td>\n",
       "    </tr>\n",
       "    <tr>\n",
       "      <th>38</th>\n",
       "      <td>Classics</td>\n",
       "      <td>3415071</td>\n",
       "      <td>0.074531</td>\n",
       "    </tr>\n",
       "    <tr>\n",
       "      <th>18</th>\n",
       "      <td>Young Adult</td>\n",
       "      <td>3297027</td>\n",
       "      <td>0.071955</td>\n",
       "    </tr>\n",
       "    <tr>\n",
       "      <th>34</th>\n",
       "      <td>Romance</td>\n",
       "      <td>2422690</td>\n",
       "      <td>0.052873</td>\n",
       "    </tr>\n",
       "    <tr>\n",
       "      <th>5</th>\n",
       "      <td>Nonfiction</td>\n",
       "      <td>1737798</td>\n",
       "      <td>0.037926</td>\n",
       "    </tr>\n",
       "    <tr>\n",
       "      <th>16</th>\n",
       "      <td>Historical-Historical Fiction</td>\n",
       "      <td>1531489</td>\n",
       "      <td>0.033423</td>\n",
       "    </tr>\n",
       "    <tr>\n",
       "      <th>20</th>\n",
       "      <td>Mystery</td>\n",
       "      <td>1371370</td>\n",
       "      <td>0.029929</td>\n",
       "    </tr>\n",
       "    <tr>\n",
       "      <th>24</th>\n",
       "      <td>Science Fiction</td>\n",
       "      <td>1218997</td>\n",
       "      <td>0.026604</td>\n",
       "    </tr>\n",
       "    <tr>\n",
       "      <th>33</th>\n",
       "      <td>Fantasy-Paranormal</td>\n",
       "      <td>857137</td>\n",
       "      <td>0.018706</td>\n",
       "    </tr>\n",
       "  </tbody>\n",
       "</table>\n",
       "</div>"
      ],
      "text/plain": [
       "                                   name    votes     score\n",
       "genre_id                                                  \n",
       "25                              Fantasy  6850115  0.149498\n",
       "1                               Fiction  6406698  0.139821\n",
       "38                             Classics  3415071  0.074531\n",
       "18                          Young Adult  3297027  0.071955\n",
       "34                              Romance  2422690  0.052873\n",
       "5                            Nonfiction  1737798  0.037926\n",
       "16        Historical-Historical Fiction  1531489  0.033423\n",
       "20                              Mystery  1371370  0.029929\n",
       "24                      Science Fiction  1218997  0.026604\n",
       "33                   Fantasy-Paranormal   857137  0.018706"
      ]
     },
     "execution_count": 32,
     "metadata": {},
     "output_type": "execute_result"
    }
   ],
   "source": [
    "genres[\"score\"] = genres[\"votes\"] / genres[\"votes\"].sum()\n",
    "genres.sort_values(by=\"score\", ascending=False).head(10)"
   ]
  },
  {
   "cell_type": "markdown",
   "id": "120eeea9",
   "metadata": {},
   "source": [
    "Задание 2 из 4    \n",
    "Функция в коде ниже строит матрицу вида «книга-жанр». Изучите её. Подумайте, что будет соответствовать столбцам матрицы. "
   ]
  },
  {
   "cell_type": "code",
   "execution_count": 33,
   "id": "b627baf4",
   "metadata": {},
   "outputs": [],
   "source": [
    "def get_item2genre_matrix(genres, items):\n",
    "\n",
    "    genre_names_to_id = genres.reset_index().set_index(\"name\")[\"genre_id\"].to_dict()\n",
    "    \n",
    "    # list to build CSR matrix\n",
    "    genres_csr_data = []\n",
    "    genres_csr_row_idx = []\n",
    "    genres_csr_col_idx = []\n",
    "    \n",
    "    for item_idx, (k, v) in enumerate(items.iterrows()):\n",
    "        if v[\"genre_and_votes\"] is None:\n",
    "            continue\n",
    "        for genre_name, votes in v[\"genre_and_votes\"].items():\n",
    "            genre_idx = genre_names_to_id[genre_name]\n",
    "            genres_csr_data.append(int(votes))\n",
    "            genres_csr_row_idx.append(item_idx)\n",
    "            genres_csr_col_idx.append(genre_idx)\n",
    "\n",
    "    genres_csr = scipy.sparse.csr_matrix((genres_csr_data, (genres_csr_row_idx, genres_csr_col_idx)), shape=(len(items), len(genres)))\n",
    "    # нормализуем, чтобы сумма оценок принадлежности к жанру была равна 1 (сумма по строке = 1)\n",
    "    genres_csr = sklearn.preprocessing.normalize(genres_csr, norm='l1', axis=1)\n",
    "    \n",
    "    return genres_csr "
   ]
  },
  {
   "cell_type": "markdown",
   "id": "43661a36",
   "metadata": {},
   "source": [
    "Получим матрицу с весами по жанрам для каждой книги:"
   ]
  },
  {
   "cell_type": "code",
   "execution_count": 34,
   "id": "e086735a",
   "metadata": {},
   "outputs": [],
   "source": [
    "items = items.sort_values(by=\"item_id_enc\")\n",
    "all_items_genres_csr = get_item2genre_matrix(genres, items)"
   ]
  },
  {
   "cell_type": "markdown",
   "id": "f3580073",
   "metadata": {},
   "source": [
    "Аналогичным образом получим матрицу с весами по жанрам для какого-нибудь пользователя, например, для пользователя с идентификатором 1000010.    \n",
    "Задание 3 из 4     \n",
    "Дополните и выполните код ниже, чтобы получить описанную матрицу. "
   ]
  },
  {
   "cell_type": "code",
   "execution_count": 35,
   "id": "1eb740be",
   "metadata": {},
   "outputs": [
    {
     "data": {
      "text/plain": [
       "<22x815 sparse matrix of type '<class 'numpy.float64'>'\n",
       "\twith 149 stored elements in Compressed Sparse Row format>"
      ]
     },
     "execution_count": 35,
     "metadata": {},
     "output_type": "execute_result"
    }
   ],
   "source": [
    "user_id = 1000010\n",
    "user_events = events_train.query(\"user_id == @user_id\")[[\"item_id\", \"rating\"]]\n",
    "user_items = items[items[\"item_id\"].isin(user_events[\"item_id\"])]\n",
    "\n",
    "user_items_genres_csr = get_item2genre_matrix(genres, user_items)\n",
    "user_items_genres_csr"
   ]
  },
  {
   "cell_type": "markdown",
   "id": "82f96e9d",
   "metadata": {},
   "source": [
    "На практике часто пользователь явно указывает предпочтения в своём профиле. У нас таких данных нет, поэтому предпочтения пользователя по жанрам вычислим автоматически на основе его истории поведения. "
   ]
  },
  {
   "cell_type": "code",
   "execution_count": 36,
   "id": "36d935ad",
   "metadata": {},
   "outputs": [],
   "source": [
    "# вычислим склонность пользователя к жанрам как среднее взвешенное значение популяции на его оценки книг.\n",
    "\n",
    "# преобразуем пользовательские оценки из списка в вектор-столбец\n",
    "user_ratings = user_events[\"rating\"].to_numpy() / 5\n",
    "user_ratings = np.expand_dims(user_ratings, axis=1)\n",
    "\n",
    "user_items_genres_weighted = user_items_genres_csr.multiply(user_ratings)\n",
    "\n",
    "user_genres_scores = np.asarray(user_items_genres_weighted.mean(axis=0)) "
   ]
  },
  {
   "cell_type": "markdown",
   "id": "ee061cc2",
   "metadata": {},
   "source": [
    "Можно посмотреть, какие жанры больше всего нравятся пользователю:"
   ]
  },
  {
   "cell_type": "code",
   "execution_count": 37,
   "id": "397bfb4d",
   "metadata": {},
   "outputs": [
    {
     "data": {
      "text/html": [
       "<div>\n",
       "<style scoped>\n",
       "    .dataframe tbody tr th:only-of-type {\n",
       "        vertical-align: middle;\n",
       "    }\n",
       "\n",
       "    .dataframe tbody tr th {\n",
       "        vertical-align: top;\n",
       "    }\n",
       "\n",
       "    .dataframe thead th {\n",
       "        text-align: right;\n",
       "    }\n",
       "</style>\n",
       "<table border=\"1\" class=\"dataframe\">\n",
       "  <thead>\n",
       "    <tr style=\"text-align: right;\">\n",
       "      <th></th>\n",
       "      <th>name</th>\n",
       "      <th>votes</th>\n",
       "      <th>score</th>\n",
       "    </tr>\n",
       "    <tr>\n",
       "      <th>genre_id</th>\n",
       "      <th></th>\n",
       "      <th></th>\n",
       "      <th></th>\n",
       "    </tr>\n",
       "  </thead>\n",
       "  <tbody>\n",
       "    <tr>\n",
       "      <th>1</th>\n",
       "      <td>Fiction</td>\n",
       "      <td>6406698</td>\n",
       "      <td>0.185241</td>\n",
       "    </tr>\n",
       "    <tr>\n",
       "      <th>38</th>\n",
       "      <td>Classics</td>\n",
       "      <td>3415071</td>\n",
       "      <td>0.103879</td>\n",
       "    </tr>\n",
       "    <tr>\n",
       "      <th>25</th>\n",
       "      <td>Fantasy</td>\n",
       "      <td>6850115</td>\n",
       "      <td>0.072447</td>\n",
       "    </tr>\n",
       "    <tr>\n",
       "      <th>5</th>\n",
       "      <td>Nonfiction</td>\n",
       "      <td>1737798</td>\n",
       "      <td>0.050865</td>\n",
       "    </tr>\n",
       "    <tr>\n",
       "      <th>24</th>\n",
       "      <td>Science Fiction</td>\n",
       "      <td>1218997</td>\n",
       "      <td>0.040920</td>\n",
       "    </tr>\n",
       "  </tbody>\n",
       "</table>\n",
       "</div>"
      ],
      "text/plain": [
       "                     name    votes     score\n",
       "genre_id                                    \n",
       "1                 Fiction  6406698  0.185241\n",
       "38               Classics  3415071  0.103879\n",
       "25                Fantasy  6850115  0.072447\n",
       "5              Nonfiction  1737798  0.050865\n",
       "24        Science Fiction  1218997  0.040920"
      ]
     },
     "execution_count": 37,
     "metadata": {},
     "output_type": "execute_result"
    }
   ],
   "source": [
    "# выведем список жанров, которые предпочитает пользователь\n",
    "\n",
    "user_genres = genres.copy()\n",
    "user_genres[\"score\"] = np.ravel(user_genres_scores)\n",
    "user_genres = user_genres[user_genres[\"score\"] > 0].sort_values(by=[\"score\"], ascending=False)\n",
    "\n",
    "user_genres.head(5) "
   ]
  },
  {
   "cell_type": "markdown",
   "id": "70e8bd23",
   "metadata": {},
   "source": [
    "Построим рекомендации       \n",
    "Теперь рассчитаем рекомендации на основе двух объектов:      \n",
    "all_items_genres_csr — матрица распределения интересов всех пользователей по жанрам. Строка — вектор распределения интересов всех пользователей по жанрам для одного объекта.\n",
    "user_genres_scores — вектор интересов пользователя по жанрам.\n",
    "Рекомендации будем рассчитывать с помощью косинусного сходства между двумя векторами:     \n",
    " \n",
    "Чтобы посчитать косинусное сходство user_genres_scores к вектор-строкам из all_items_genres_csr, необходимо выполнить вычисления по формуле столько раз, сколько есть строк в all_items_genres_csr.\n",
    "Задание 4 из 4\n",
    "Получите наиболее релевантные рекомендации для пользователя. Дополните код так, чтобы переменная top_k_indices заполнялась индексами соответствующих книг. Для этого удобно использовать np.argsort от similarity_scores, подсчитанной для всех книг.\n",
    "После вычисления top_k_indices по полученным индексам извлеките список объектов, которые могут быть интересны пользователю, при помощи кода:"
   ]
  },
  {
   "cell_type": "code",
   "execution_count": 38,
   "id": "aa01328e",
   "metadata": {},
   "outputs": [],
   "source": [
    "from sklearn.metrics.pairwise import cosine_similarity\n",
    "\n",
    "# вычисляем сходство между вектором пользователя и векторами по книгам\n",
    "similarity_scores = cosine_similarity(all_items_genres_csr, user_genres_scores)\n",
    "\n",
    "# преобразуем в одномерный массив\n",
    "similarity_scores = similarity_scores.flatten()\n",
    "\n",
    "# получаем индексы top-k (по убыванию значений), по сути, индексы книг (encoded)\n",
    "k = 5\n",
    "top_k_indices = np.argsort(similarity_scores)[:k]"
   ]
  },
  {
   "cell_type": "code",
   "execution_count": 39,
   "id": "02f536c3",
   "metadata": {},
   "outputs": [
    {
     "data": {
      "text/html": [
       "<div>\n",
       "<style scoped>\n",
       "    .dataframe tbody tr th:only-of-type {\n",
       "        vertical-align: middle;\n",
       "    }\n",
       "\n",
       "    .dataframe tbody tr th {\n",
       "        vertical-align: top;\n",
       "    }\n",
       "\n",
       "    .dataframe thead th {\n",
       "        text-align: right;\n",
       "    }\n",
       "</style>\n",
       "<table border=\"1\" class=\"dataframe\">\n",
       "  <thead>\n",
       "    <tr style=\"text-align: right;\">\n",
       "      <th></th>\n",
       "      <th>author</th>\n",
       "      <th>title</th>\n",
       "      <th>genre_and_votes</th>\n",
       "    </tr>\n",
       "  </thead>\n",
       "  <tbody>\n",
       "    <tr>\n",
       "      <th>1673075</th>\n",
       "      <td>Mo Willems</td>\n",
       "      <td>Today I Will Fly! (Elephant &amp; Piggie, #1)</td>\n",
       "      <td>{'Childrens-Picture Books': 409, 'Childrens': 199}</td>\n",
       "    </tr>\n",
       "    <tr>\n",
       "      <th>1523576</th>\n",
       "      <td>Lester Sumrall</td>\n",
       "      <td>Gifts and Ministries of the Holy Spirit</td>\n",
       "      <td>{'Christian': 6, 'Religion-Theology': 3, 'Christian-Christian Non Fiction': 2, 'Spirituality': 2}</td>\n",
       "    </tr>\n",
       "    <tr>\n",
       "      <th>1422146</th>\n",
       "      <td>Nicholas Davies</td>\n",
       "      <td>Diana the Killing of a Princess</td>\n",
       "      <td>None</td>\n",
       "    </tr>\n",
       "    <tr>\n",
       "      <th>515584</th>\n",
       "      <td>Nayyirah Waheed</td>\n",
       "      <td>Nejma</td>\n",
       "      <td>{'Poetry': 929, 'Feminism': 31}</td>\n",
       "    </tr>\n",
       "    <tr>\n",
       "      <th>956516</th>\n",
       "      <td>Tina Marie Kaht, Valeria Avantario</td>\n",
       "      <td>Grandparents' Day</td>\n",
       "      <td>{'Childrens': 2}</td>\n",
       "    </tr>\n",
       "  </tbody>\n",
       "</table>\n",
       "</div>"
      ],
      "text/plain": [
       "                                     author  \\\n",
       "1673075                          Mo Willems   \n",
       "1523576                      Lester Sumrall   \n",
       "1422146                     Nicholas Davies   \n",
       "515584                      Nayyirah Waheed   \n",
       "956516   Tina Marie Kaht, Valeria Avantario   \n",
       "\n",
       "                                             title  \\\n",
       "1673075  Today I Will Fly! (Elephant & Piggie, #1)   \n",
       "1523576    Gifts and Ministries of the Holy Spirit   \n",
       "1422146            Diana the Killing of a Princess   \n",
       "515584                                       Nejma   \n",
       "956516                           Grandparents' Day   \n",
       "\n",
       "                                                                                           genre_and_votes  \n",
       "1673075                                                 {'Childrens-Picture Books': 409, 'Childrens': 199}  \n",
       "1523576  {'Christian': 6, 'Religion-Theology': 3, 'Christian-Christian Non Fiction': 2, 'Spirituality': 2}  \n",
       "1422146                                                                                               None  \n",
       "515584                                                                     {'Poetry': 929, 'Feminism': 31}  \n",
       "956516                                                                                    {'Childrens': 2}  "
      ]
     },
     "metadata": {},
     "output_type": "display_data"
    }
   ],
   "source": [
    "selected_items = items[items[\"item_id_enc\"].isin(top_k_indices)]\n",
    "\n",
    "with pd.option_context(\"max_colwidth\", 100):\n",
    "   display(selected_items[[\"author\", \"title\", \"genre_and_votes\"]])"
   ]
  },
  {
   "cell_type": "code",
   "execution_count": 40,
   "id": "18927637",
   "metadata": {},
   "outputs": [],
   "source": [
    "# Приборка\n",
    "for var_name in (    \n",
    "    'user_id', 'user_events', 'user_items', 'user_items_genres_csr', \n",
    "    'user_ratings', 'user_items_genres_weighted', 'user_genres_scores', 'user_genres', 'similarity_scores',\n",
    "    'top_k_indices', 'selected_items', 'k'\n",
    "    # 'genres', 'all_items_genres_csr',\n",
    "):\n",
    "    if locals().get(var_name) is not None:\n",
    "        del locals()[var_name]\n",
    "del var_name"
   ]
  },
  {
   "cell_type": "markdown",
   "id": "191b373b",
   "metadata": {},
   "source": [
    "### Тема 3 Урок 4 Валидация"
   ]
  },
  {
   "cell_type": "code",
   "execution_count": 41,
   "id": "14826a91",
   "metadata": {},
   "outputs": [],
   "source": [
    "als_recommendations = pd.read_parquet('cache/als_recommendations.parquet')"
   ]
  },
  {
   "cell_type": "markdown",
   "id": "64d3de09",
   "metadata": {},
   "source": [
    "Посчитаем recall и precision для ALS-рекомендаций (als_recommendations). Для этого события в тестовой выборке и рекомендации для одних и тех же пользователей разметим признаками:\n",
    "gt (ground truth): объект есть в тестовой выборке;\n",
    "pr (predicted): объект есть в рекомендациях.\n",
    "Теперь разметим признаки бинарной классификации:\n",
    "TP: объект есть и в тестовой выборке, и в рекомендациях (истинная рекомендация),\n",
    "FP: объекта нет в тестовой выборке, но он есть в рекомендациях (ложноположительная рекомендация),\n",
    "FN: объект есть в тестовой выборке, но его нет в рекомендациях (ложноотрицательная рекомендация)"
   ]
  },
  {
   "cell_type": "code",
   "execution_count": 42,
   "id": "387a3565",
   "metadata": {},
   "outputs": [],
   "source": [
    "def process_events_recs_for_binary_metrics(events_train, events_test, recs, top_k=None):\n",
    "\n",
    "    \"\"\"\n",
    "    размечает пары <user_id, item_id> для общего множества пользователей признаками\n",
    "    - gt (ground truth)\n",
    "    - pr (prediction)\n",
    "    top_k: расчёт ведётся только для top k-рекомендаций\n",
    "    \"\"\"\n",
    "\n",
    "    events_test[\"gt\"] = True\n",
    "    common_users = set(events_test[\"user_id\"]) & set(recs[\"user_id\"])\n",
    "\n",
    "    print(f\"Common users: {len(common_users)}\")\n",
    "    \n",
    "    events_for_common_users = events_test[events_test[\"user_id\"].isin(common_users)].copy()\n",
    "    recs_for_common_users = recs[recs[\"user_id\"].isin(common_users)].copy()\n",
    "\n",
    "    recs_for_common_users = recs_for_common_users.sort_values([\"user_id\", \"score\"], ascending=[True, False])\n",
    "\n",
    "    # оставляет только те item_id, которые были в events_train, \n",
    "    # т. к. модель не имела никакой возможности давать рекомендации для новых айтемов\n",
    "    events_for_common_users = events_for_common_users[events_for_common_users[\"item_id\"].isin(events_train[\"item_id\"].unique())]\n",
    "\n",
    "    if top_k is not None:\n",
    "        recs_for_common_users = recs_for_common_users.groupby(\"user_id\").head(top_k)\n",
    "    \n",
    "    events_recs_common = events_for_common_users[[\"user_id\", \"item_id\", \"gt\"]].merge(\n",
    "        recs_for_common_users[[\"user_id\", \"item_id\", \"score\"]], \n",
    "        on=[\"user_id\", \"item_id\"], how=\"outer\")    \n",
    "\n",
    "    events_recs_common[\"gt\"] = events_recs_common[\"gt\"].fillna(False)\n",
    "    events_recs_common[\"pr\"] = ~events_recs_common[\"score\"].isnull()\n",
    "    \n",
    "    events_recs_common[\"tp\"] = events_recs_common[\"gt\"] & events_recs_common[\"pr\"]\n",
    "    events_recs_common[\"fp\"] = ~events_recs_common[\"gt\"] & events_recs_common[\"pr\"]\n",
    "    events_recs_common[\"fn\"] = events_recs_common[\"gt\"] & ~events_recs_common[\"pr\"]\n",
    "\n",
    "    return events_recs_common "
   ]
  },
  {
   "cell_type": "markdown",
   "id": "6086a448",
   "metadata": {},
   "source": [
    "Обработаем ALS-рекомендации для подсчёта метрик для 5 лучших рекомендаций:"
   ]
  },
  {
   "cell_type": "code",
   "execution_count": 43,
   "id": "0c6dad72",
   "metadata": {},
   "outputs": [
    {
     "name": "stdout",
     "output_type": "stream",
     "text": [
      "Common users: 123223\n"
     ]
    }
   ],
   "source": [
    "events_recs_for_binary_metrics = process_events_recs_for_binary_metrics(\n",
    "  events_train,\n",
    "    events_test, \n",
    "    als_recommendations, \n",
    "    top_k=5\n",
    ")"
   ]
  },
  {
   "cell_type": "markdown",
   "id": "ee9a1e54",
   "metadata": {},
   "source": [
    "Дополните код функции compute_cls_metrics для расчёта recall. Получите значения метрик precision@5, recall@5."
   ]
  },
  {
   "cell_type": "code",
   "execution_count": 44,
   "id": "ecf1c7f3",
   "metadata": {},
   "outputs": [],
   "source": [
    "def compute_cls_metrics(events_recs_for_binary_metric):\n",
    "    \n",
    "    groupper = events_recs_for_binary_metric.groupby(\"user_id\")\n",
    "\n",
    "    # precision = tp / (tp + fp)\n",
    "    precision = groupper[\"tp\"].sum()/(groupper[\"tp\"].sum()+groupper[\"fp\"].sum())\n",
    "    precision = precision.fillna(0).mean()\n",
    "    \n",
    "    # recall = tp / (tp + fn)\n",
    "    recall = groupper[\"tp\"].sum()/(groupper[\"tp\"].sum()+groupper[\"fn\"].sum())\n",
    "    recall = recall.fillna(0).mean()\n",
    "\n",
    "    return precision, recall"
   ]
  },
  {
   "cell_type": "code",
   "execution_count": 45,
   "id": "89f939cf",
   "metadata": {},
   "outputs": [
    {
     "data": {
      "text/plain": [
       "(0.007581376853347184, 0.014121568795222568)"
      ]
     },
     "execution_count": 45,
     "metadata": {},
     "output_type": "execute_result"
    }
   ],
   "source": [
    "compute_cls_metrics(events_recs_for_binary_metrics)"
   ]
  },
  {
   "cell_type": "code",
   "execution_count": 46,
   "id": "38d128a2",
   "metadata": {},
   "outputs": [],
   "source": [
    "# Приборка\n",
    "for var_name in (    \n",
    "    'events_recs_for_binary_metrics', \n",
    "):\n",
    "    if locals().get(var_name) is not None:\n",
    "        del locals()[var_name]\n",
    "del var_name"
   ]
  },
  {
   "cell_type": "markdown",
   "id": "3befea67",
   "metadata": {},
   "source": [
    "### Тема 4 Урок 2 Специфичные метрики"
   ]
  },
  {
   "cell_type": "markdown",
   "id": "58cddbcf",
   "metadata": {},
   "source": [
    "Задание 1 из 2  \n",
    "Для рекомендаций, сохранённых в переменной als_recommendations, посчитайте покрытие по объектам согласно формуле выше. При этом используйте весь топ-100 рекомендаций."
   ]
  },
  {
   "cell_type": "code",
   "execution_count": 47,
   "id": "5d54278d",
   "metadata": {},
   "outputs": [
    {
     "name": "stdout",
     "output_type": "stream",
     "text": [
      "0.09\n"
     ]
    }
   ],
   "source": [
    "# расчёт покрытия по объектам\n",
    "cov_items = als_recommendations['item_id'].nunique() / len(items)\n",
    "print(f\"{cov_items:.2f}\") "
   ]
  },
  {
   "cell_type": "markdown",
   "id": "e0f59123",
   "metadata": {},
   "source": [
    "Задание 2 из 2  \n",
    "Посчитайте среднее Novelty@5 для als_recommendations. Для этого: \n",
    "разметьте каждую рекомендацию в als_recommendations булевым признаком read (False — пользователь не читал книгу, True — пользователь читал книгу), используя events_train,\n",
    "посчитайте Novelty@5 для каждого пользователя,\n",
    "посчитайте среднеарифметическое для полученных значений Novelty@5."
   ]
  },
  {
   "cell_type": "code",
   "execution_count": 48,
   "id": "ff37c1d3",
   "metadata": {},
   "outputs": [
    {
     "data": {
      "text/html": [
       "<div>\n",
       "<style scoped>\n",
       "    .dataframe tbody tr th:only-of-type {\n",
       "        vertical-align: middle;\n",
       "    }\n",
       "\n",
       "    .dataframe tbody tr th {\n",
       "        vertical-align: top;\n",
       "    }\n",
       "\n",
       "    .dataframe thead th {\n",
       "        text-align: right;\n",
       "    }\n",
       "</style>\n",
       "<table border=\"1\" class=\"dataframe\">\n",
       "  <thead>\n",
       "    <tr style=\"text-align: right;\">\n",
       "      <th></th>\n",
       "      <th>user_id</th>\n",
       "      <th>item_id</th>\n",
       "      <th>score</th>\n",
       "    </tr>\n",
       "  </thead>\n",
       "  <tbody>\n",
       "    <tr>\n",
       "      <th>0</th>\n",
       "      <td>1000000</td>\n",
       "      <td>3</td>\n",
       "      <td>0.990941</td>\n",
       "    </tr>\n",
       "  </tbody>\n",
       "</table>\n",
       "</div>"
      ],
      "text/plain": [
       "   user_id  item_id     score\n",
       "0  1000000        3  0.990941"
      ]
     },
     "execution_count": 48,
     "metadata": {},
     "output_type": "execute_result"
    }
   ],
   "source": [
    "als_recommendations.head(1)"
   ]
  },
  {
   "cell_type": "code",
   "execution_count": 49,
   "id": "aca9c0ca",
   "metadata": {},
   "outputs": [
    {
     "data": {
      "text/plain": [
       "0.607333279143491"
      ]
     },
     "execution_count": 49,
     "metadata": {},
     "output_type": "execute_result"
    }
   ],
   "source": [
    "# разметим каждую рекомендацию признаком read\n",
    "events_train[\"read\"] = True\n",
    "als_recommendations = als_recommendations.merge(\n",
    "    events_train[[\"read\", \"user_id\", \"item_id\"]], \n",
    "    on=[\"user_id\", \"item_id\"],\n",
    "    how=\"left\"\n",
    ")\n",
    "als_recommendations[\"read\"] = als_recommendations[\"read\"].fillna(False).astype(\"bool\")\n",
    "\n",
    "# проставим ранги\n",
    "als_recommendations = als_recommendations.sort_values(by=['user_id', 'score'], ascending=[True, False])\n",
    "als_recommendations[\"rank\"] = als_recommendations.groupby('user_id').cumcount() + 1\n",
    "\n",
    "# посчитаем novelty по пользователям\n",
    "novelty_5 = (1-als_recommendations.query(\"rank <= 5\").groupby(\"user_id\")[\"read\"].mean())\n",
    "\n",
    "# посчитаем средний novelty\n",
    "novelty_5.mean()"
   ]
  },
  {
   "cell_type": "code",
   "execution_count": 50,
   "id": "0258f9f0",
   "metadata": {},
   "outputs": [],
   "source": [
    "# Приборка\n",
    "for var_name in (    \n",
    "    'cov_items', 'novelty_5'\n",
    "):\n",
    "    if locals().get(var_name) is not None:\n",
    "        del locals()[var_name]\n",
    "del var_name"
   ]
  },
  {
   "cell_type": "markdown",
   "id": "d2581413",
   "metadata": {},
   "source": [
    "### Тема 4 Урок 3"
   ]
  },
  {
   "cell_type": "markdown",
   "id": "f6c7d7f3",
   "metadata": {},
   "source": [
    "Задание 1 из 6  \n",
    "Используем отложенную тестовую часть данных — назовём её events_test — для получения двух новых частей данных:\n",
    "одна, составляющая первые 45 дней, будет использоваться для таргетов,\n",
    "другая, состоящая из 45 последних дней, будет новой тестовой выборкой.\n",
    "Завершите код так, чтобы в events_labels оказалась первая часть данных, а в events_test_2 — вторая."
   ]
  },
  {
   "cell_type": "code",
   "execution_count": 66,
   "id": "620cac28",
   "metadata": {},
   "outputs": [],
   "source": [
    "# задаём точку разбиения\n",
    "split_date_for_labels = pd.to_datetime(\"2017-09-15\").date()\n",
    "\n",
    "split_date_for_labels_idx = events_test[\"started_at\"] < split_date_for_labels\n",
    "events_labels = events_test[split_date_for_labels_idx].copy()\n",
    "events_test_2 = events_test[~split_date_for_labels_idx].copy() "
   ]
  },
  {
   "cell_type": "markdown",
   "id": "a4cef4ef",
   "metadata": {},
   "source": [
    "Задание 2 из 6  \n",
    "Объедините имеющихся кандидатов по совпадению user_id, item_id в один список."
   ]
  },
  {
   "cell_type": "code",
   "execution_count": 67,
   "id": "80099b83",
   "metadata": {},
   "outputs": [],
   "source": [
    "# загружаем рекомендации от двух базовых генераторов\n",
    "als_recommendations = pd.read_parquet(\"candidates/training/als_recommendations.parquet\")\n",
    "content_recommendations = pd.read_parquet(\"candidates/training/content_recommendations.parquet\")\n",
    "\n",
    "candidates = pd.merge(\n",
    "    als_recommendations[[\"user_id\", \"item_id\", \"score\"]].rename(columns={\"score\": \"als_score\"}),\n",
    "    content_recommendations[[\"user_id\", \"item_id\", \"score\"]].rename(columns={\"score\": \"cnt_score\"}),\n",
    "    on=[\"user_id\", \"item_id\"],\n",
    "    how=\"outer\"\n",
    ") "
   ]
  },
  {
   "cell_type": "markdown",
   "id": "03f5c622",
   "metadata": {},
   "source": [
    "Добавим в candidates таргеты, используя историю взаимодействий в events_labels. \n",
    "Задание 3 из 6  \n",
    "Дополните код ниже.\n",
    "В candidates добавьте колонку target со значениями:\n",
    "1 для тех item_id, которые пользователь прочитал (положительный пример).\n",
    "0 — для всех остальных (негативный пример).\n",
    "В candidates_for_train отберите все положительные примеры, а также не менее четырёх негативных примеров для каждого пользователя в положительных примерах."
   ]
  },
  {
   "cell_type": "code",
   "execution_count": 68,
   "id": "5aad6687",
   "metadata": {},
   "outputs": [],
   "source": [
    "# добавляем таргет к кандидатам со значением:\n",
    "# — 1 для тех item_id, которые пользователь прочитал\n",
    "# — 0, для всех остальных \n",
    "\n",
    "events_labels[\"target\"] = 1\n",
    "candidates = candidates.merge(events_labels[[\"user_id\", \"item_id\", \"target\"]], \n",
    "                              on=[\"user_id\", \"item_id\"], how='left')\n",
    "candidates[\"target\"] = candidates[\"target\"].fillna(0).astype(\"int\")\n",
    "\n",
    "# в кандидатах оставляем только тех пользователей, у которых есть хотя бы один положительный таргет\n",
    "candidates_to_sample = candidates.groupby(\"user_id\").filter(lambda x: x[\"target\"].sum() > 0)\n",
    "\n",
    "# для каждого пользователя оставляем только 4 негативных примера\n",
    "negatives_per_user = 4\n",
    "candidates_for_train = pd.concat([\n",
    "    candidates_to_sample.query('target == 1'),\n",
    "    candidates_to_sample.query(\"target == 0\") \\\n",
    "        .groupby(\"user_id\") \\\n",
    "        .apply(lambda x: x.sample(negatives_per_user, random_state=0))\n",
    "    ])"
   ]
  },
  {
   "cell_type": "markdown",
   "id": "c455c8db",
   "metadata": {},
   "source": [
    "Обучение модели  \n",
    "Выше мы подготовили все нужные артефакты для обучения модели ранжирования. Выполните код, чтобы обучить модель."
   ]
  },
  {
   "cell_type": "code",
   "execution_count": 69,
   "id": "7f508aea",
   "metadata": {},
   "outputs": [
    {
     "name": "stdout",
     "output_type": "stream",
     "text": [
      "0:\tlearn: 0.6526057\ttotal: 21.5ms\tremaining: 21.5s\n",
      "100:\tlearn: 0.5118959\ttotal: 1.88s\tremaining: 16.8s\n",
      "200:\tlearn: 0.5111710\ttotal: 3.86s\tremaining: 15.4s\n",
      "300:\tlearn: 0.5105208\ttotal: 5.83s\tremaining: 13.5s\n",
      "400:\tlearn: 0.5100174\ttotal: 7.78s\tremaining: 11.6s\n",
      "500:\tlearn: 0.5095747\ttotal: 9.77s\tremaining: 9.73s\n",
      "600:\tlearn: 0.5091600\ttotal: 11.7s\tremaining: 7.79s\n",
      "700:\tlearn: 0.5087803\ttotal: 13.7s\tremaining: 5.86s\n",
      "800:\tlearn: 0.5084220\ttotal: 15.7s\tremaining: 3.91s\n",
      "900:\tlearn: 0.5080930\ttotal: 17.7s\tremaining: 1.94s\n",
      "999:\tlearn: 0.5078081\ttotal: 19.6s\tremaining: 0us\n"
     ]
    },
    {
     "data": {
      "text/plain": [
       "<catboost.core.CatBoostClassifier at 0x7fb5496b6b60>"
      ]
     },
     "execution_count": 69,
     "metadata": {},
     "output_type": "execute_result"
    }
   ],
   "source": [
    "from catboost import CatBoostClassifier, Pool\n",
    "\n",
    "# задаём имена колонок признаков и таргета\n",
    "features = ['als_score', 'cnt_score']\n",
    "target = 'target'\n",
    "\n",
    "# Create the Pool object\n",
    "train_data = Pool(\n",
    "    data=candidates_for_train[features], \n",
    "    label=candidates_for_train[target])\n",
    "\n",
    "# инициализируем модель CatBoostClassifier\n",
    "cb_model = CatBoostClassifier(\n",
    "    iterations=1000,\n",
    "    learning_rate=0.1,\n",
    "    depth=6,\n",
    "    loss_function='Logloss',\n",
    "    verbose=100,\n",
    "    random_seed=0\n",
    ")\n",
    "\n",
    "# тренируем модель\n",
    "cb_model.fit(train_data)"
   ]
  },
  {
   "cell_type": "markdown",
   "id": "fb191011",
   "metadata": {},
   "source": [
    "Задание 4 из 6   \n",
    "Дополните код ниже так, чтобы в candidates_to_rank попали кандидаты от обоих базовых генераторов подобно тому, как это было сделано для фазы тренировки выше."
   ]
  },
  {
   "cell_type": "code",
   "execution_count": 70,
   "id": "ca802c89",
   "metadata": {},
   "outputs": [
    {
     "name": "stdout",
     "output_type": "stream",
     "text": [
      "23830721\n"
     ]
    }
   ],
   "source": [
    "# загружаем рекомендации от двух базовых генераторов\n",
    "als_recommendations_2 = pd.read_parquet(\"candidates/inference/als_recommendations.parquet\")\n",
    "content_recommendations_2 = pd.read_parquet(\"candidates/inference/content_recommendations.parquet\")\n",
    "\n",
    "candidates_to_rank = pd.merge(\n",
    "    als_recommendations_2[[\"user_id\", \"item_id\", \"score\"]].rename(columns={\"score\": \"als_score\"}),\n",
    "    content_recommendations_2[[\"user_id\", \"item_id\", \"score\"]].rename(columns={\"score\": \"cnt_score\"}),\n",
    "    on=[\"user_id\", \"item_id\"],\n",
    "    how=\"outer\"\n",
    ")\n",
    "\n",
    "# оставляем только тех пользователей, что есть в тестовой выборке, для экономии ресурсов\n",
    "candidates_to_rank = candidates_to_rank[candidates_to_rank[\"user_id\"].isin(events_test[\"user_id\"].drop_duplicates())]\n",
    "print(len(candidates_to_rank)) "
   ]
  },
  {
   "cell_type": "markdown",
   "id": "2d8db3a9",
   "metadata": {},
   "source": [
    "Задание 5 из 6      \n",
    "Дополните код для того, чтобы вызвать модель и получить для каждого пользователя топ-100 рекомендаций — значение rank нужно выставить не более ста."
   ]
  },
  {
   "cell_type": "code",
   "execution_count": 71,
   "id": "01497519",
   "metadata": {},
   "outputs": [],
   "source": [
    "inference_data = Pool(data=candidates_to_rank[features])\n",
    "predictions = cb_model.predict_proba(inference_data)\n",
    "\n",
    "candidates_to_rank[\"cb_score\"] = predictions[:, 1]\n",
    "\n",
    "# для каждого пользователя проставляем rank, начиная с 1 — это максимальный cb_score\n",
    "candidates_to_rank = candidates_to_rank.sort_values([\"user_id\", \"cb_score\"], ascending=[True, False])\n",
    "candidates_to_rank[\"rank\"] = candidates_to_rank.groupby('user_id')['cb_score'].cumcount(ascending=False) + 1\n",
    "\n",
    "max_recommendations_per_user = 100\n",
    "final_recommendations = candidates_to_rank.query('rank <= @max_recommendations_per_user')"
   ]
  },
  {
   "cell_type": "markdown",
   "id": "5a813e1d",
   "metadata": {},
   "source": [
    "Задание 6 из 6\n",
    "Посчитайте метрики recall и precision.\n",
    "Используйте полученные рекомендации final_recommendations, отложенную тестовую выборку events_test_2, созданные в уроке «Валидация» предыдущей темы.\n",
    "А также функции process_events_recs_for_binary_metrics и compute_cls_metrics."
   ]
  },
  {
   "cell_type": "code",
   "execution_count": 72,
   "id": "dc7cae5c",
   "metadata": {},
   "outputs": [
    {
     "name": "stdout",
     "output_type": "stream",
     "text": [
      "Common users: 75194\n",
      "precision: 0.002, recall: 0.005\n"
     ]
    }
   ],
   "source": [
    "events_inference = pd.concat([events_train, events_labels])\n",
    "\n",
    "cb_events_recs_for_binary_metrics_5 = process_events_recs_for_binary_metrics(\n",
    "    events_inference,\n",
    "    events_test_2,\n",
    "    final_recommendations.rename(columns={\"cb_score\": \"score\"}), \n",
    "    top_k=5)\n",
    "\n",
    "cb_precision_5, cb_recall_5 = compute_cls_metrics(cb_events_recs_for_binary_metrics_5)\n",
    "\n",
    "print(f\"precision: {cb_precision_5:.3f}, recall: {cb_recall_5:.3f}\")"
   ]
  },
  {
   "cell_type": "code",
   "execution_count": 73,
   "id": "bdb32fc6",
   "metadata": {},
   "outputs": [],
   "source": [
    "# Приборка\n",
    "for var_name in (    \n",
    "    'split_date_for_labels','split_date_for_labels_idx', 'events_test_2', \n",
    "    'als_recommendations', 'content_recommendations', 'candidates', 'candidates_to_sample',\n",
    "    'negatives_per_user', 'features', 'target', 'train_data', 'cb_model',\n",
    "    'als_recommendations_2', 'content_recommendations_2', 'inference_data',\n",
    "    'predictions', 'max_recommendations_per_user', 'final_recommendations',\n",
    "    'cb_events_recs_for_binary_metrics_5', 'cb_precision_5', 'cb_recall_5'\n",
    "    # 'events_inference', 'candidates_for_train', 'candidates_to_rank', 'events_labels'\n",
    "):\n",
    "    if locals().get(var_name) is not None:\n",
    "        del locals()[var_name]\n",
    "del var_name"
   ]
  },
  {
   "cell_type": "markdown",
   "id": "62f18c4f",
   "metadata": {},
   "source": [
    "### Тема 4 Урок 4 Как использовать признаки для улучшения рекомендаций"
   ]
  },
  {
   "cell_type": "markdown",
   "id": "b1f0920e",
   "metadata": {},
   "source": [
    "Задание 1 из 6      \n",
    "Посчитаем новый признак — «возраст» книги на основе года публикации. Назовём его age. \n",
    "Используя обновлённый справочник объектов items, добавьте признаки возраста age и средней популярности average_rating к кандидатам для тренировки модели candidates_for_train и к кандидатам для ранжирования candidates_to_rank."
   ]
  },
  {
   "cell_type": "code",
   "execution_count": 74,
   "id": "a3cb4abb",
   "metadata": {},
   "outputs": [],
   "source": [
    "items[\"age\"] = 2018-items[\"publication_year\"]\n",
    "invalid_age_idx = items[\"age\"] < 0\n",
    "items.loc[invalid_age_idx, \"age\"] = np.nan\n",
    "items[\"age\"] = items[\"age\"].astype(\"float\")\n",
    "\n",
    "candidates_for_train = candidates_for_train.merge(\n",
    "    items[['item_id', 'age', 'average_rating']],\n",
    "    on='item_id',\n",
    "    how='left'\n",
    ")\n",
    "candidates_to_rank = candidates_to_rank.merge(\n",
    "    items[['item_id', 'age', 'average_rating']],\n",
    "    on='item_id',\n",
    "    how='left'\n",
    ")"
   ]
  },
  {
   "cell_type": "markdown",
   "id": "86881d4b",
   "metadata": {},
   "source": [
    "Задание 2 из 6  \n",
    "Используя события в events_train и events_inference, посчитайте и добавьте признаки пользователей к кандидатам в candidates_for_train и candidates_to_rank соответственно:\n",
    "reading_years — длительность истории пользователя,\n",
    "books_read — количество книг, прочитанных за всё время,\n",
    "books_per_year — среднее количество прочитанных книг в год,\n",
    "rating_avg — средняя оценка,\n",
    "rating_std — дисперсия оценок."
   ]
  },
  {
   "cell_type": "code",
   "execution_count": 75,
   "id": "3e356d88",
   "metadata": {},
   "outputs": [],
   "source": [
    "def get_user_features(events):\n",
    "    \"\"\" считает пользовательские признаки \"\"\"\n",
    "    \n",
    "    user_features = events.groupby(\"user_id\").agg(\n",
    "        reading_years=(\"started_at\", lambda x: (x.max()-x.min()).days/365.25 if (x.max()-x.min()).days else 1/365.25),\n",
    "        books_read=('read', 'sum'),\n",
    "        rating_avg=(\"rating\", \"mean\"),\n",
    "        rating_std=(\"rating\", \"std\"))\n",
    "    \n",
    "    # display(\n",
    "    #     (user_features[\"reading_years\"] == 0).value_counts()\n",
    "    # )\n",
    "    user_features[\"books_per_year\"] = user_features[\"books_read\"] / user_features[\"reading_years\"]\n",
    "    \n",
    "    return user_features\n",
    "\n",
    "user_features_for_train = get_user_features(events_train)\n",
    "candidates_for_train = candidates_for_train.merge(user_features_for_train, on=\"user_id\", how=\"left\")\n",
    "\n",
    "# оставим только тех пользователей, что есть в тесте, для экономии ресурсов\n",
    "events_inference = pd.concat([events_train, events_labels])\n",
    "events_inference = events_inference[events_inference[\"user_id\"].isin(events_test[\"user_id\"].drop_duplicates())]\n",
    "\n",
    "user_features_for_ranking = get_user_features(events_inference)\n",
    "candidates_to_rank = candidates_to_rank.merge(user_features_for_ranking, on=\"user_id\", how=\"left\")"
   ]
  },
  {
   "cell_type": "markdown",
   "id": "0b03bc63",
   "metadata": {},
   "source": [
    "Задание 3 из 6      \n",
    "Используя истории events_train и events_inference, а также ранее полученные артефакты по жанрам книг — словарь жанров genres, оценки книг по жанрам all_items_genres_csr — добавьте парные признаки, по одному на каждый жанр, которые совместно показывают, какие жанры предпочитает пользователь. \n",
    "Жанровость в данном случае — численный коэффициент принадлежности книги к жанру. Например, если пользователь прочитал три книги, которые с весами 0.3, 0.2, 0.4 из  all_items_genres_csr относятся к Fantasy, то интерес пользователя к Fantasy составляет среднее этих трёх оценок — 0.3.\n",
    "Для экономии ресурсов возьмём не все жанры, а десять наиболее популярных. Все остальные отметим как не вошедшие в топ и обозначим как others. "
   ]
  },
  {
   "cell_type": "code",
   "execution_count": null,
   "id": "28a908b7",
   "metadata": {},
   "outputs": [],
   "source": []
  },
  {
   "cell_type": "code",
   "execution_count": 77,
   "id": "6af4efe3",
   "metadata": {},
   "outputs": [],
   "source": [
    "# Приборка\n",
    "for var_name in (    \n",
    "    'invalid_age_idx', 'user_features_for_train', 'user_features_for_ranking'\n",
    "):\n",
    "    if locals().get(var_name) is not None:\n",
    "        del locals()[var_name]\n",
    "del var_name"
   ]
  },
  {
   "cell_type": "markdown",
   "id": "e95ba4b0",
   "metadata": {},
   "source": [
    "### Тема x Урок yy"
   ]
  },
  {
   "cell_type": "code",
   "execution_count": 78,
   "id": "d40ee683",
   "metadata": {},
   "outputs": [],
   "source": [
    "# Приборка\n",
    "for var_name in (    \n",
    "    '',\n",
    "):\n",
    "    if locals().get(var_name) is not None:\n",
    "        del locals()[var_name]\n",
    "del var_name"
   ]
  }
 ],
 "metadata": {
  "kernelspec": {
   "display_name": "Python 3 (ipykernel)",
   "language": "python",
   "name": "python3"
  },
  "language_info": {
   "codemirror_mode": {
    "name": "ipython",
    "version": 3
   },
   "file_extension": ".py",
   "mimetype": "text/x-python",
   "name": "python",
   "nbconvert_exporter": "python",
   "pygments_lexer": "ipython3",
   "version": "3.10.12"
  }
 },
 "nbformat": 4,
 "nbformat_minor": 5
}
