{
 "cells": [
  {
   "cell_type": "markdown",
   "id": "b3589a9a-ce16-4d2e-b581-d75139fc58b3",
   "metadata": {},
   "source": [
    "# Initialization"
   ]
  },
  {
   "cell_type": "code",
   "execution_count": 1,
   "id": "c6e28b2f-3822-4e27-b576-9bc42b279b32",
   "metadata": {},
   "outputs": [],
   "source": [
    "import logging\n",
    "\n",
    "import matplotlib.pyplot as plt\n",
    "import numpy as np\n",
    "import pandas as pd"
   ]
  },
  {
   "cell_type": "code",
   "execution_count": 2,
   "id": "4e53bc65-3e32-454b-b353-e9b95489c26c",
   "metadata": {},
   "outputs": [],
   "source": [
    "%matplotlib inline\n",
    "%config InlineBackend.figure_format = 'png'\n",
    "%config InlineBackend.figure_format = 'retina'"
   ]
  },
  {
   "cell_type": "markdown",
   "id": "e8b1d982-8795-45c2-b221-6e5a07eaa150",
   "metadata": {},
   "source": [
    "# Загрузка данных"
   ]
  },
  {
   "cell_type": "code",
   "execution_count": 3,
   "id": "6ab0db85-17df-4a4f-b23c-e9cd983d8c43",
   "metadata": {},
   "outputs": [],
   "source": [
    "items = pd.read_parquet('goodsread/items.parquet')\n",
    "events = pd.read_parquet('goodsread/events.parquet')"
   ]
  },
  {
   "cell_type": "markdown",
   "id": "f18f28dd-0371-4144-bf11-d077d44e8de0",
   "metadata": {},
   "source": [
    "# Разбиение с учётом хронологии"
   ]
  },
  {
   "cell_type": "markdown",
   "id": "47016708-6f94-4518-886c-58fa6e7bb315",
   "metadata": {},
   "source": [
    "Рекомендательные системы на практике работают с учётом хронологии. Поэтому поток событий для тренировки и валидации полезно делить на то, что уже случилось, и что ещё случится. Это позволяет проводить валидацию на тех же пользователях, на которых тренировались, но на их событиях в будущем."
   ]
  },
  {
   "cell_type": "markdown",
   "id": "e8df5897-bbcd-4364-b5d3-ec7d1de6743a",
   "metadata": {},
   "source": [
    "# === Знакомство: \"холодный\" старт"
   ]
  },
  {
   "cell_type": "code",
   "execution_count": 4,
   "id": "b6b2d6ff",
   "metadata": {},
   "outputs": [
    {
     "data": {
      "text/plain": [
       "{'user_id': 1229132,\n",
       " 'book_id': 22034,\n",
       " 'started_at': datetime.date(2015, 7, 12),\n",
       " 'read_at': datetime.date(2015, 7, 17),\n",
       " 'is_read': True,\n",
       " 'rating': 5,\n",
       " 'is_reviewed': False,\n",
       " 'started_at_month': datetime.date(2015, 7, 1)}"
      ]
     },
     "execution_count": 4,
     "metadata": {},
     "output_type": "execute_result"
    }
   ],
   "source": [
    "events.iloc[0].to_dict()"
   ]
  },
  {
   "cell_type": "markdown",
   "id": "2d6b2b25",
   "metadata": {},
   "source": [
    "Разбиение выборки (задание 2 из 6)"
   ]
  },
  {
   "cell_type": "code",
   "execution_count": 5,
   "id": "44c2a841",
   "metadata": {},
   "outputs": [
    {
     "name": "stdout",
     "output_type": "stream",
     "text": [
      "428220 123223 120858\n"
     ]
    }
   ],
   "source": [
    "# зададим точку разбиения\n",
    "train_test_global_time_split_date = pd.to_datetime('2017-08-01').date()\n",
    "\n",
    "train_test_global_time_split_idx = (\n",
    "    events[\"started_at\"] < train_test_global_time_split_date\n",
    ")\n",
    "\n",
    "events_train = events[train_test_global_time_split_idx]\n",
    "events_test = events[~train_test_global_time_split_idx]\n",
    "\n",
    "# количество пользователей в train и test\n",
    "users_train = events_train['user_id'].drop_duplicates()\n",
    "users_test = events_test['user_id'].drop_duplicates()\n",
    "\n",
    "# количество пользователей, которые есть и в train, и в test\n",
    "common_users = set(users_train) & set(users_test)\n",
    "\n",
    "print(len(users_train), len(users_test), len(common_users))"
   ]
  },
  {
   "cell_type": "markdown",
   "id": "1778939e",
   "metadata": {},
   "source": [
    "Идентифицируем холодных пользователей (задание 3 из 6)"
   ]
  },
  {
   "cell_type": "code",
   "execution_count": 6,
   "id": "4cb94a23-8d1d-4025-908f-f290013fa429",
   "metadata": {},
   "outputs": [
    {
     "name": "stdout",
     "output_type": "stream",
     "text": [
      "2365\n"
     ]
    }
   ],
   "source": [
    "cold_users = set(users_test) - common_users\n",
    "\n",
    "print(len(cold_users))"
   ]
  },
  {
   "cell_type": "markdown",
   "id": "b71dd818",
   "metadata": {},
   "source": [
    "Топ-100 наиболее популярных книг с 2015 года и со средней оценкой не меньше 4 (задание 4 из 6)"
   ]
  },
  {
   "cell_type": "code",
   "execution_count": 7,
   "id": "6f94990b-65c8-43cc-88da-ebe6a12163b4",
   "metadata": {},
   "outputs": [],
   "source": [
    "top_pop_start_date = pd.to_datetime('2015-01-01').date()\n",
    "\n",
    "item_popularity = (\n",
    "    events_train\n",
    "    .query('started_at >= @top_pop_start_date')\n",
    "    .groupby(['book_id'])\n",
    "    .agg(users=('user_id', 'nunique'), avg_rating=('rating', 'mean'))\n",
    "    .reset_index()\n",
    ")\n",
    "item_popularity['popularity_weighted'] = (\n",
    "    item_popularity['users'] * item_popularity['avg_rating']\n",
    ")"
   ]
  },
  {
   "cell_type": "code",
   "execution_count": 20,
   "id": "3c1b116c",
   "metadata": {},
   "outputs": [
    {
     "data": {
      "text/html": [
       "<div>\n",
       "<style scoped>\n",
       "    .dataframe tbody tr th:only-of-type {\n",
       "        vertical-align: middle;\n",
       "    }\n",
       "\n",
       "    .dataframe tbody tr th {\n",
       "        vertical-align: top;\n",
       "    }\n",
       "\n",
       "    .dataframe thead th {\n",
       "        text-align: right;\n",
       "    }\n",
       "</style>\n",
       "<table border=\"1\" class=\"dataframe\">\n",
       "  <thead>\n",
       "    <tr style=\"text-align: right;\">\n",
       "      <th></th>\n",
       "      <th>book_id</th>\n",
       "      <th>users</th>\n",
       "      <th>avg_rating</th>\n",
       "      <th>popularity_weighted</th>\n",
       "    </tr>\n",
       "  </thead>\n",
       "  <tbody>\n",
       "    <tr>\n",
       "      <th>32387</th>\n",
       "      <td>18007564</td>\n",
       "      <td>20207</td>\n",
       "      <td>4.321275</td>\n",
       "      <td>87320.0</td>\n",
       "    </tr>\n",
       "    <tr>\n",
       "      <th>32623</th>\n",
       "      <td>18143977</td>\n",
       "      <td>19462</td>\n",
       "      <td>4.290669</td>\n",
       "      <td>83505.0</td>\n",
       "    </tr>\n",
       "    <tr>\n",
       "      <th>30695</th>\n",
       "      <td>16096824</td>\n",
       "      <td>16770</td>\n",
       "      <td>4.301014</td>\n",
       "      <td>72128.0</td>\n",
       "    </tr>\n",
       "  </tbody>\n",
       "</table>\n",
       "</div>"
      ],
      "text/plain": [
       "        book_id  users  avg_rating  popularity_weighted\n",
       "32387  18007564  20207    4.321275              87320.0\n",
       "32623  18143977  19462    4.290669              83505.0\n",
       "30695  16096824  16770    4.301014              72128.0"
      ]
     },
     "execution_count": 20,
     "metadata": {},
     "output_type": "execute_result"
    }
   ],
   "source": [
    "# сортируем по убыванию взвешенной популярности\n",
    "item_popularity = item_popularity.sort_values(\n",
    "    'popularity_weighted',\n",
    "    ascending=False\n",
    ")\n",
    "# выбираем первые 100 айтемов со средней оценкой avg_rating не меньше 4\n",
    "top_k_pop_items = (\n",
    "    item_popularity\n",
    "    .query('avg_rating >= 4')\n",
    "    #.sort_values('popularity_weighted', ascending=False)\n",
    "    .head(100)\n",
    ")\n",
    "\n",
    "top_k_pop_items.head(3)"
   ]
  },
  {
   "cell_type": "markdown",
   "id": "51fc77e9",
   "metadata": {},
   "source": [
    "Задание 5 из 6"
   ]
  },
  {
   "cell_type": "code",
   "execution_count": 21,
   "id": "bf04d50f",
   "metadata": {},
   "outputs": [
    {
     "data": {
      "text/html": [
       "<div>\n",
       "<style scoped>\n",
       "    .dataframe tbody tr th:only-of-type {\n",
       "        vertical-align: middle;\n",
       "    }\n",
       "\n",
       "    .dataframe tbody tr th {\n",
       "        vertical-align: top;\n",
       "    }\n",
       "\n",
       "    .dataframe thead th {\n",
       "        text-align: right;\n",
       "    }\n",
       "</style>\n",
       "<table border=\"1\" class=\"dataframe\">\n",
       "  <thead>\n",
       "    <tr style=\"text-align: right;\">\n",
       "      <th></th>\n",
       "      <th>user_id</th>\n",
       "      <th>book_id</th>\n",
       "      <th>started_at</th>\n",
       "      <th>read_at</th>\n",
       "      <th>is_read</th>\n",
       "      <th>rating</th>\n",
       "      <th>is_reviewed</th>\n",
       "      <th>started_at_month</th>\n",
       "      <th>users</th>\n",
       "      <th>avg_rating</th>\n",
       "      <th>popularity_weighted</th>\n",
       "    </tr>\n",
       "  </thead>\n",
       "  <tbody>\n",
       "    <tr>\n",
       "      <th>0</th>\n",
       "      <td>1361610</td>\n",
       "      <td>6900</td>\n",
       "      <td>2017-10-09</td>\n",
       "      <td>2017-10-13</td>\n",
       "      <td>True</td>\n",
       "      <td>4</td>\n",
       "      <td>False</td>\n",
       "      <td>2017-10-01</td>\n",
       "      <td>NaN</td>\n",
       "      <td>NaN</td>\n",
       "      <td>NaN</td>\n",
       "    </tr>\n",
       "    <tr>\n",
       "      <th>1</th>\n",
       "      <td>1361610</td>\n",
       "      <td>12555</td>\n",
       "      <td>2017-09-21</td>\n",
       "      <td>2017-10-11</td>\n",
       "      <td>True</td>\n",
       "      <td>3</td>\n",
       "      <td>False</td>\n",
       "      <td>2017-09-01</td>\n",
       "      <td>NaN</td>\n",
       "      <td>NaN</td>\n",
       "      <td>NaN</td>\n",
       "    </tr>\n",
       "    <tr>\n",
       "      <th>2</th>\n",
       "      <td>1361610</td>\n",
       "      <td>25899336</td>\n",
       "      <td>2017-09-12</td>\n",
       "      <td>2017-09-17</td>\n",
       "      <td>True</td>\n",
       "      <td>4</td>\n",
       "      <td>True</td>\n",
       "      <td>2017-09-01</td>\n",
       "      <td>4798.0</td>\n",
       "      <td>4.427261</td>\n",
       "      <td>21242.0</td>\n",
       "    </tr>\n",
       "  </tbody>\n",
       "</table>\n",
       "</div>"
      ],
      "text/plain": [
       "   user_id   book_id  started_at     read_at  is_read  rating  is_reviewed  \\\n",
       "0  1361610      6900  2017-10-09  2017-10-13     True       4        False   \n",
       "1  1361610     12555  2017-09-21  2017-10-11     True       3        False   \n",
       "2  1361610  25899336  2017-09-12  2017-09-17     True       4         True   \n",
       "\n",
       "  started_at_month   users  avg_rating  popularity_weighted  \n",
       "0       2017-10-01     NaN         NaN                  NaN  \n",
       "1       2017-09-01     NaN         NaN                  NaN  \n",
       "2       2017-09-01  4798.0    4.427261              21242.0  "
      ]
     },
     "execution_count": 21,
     "metadata": {},
     "output_type": "execute_result"
    }
   ],
   "source": [
    "# Для событий холодных пользователей добавляем данные из top100 (если есть)\n",
    "cold_users_events_with_recs = (\n",
    "    events_test[events_test['user_id'].isin(cold_users)]\n",
    "    .merge(top_k_pop_items, on='book_id', how=\"left\")\n",
    ")\n",
    "\n",
    "cold_users_events_with_recs.head(3)"
   ]
  },
  {
   "cell_type": "code",
   "execution_count": 22,
   "id": "2793ca25",
   "metadata": {},
   "outputs": [
    {
     "data": {
      "text/html": [
       "<div>\n",
       "<style scoped>\n",
       "    .dataframe tbody tr th:only-of-type {\n",
       "        vertical-align: middle;\n",
       "    }\n",
       "\n",
       "    .dataframe tbody tr th {\n",
       "        vertical-align: top;\n",
       "    }\n",
       "\n",
       "    .dataframe thead th {\n",
       "        text-align: right;\n",
       "    }\n",
       "</style>\n",
       "<table border=\"1\" class=\"dataframe\">\n",
       "  <thead>\n",
       "    <tr style=\"text-align: right;\">\n",
       "      <th></th>\n",
       "      <th>user_id</th>\n",
       "      <th>book_id</th>\n",
       "      <th>rating</th>\n",
       "      <th>avg_rating</th>\n",
       "    </tr>\n",
       "  </thead>\n",
       "  <tbody>\n",
       "    <tr>\n",
       "      <th>2</th>\n",
       "      <td>1361610</td>\n",
       "      <td>25899336</td>\n",
       "      <td>4</td>\n",
       "      <td>4.427261</td>\n",
       "    </tr>\n",
       "    <tr>\n",
       "      <th>5</th>\n",
       "      <td>1338996</td>\n",
       "      <td>16096824</td>\n",
       "      <td>5</td>\n",
       "      <td>4.301014</td>\n",
       "    </tr>\n",
       "    <tr>\n",
       "      <th>8</th>\n",
       "      <td>1338996</td>\n",
       "      <td>18692431</td>\n",
       "      <td>5</td>\n",
       "      <td>4.071454</td>\n",
       "    </tr>\n",
       "  </tbody>\n",
       "</table>\n",
       "</div>"
      ],
      "text/plain": [
       "   user_id   book_id  rating  avg_rating\n",
       "2  1361610  25899336       4    4.427261\n",
       "5  1338996  16096824       5    4.301014\n",
       "8  1338996  18692431       5    4.071454"
      ]
     },
     "execution_count": 22,
     "metadata": {},
     "output_type": "execute_result"
    }
   ],
   "source": [
    "# Индексы событий НЕ из top100\n",
    "cold_user_items_no_avg_rating_idx = (\n",
    "    cold_users_events_with_recs['avg_rating'].isnull()\n",
    ")\n",
    "# События холодных пользователей с книгами из top100\n",
    "cold_user_recs = (\n",
    "    cold_users_events_with_recs[~cold_user_items_no_avg_rating_idx]\n",
    "    [['user_id', 'book_id', 'rating', 'avg_rating']]\n",
    ")\n",
    "cold_user_recs.head(3)"
   ]
  },
  {
   "cell_type": "code",
   "execution_count": 23,
   "id": "0224dff0",
   "metadata": {},
   "outputs": [
    {
     "data": {
      "text/plain": [
       "1912"
      ]
     },
     "execution_count": 23,
     "metadata": {},
     "output_type": "execute_result"
    }
   ],
   "source": [
    "len(cold_user_recs)"
   ]
  },
  {
   "cell_type": "code",
   "execution_count": 24,
   "id": "699aa93d",
   "metadata": {},
   "outputs": [
    {
     "data": {
      "text/plain": [
       "9672"
      ]
     },
     "execution_count": 24,
     "metadata": {},
     "output_type": "execute_result"
    }
   ],
   "source": [
    "len(cold_users_events_with_recs)"
   ]
  },
  {
   "cell_type": "code",
   "execution_count": 25,
   "id": "0fa2a89e",
   "metadata": {},
   "outputs": [
    {
     "data": {
      "text/plain": [
       "7760"
      ]
     },
     "execution_count": 25,
     "metadata": {},
     "output_type": "execute_result"
    }
   ],
   "source": [
    "cold_user_items_no_avg_rating_idx.sum()"
   ]
  },
  {
   "cell_type": "code",
   "execution_count": 26,
   "id": "365eb63f",
   "metadata": {},
   "outputs": [
    {
     "data": {
      "text/plain": [
       "0.8023159636062862"
      ]
     },
     "execution_count": 26,
     "metadata": {},
     "output_type": "execute_result"
    }
   ],
   "source": [
    "1- len(cold_user_recs) / len(cold_users_events_with_recs)"
   ]
  },
  {
   "cell_type": "markdown",
   "id": "18d9662c",
   "metadata": {},
   "source": [
    "Задание 6 из 6"
   ]
  },
  {
   "cell_type": "code",
   "execution_count": 27,
   "id": "eb83e34a",
   "metadata": {},
   "outputs": [
    {
     "name": "stdout",
     "output_type": "stream",
     "text": [
      "0.78 0.62\n"
     ]
    }
   ],
   "source": [
    "# посчитаем метрики рекомендаций\n",
    "from sklearn.metrics import mean_squared_error, mean_absolute_error\n",
    "\n",
    "rmse = mean_squared_error(\n",
    "    cold_user_recs['rating'], \n",
    "    cold_user_recs['avg_rating'],\n",
    "    squared=False\n",
    ")\n",
    "mae = mean_absolute_error(\n",
    "    cold_user_recs['rating'],\n",
    "    cold_user_recs['avg_rating']\n",
    ")\n",
    "print(round(rmse, 2), round(mae, 2)) "
   ]
  },
  {
   "cell_type": "markdown",
   "id": "77213293",
   "metadata": {},
   "source": [
    "Доп. код"
   ]
  },
  {
   "cell_type": "code",
   "execution_count": 28,
   "id": "eea0dc91",
   "metadata": {},
   "outputs": [
    {
     "name": "stdout",
     "output_type": "stream",
     "text": [
      "Доля пользователей без релевантных рекомендаций: 0.59\n",
      "Среднее покрытие пользователей: 0.44\n"
     ]
    }
   ],
   "source": [
    "# посчитаем покрытие холодных пользователей рекомендациями\n",
    "\n",
    "cold_users_hit_ratio = cold_users_events_with_recs.groupby(\"user_id\").agg(hits=(\"avg_rating\", lambda x: (~x.isnull()).mean()))\n",
    "\n",
    "print(f\"Доля пользователей без релевантных рекомендаций: {(cold_users_hit_ratio == 0).mean().iat[0]:.2f}\")\n",
    "print(f\"Среднее покрытие пользователей: {cold_users_hit_ratio[cold_users_hit_ratio != 0].mean().iat[0]:.2f}\") "
   ]
  },
  {
   "cell_type": "markdown",
   "id": "65ef157d-dd5a-4882-8208-40cd9cdfebfc",
   "metadata": {},
   "source": [
    "# === Знакомство: первые персональные рекомендации"
   ]
  },
  {
   "cell_type": "code",
   "execution_count": null,
   "id": "b687dc99-9aee-472f-9730-d5f17df99c7e",
   "metadata": {},
   "outputs": [],
   "source": []
  },
  {
   "cell_type": "code",
   "execution_count": null,
   "id": "bc62fbc2-36de-4ccb-bd2f-33594eafa2ff",
   "metadata": {},
   "outputs": [],
   "source": []
  },
  {
   "cell_type": "code",
   "execution_count": null,
   "id": "4e804e6f-3348-407c-aa3c-fc50b6045d8d",
   "metadata": {},
   "outputs": [],
   "source": []
  },
  {
   "cell_type": "markdown",
   "id": "3817eb52-1161-4e4e-a263-0cb616794a8e",
   "metadata": {},
   "source": [
    "# === Базовые подходы: коллаборативная фильтрация"
   ]
  },
  {
   "cell_type": "code",
   "execution_count": null,
   "id": "21789993-d0cd-4e74-96af-b3966d0f44c3",
   "metadata": {},
   "outputs": [],
   "source": []
  },
  {
   "cell_type": "code",
   "execution_count": null,
   "id": "9a96f98d-0270-4a06-9063-a687dbffeca5",
   "metadata": {},
   "outputs": [],
   "source": []
  },
  {
   "cell_type": "code",
   "execution_count": null,
   "id": "be389837-995e-4e57-928b-77293b7f1106",
   "metadata": {},
   "outputs": [],
   "source": []
  },
  {
   "cell_type": "markdown",
   "id": "62575f67-f46e-4747-b3de-6ff5a87d0eba",
   "metadata": {},
   "source": [
    "# === Базовые подходы: контентные рекомендации"
   ]
  },
  {
   "cell_type": "code",
   "execution_count": null,
   "id": "5ae7f494-3ee9-4f49-a61b-9dfb411518bd",
   "metadata": {},
   "outputs": [],
   "source": []
  },
  {
   "cell_type": "code",
   "execution_count": null,
   "id": "5f655832-4caa-4290-9b34-388e7b3f5d37",
   "metadata": {},
   "outputs": [],
   "source": []
  },
  {
   "cell_type": "code",
   "execution_count": null,
   "id": "d8f945a6-bd08-4f17-84a3-4a82e00a29c6",
   "metadata": {},
   "outputs": [],
   "source": []
  },
  {
   "cell_type": "markdown",
   "id": "dfdeb7c3-0935-4bee-8b93-dfe26091289b",
   "metadata": {},
   "source": [
    "# === Базовые подходы: валидация"
   ]
  },
  {
   "cell_type": "code",
   "execution_count": null,
   "id": "05850eab-168a-4338-8692-cd1a8fefb685",
   "metadata": {},
   "outputs": [],
   "source": []
  },
  {
   "cell_type": "code",
   "execution_count": null,
   "id": "28f429e6-b9da-4231-afba-25dd8e606a23",
   "metadata": {},
   "outputs": [],
   "source": []
  },
  {
   "cell_type": "code",
   "execution_count": null,
   "id": "b4e4509b-6289-4ad6-a767-cbb2ace791ee",
   "metadata": {},
   "outputs": [],
   "source": []
  },
  {
   "cell_type": "markdown",
   "id": "f78475fc-bee1-48f4-be55-329db8ecd326",
   "metadata": {},
   "source": [
    "# === Двухстадийный подход: метрики"
   ]
  },
  {
   "cell_type": "code",
   "execution_count": null,
   "id": "2a4cf639-1afa-4e89-8ba5-eee48a1bd0e1",
   "metadata": {},
   "outputs": [],
   "source": []
  },
  {
   "cell_type": "code",
   "execution_count": null,
   "id": "48e4d676-ede1-4725-8e31-457ebc0452da",
   "metadata": {},
   "outputs": [],
   "source": []
  },
  {
   "cell_type": "code",
   "execution_count": null,
   "id": "d99db2ab-231d-4cf8-8221-5e00e9e6e4c0",
   "metadata": {},
   "outputs": [],
   "source": []
  },
  {
   "cell_type": "markdown",
   "id": "4fbae6b6-b1e2-4bbf-b1ad-227f2916917f",
   "metadata": {},
   "source": [
    "# === Двухстадийный подход: модель"
   ]
  },
  {
   "cell_type": "code",
   "execution_count": null,
   "id": "2ef764d6-f2cc-4e72-bd7f-81a69dd7380d",
   "metadata": {},
   "outputs": [],
   "source": []
  },
  {
   "cell_type": "code",
   "execution_count": null,
   "id": "9dcc8048-f4b5-411f-913a-fd73c6a6ff2a",
   "metadata": {},
   "outputs": [],
   "source": []
  },
  {
   "cell_type": "code",
   "execution_count": null,
   "id": "dd6c82df-981f-441a-8dc2-c7b06ab2b6f7",
   "metadata": {},
   "outputs": [],
   "source": []
  },
  {
   "cell_type": "markdown",
   "id": "29b6ebd5-38a3-4f8e-8941-2f91fa70ca4e",
   "metadata": {},
   "source": [
    "# === Двухстадийный подход: построение признаков"
   ]
  },
  {
   "cell_type": "code",
   "execution_count": null,
   "id": "8788cba9-0396-46a2-b2af-1ecbd65b944e",
   "metadata": {},
   "outputs": [],
   "source": []
  },
  {
   "cell_type": "code",
   "execution_count": null,
   "id": "27aed9a2-88d9-4375-b0b0-7333aea7b1e0",
   "metadata": {},
   "outputs": [],
   "source": []
  },
  {
   "cell_type": "code",
   "execution_count": null,
   "id": "344f7f13-e43e-490c-a816-43d25c5a4a5f",
   "metadata": {},
   "outputs": [],
   "source": []
  }
 ],
 "metadata": {
  "kernelspec": {
   "display_name": "Python 3 (ipykernel)",
   "language": "python",
   "name": "python3"
  },
  "language_info": {
   "codemirror_mode": {
    "name": "ipython",
    "version": 3
   },
   "file_extension": ".py",
   "mimetype": "text/x-python",
   "name": "python",
   "nbconvert_exporter": "python",
   "pygments_lexer": "ipython3",
   "version": "3.10.12"
  }
 },
 "nbformat": 4,
 "nbformat_minor": 5
}
